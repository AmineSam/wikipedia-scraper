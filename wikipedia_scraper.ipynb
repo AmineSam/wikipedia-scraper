{
  "cells": [
    {
      "cell_type": "markdown",
      "metadata": {
        "id": "rru15J6cT0aF"
      },
      "source": [
        "# Your first scraper\n",
        "In this project, we will guide you step by step through the process of:\n",
        "\n",
        "1. creating a self-contained development environment.\n",
        "1. retrieving some information from an API (a website for computers)\n",
        "2. leveraging it to scrape a website that does not provide an API\n",
        "3. saving the output for later processing\n",
        "\n",
        "Here we query an API for a list of countries and their past leaders. We then extract and sanitize their short bio from Wikipedia. Finally, we save the data to disk.\n",
        "\n",
        "This task is often the first (coding) step of a datascience project and you will often come back to it in the future.\n",
        "\n",
        "You will study topics such as *scraping*, *data structures*, *regular expressions*, *concurrency* and *file handling*. We will point out useful resources at the appropriate time. \n",
        "\n",
        "Let's dive in!"
      ]
    },
    {
      "attachments": {},
      "cell_type": "markdown",
      "metadata": {},
      "source": [
        "## 0. Creating a clean environment\n",
        "\n",
        "Use the [`venv`](https://docs.python.org/3/library/venv.html) command to create a new environment called `wikipedia_scraper_env`.\n",
        "\n",
        "Activate it and add it to you `.gitignore` file. \n",
        "\n",
        "You will find more info about virtual environments in the course content and on the web."
      ]
    },
    {
      "cell_type": "markdown",
      "metadata": {
        "id": "48qvKH56a1Wy"
      },
      "source": [
        "## 1. API Scraping\n",
        "\n",
        "### 1a. A simple API query\n",
        "You will start with the basics: how to do a simple request to an [API endpoint](../../2.python/2.python_advanced/05.Scraping/5.apis.ipynb).\n",
        "\n",
        "You will use the [requests](https://requests.readthedocs.io/en/latest/) external library through the `import` keyword. NOTE: external libraries need to be installed first. Check the [request Quickstart](https://requests.readthedocs.io/en/latest/user/quickstart/) section of the documentation to:\n",
        "\n",
        "1. Use the `get()` method to connect to this endpoint: https://country-leaders.onrender.com/status\n",
        "2. Check if the `status_code` is equal to 200, which means OK.\n",
        "    * if OK, `print()` the `text`` of the response.\n",
        "    * if not, `print()` the `status_code`. \n",
        "\n",
        "Here is an explanation of [HTTP status codes](https://en.wikipedia.org/wiki/List_of_HTTP_status_codes).\n"
      ]
    },
    {
      "cell_type": "code",
      "execution_count": 145,
      "metadata": {
        "id": "9baoMWgIcK3E"
      },
      "outputs": [
        {
          "name": "stdout",
          "output_type": "stream",
          "text": [
            "\"Alive\"\n"
          ]
        }
      ],
      "source": [
        "# import the requests library (1 line)\n",
        "import requests\n",
        "\n",
        "# (optional) we'll use pandas later for CSV/JSON handling\n",
        "import pandas\n",
        "\n",
        "# assign the root url (without /status) to the root_url variable for ease of reference (1 line)\n",
        "root_url = \"https://country-leaders.onrender.com\"\n",
        "\n",
        "# assign the /status endpoint to another variable called status_url (1 line)\n",
        "status_url = f\"{root_url}/status\"\n",
        "\n",
        "# query the /status endpoint using the get() method and store it in the req variable (1 line)\n",
        "req = requests.get(status_url)\n",
        "\n",
        "# check the status_code using a condition and print appropriate messages (4 lines)\n",
        "if req.status_code == 200:\n",
        "    print(req.text)\n",
        "else:\n",
        "    print(req.status_code)\n"
      ]
    },
    {
      "cell_type": "markdown",
      "metadata": {
        "id": "TL72ovJUcZTA"
      },
      "source": [
        "### 1b. Dealing with JSON\n",
        "\n",
        "[JSON](https://quickref.me/json) is the preferred format to deal with data over the web. You cannot avoid it so you would better get acquainted.\n",
        "\n",
        "Connect to another endpoint called `/countries` but this time the API will return data in the JSON format. \n"
      ]
    },
    {
      "cell_type": "code",
      "execution_count": 146,
      "metadata": {
        "id": "Y0DLiYCWcg5W"
      },
      "outputs": [
        {
          "name": "stdout",
          "output_type": "stream",
          "text": [
            "403 {'message': 'The cookie is missing'}\n"
          ]
        }
      ],
      "source": [
        "# Set the countries_url variable (1 line)\n",
        "countries_url = f\"{root_url}/countries\"\n",
        "\n",
        "# query the /countries endpoint using the get() method and store it in the req variable (1 line)\n",
        "req = requests.get(countries_url)\n",
        "\n",
        "# Get the JSON content and store it in the countries variable (1 line)\n",
        "countries = req.json()\n",
        "\n",
        "# display the request's status code and the countries variable (1 line)\n",
        "print(req.status_code, countries)\n"
      ]
    },
    {
      "cell_type": "markdown",
      "metadata": {
        "id": "1x25JA6vaRBi"
      },
      "source": [
        "### 1c. Cookies anyone?\n",
        "\n",
        "It looks like the access to this API is restricted...\n",
        "Query the `/cookie` endpoint and extract the appropriate field to access your cookie.\n",
        "\n",
        "You will need to use this cookie in each of the following API requests."
      ]
    },
    {
      "cell_type": "code",
      "execution_count": 147,
      "metadata": {
        "id": "dTDwpN9Q3nk_"
      },
      "outputs": [
        {
          "data": {
            "text/plain": [
              "<RequestsCookieJar[Cookie(version=0, name='user_cookie', value='364db5ea-eb47-421b-aacb-a427540bedca', port=None, port_specified=False, domain='country-leaders.onrender.com', domain_specified=False, domain_initial_dot=False, path='/', path_specified=True, secure=False, expires=None, discard=True, comment=None, comment_url=None, rest={'SameSite': 'lax'}, rfc2109=False)]>"
            ]
          },
          "execution_count": 147,
          "metadata": {},
          "output_type": "execute_result"
        }
      ],
      "source": [
        "# Set the cookie_url variable (1 line)\n",
        "cookie_url = f\"{root_url}/cookie\"\n",
        "\n",
        "# Query the endpoint, set the cookies variable and display it (2 lines)\n",
        "response = requests.get(cookie_url)\n",
        "cookies = response.cookies\n",
        "cookies\n"
      ]
    },
    {
      "cell_type": "markdown",
      "metadata": {
        "id": "DHBNaFJo2M9e"
      },
      "source": [
        "Try to query the countries endpoint using the cookie, save the output and print it."
      ]
    },
    {
      "cell_type": "code",
      "execution_count": 148,
      "metadata": {
        "id": "9Y63sTXY7ppT"
      },
      "outputs": [
        {
          "name": "stdout",
          "output_type": "stream",
          "text": [
            "['be', 'us', 'ru', 'fr', 'ma']\n"
          ]
        }
      ],
      "source": [
        "# query the /countries endpoint, assign the output to the countries variable (1 line)\n",
        "countries = requests.get(countries_url, cookies=cookies).json()\n",
        "\n",
        "# display the countries variable (1 line)\n",
        "print(countries)\n"
      ]
    },
    {
      "cell_type": "markdown",
      "metadata": {
        "id": "I3HmuGTT9lU1"
      },
      "source": [
        "Chances are the cookie has expired... Thanksfully, you got a nice error message. For now, simply execute the last 2 cells quickly so you get a result."
      ]
    },
    {
      "cell_type": "markdown",
      "metadata": {
        "id": "Egv40GBV8rSH"
      },
      "source": [
        "### 1d. Getting the actual data from the API\n",
        "\n",
        "Query the `/leaders` endpoint."
      ]
    },
    {
      "cell_type": "code",
      "execution_count": 149,
      "metadata": {
        "id": "ZwLFqcBA8PaD"
      },
      "outputs": [
        {
          "name": "stdout",
          "output_type": "stream",
          "text": [
            "be\n",
            "[{'id': 'Q12978', 'first_name': 'Guy', 'last_name': 'Verhofstadt', 'birth_date': '1953-04-11', 'death_date': None, 'place_of_birth': 'Dendermonde', 'wikipedia_url': 'https://nl.wikipedia.org/wiki/Guy_Verhofstadt', 'start_mandate': '1999-07-12', 'end_mandate': '2008-03-20'}, {'id': 'Q12981', 'first_name': 'Yves', 'last_name': 'Leterme', 'birth_date': '1960-10-06', 'death_date': None, 'place_of_birth': 'Wervik', 'wikipedia_url': 'https://nl.wikipedia.org/wiki/Yves_Leterme', 'start_mandate': '2009-11-25', 'end_mandate': '2011-12-06'}, {'id': 'Q12983', 'first_name': 'Herman', 'last_name': 'None', 'birth_date': '1947-10-31', 'death_date': None, 'place_of_birth': 'Etterbeek', 'wikipedia_url': 'https://nl.wikipedia.org/wiki/Herman_Van_Rompuy', 'start_mandate': '2008-12-30', 'end_mandate': '2009-11-25'}, {'id': 'Q14989', 'first_name': 'Léon', 'last_name': 'Delacroix', 'birth_date': '1867-12-27', 'death_date': '1929-10-15', 'place_of_birth': 'Saint-Josse-ten-Noode', 'wikipedia_url': 'https://nl.wikipedia.org/wiki/L%C3%A9on_Delacroix', 'start_mandate': '1918-11-21', 'end_mandate': '1920-11-20'}, {'id': 'Q14990', 'first_name': 'Henry', 'last_name': 'Carton', 'birth_date': '1869-01-31', 'death_date': '1951-05-06', 'place_of_birth': 'Brussels', 'wikipedia_url': 'https://nl.wikipedia.org/wiki/Henri_Carton_de_Wiart', 'start_mandate': '1920-11-20', 'end_mandate': '1921-12-16'}, {'id': 'Q14991', 'first_name': 'Georges', 'last_name': 'Theunis', 'birth_date': '1873-02-28', 'death_date': '1966-01-04', 'place_of_birth': 'Montegnée', 'wikipedia_url': 'https://nl.wikipedia.org/wiki/Georges_Theunis', 'start_mandate': '1934-11-20', 'end_mandate': '1935-03-25'}, {'id': 'Q14992', 'first_name': 'Aloïs', 'last_name': 'Van de Vyvere', 'birth_date': '1871-06-08', 'death_date': '1961-10-22', 'place_of_birth': 'Tielt', 'wikipedia_url': 'https://nl.wikipedia.org/wiki/Aloys_Van_de_Vyvere', 'start_mandate': '1925-05-13', 'end_mandate': '1925-06-17'}, {'id': 'Q14993', 'first_name': 'Prosper', 'last_name': 'Poullet', 'birth_date': '1868-03-05', 'death_date': '1937-12-03', 'place_of_birth': 'Leuven', 'wikipedia_url': 'https://nl.wikipedia.org/wiki/Prosper_Poullet', 'start_mandate': '1925-06-17', 'end_mandate': '1926-05-20'}, {'id': 'Q14994', 'first_name': 'Henri', 'last_name': 'Jaspar', 'birth_date': '1870-07-28', 'death_date': '1939-02-15', 'place_of_birth': 'Schaerbeek - Schaarbeek', 'wikipedia_url': 'https://nl.wikipedia.org/wiki/Henri_Jaspar', 'start_mandate': '1926-05-20', 'end_mandate': '1931-06-06'}, {'id': 'Q14995', 'first_name': 'Jules', 'last_name': 'None', 'birth_date': '1862-12-03', 'death_date': '1934-07-15', 'place_of_birth': 'Ixelles - Elsene', 'wikipedia_url': 'https://nl.wikipedia.org/wiki/Jules_Renkin', 'start_mandate': '1931-06-06', 'end_mandate': '1932-10-22'}, {'id': 'Q14996', 'first_name': 'Paul', 'last_name': 'Van Zeeland', 'birth_date': '1893-11-11', 'death_date': '1973-09-22', 'place_of_birth': 'Soignies', 'wikipedia_url': 'https://nl.wikipedia.org/wiki/Paul_van_Zeeland', 'start_mandate': '1935-03-25', 'end_mandate': '1937-11-24'}, {'id': 'Q14997', 'first_name': 'Achille', 'last_name': 'Van Acker', 'birth_date': '1898-04-08', 'death_date': '1975-07-10', 'place_of_birth': 'Bruges', 'wikipedia_url': 'https://nl.wikipedia.org/wiki/Achiel_Van_Acker', 'start_mandate': '1954-04-23', 'end_mandate': '1958-06-26'}, {'id': 'Q14998', 'first_name': 'Camille', 'last_name': 'Huysmans', 'birth_date': '1871-05-26', 'death_date': '1968-02-25', 'place_of_birth': 'Bilzen', 'wikipedia_url': 'https://nl.wikipedia.org/wiki/Camille_Huysmans', 'start_mandate': '1946-08-03', 'end_mandate': '1947-03-20'}, {'id': 'Q14999', 'first_name': 'Gaston', 'last_name': 'Eyskens', 'birth_date': '1905-04-01', 'death_date': '1988-01-03', 'place_of_birth': 'Lier', 'wikipedia_url': 'https://nl.wikipedia.org/wiki/Gaston_Eyskens', 'start_mandate': '1968-07-17', 'end_mandate': '1973-01-26'}, {'id': 'Q15002', 'first_name': 'Leo', 'last_name': 'Tindemans', 'birth_date': '1922-04-16', 'death_date': '2014-12-26', 'place_of_birth': 'Zwijndrecht', 'wikipedia_url': 'https://nl.wikipedia.org/wiki/Leo_Tindemans', 'start_mandate': '1974-04-25', 'end_mandate': '1978-10-20'}, {'id': 'Q15048', 'first_name': 'Elio', 'last_name': 'Di Rupo', 'birth_date': '1951-07-18', 'death_date': None, 'place_of_birth': 'Morlanwelz', 'wikipedia_url': 'https://nl.wikipedia.org/wiki/Elio_Di_Rupo', 'start_mandate': '2011-12-06', 'end_mandate': '2014-10-11'}, {'id': 'Q15056', 'first_name': 'Jean-Luc', 'last_name': 'Dehaene', 'birth_date': '1940-08-07', 'death_date': '2014-05-15', 'place_of_birth': 'Montpellier', 'wikipedia_url': 'https://nl.wikipedia.org/wiki/Jean-Luc_Dehaene', 'start_mandate': '1992-03-07', 'end_mandate': '1999-07-12'}, {'id': 'Q15956', 'first_name': 'Frans', 'last_name': 'Schollaert', 'birth_date': '1851-08-19', 'death_date': '1917-06-29', 'place_of_birth': 'Wilsele', 'wikipedia_url': 'https://nl.wikipedia.org/wiki/Frans_Schollaert', 'start_mandate': '1908-01-09', 'end_mandate': '1911-06-17'}, {'id': 'Q143202', 'first_name': 'Pieter', 'last_name': 'Decker', 'birth_date': '1812-01-25', 'death_date': '1891-01-04', 'place_of_birth': 'Zele', 'wikipedia_url': 'https://nl.wikipedia.org/wiki/Pieter_de_Decker', 'start_mandate': '1855-03-30', 'end_mandate': '1857-11-09'}, {'id': 'Q155691', 'first_name': 'Paul-Henri', 'last_name': 'Spaak', 'birth_date': '1899-01-25', 'death_date': '1972-07-31', 'place_of_birth': 'Schaerbeek - Schaarbeek', 'wikipedia_url': 'https://nl.wikipedia.org/wiki/Paul-Henri_Spaak', 'start_mandate': '1947-03-20', 'end_mandate': '1949-08-11'}, {'id': 'Q202049', 'first_name': 'Auguste', 'last_name': 'Beernaert', 'birth_date': '1829-07-26', 'death_date': '1912-10-06', 'place_of_birth': 'Ostend', 'wikipedia_url': 'https://nl.wikipedia.org/wiki/Auguste_Beernaert', 'start_mandate': '1884-10-26', 'end_mandate': '1894-03-26'}, {'id': 'Q221781', 'first_name': 'Théodore', 'last_name': 'Lefèvre', 'birth_date': '1914-01-17', 'death_date': '1973-09-18', 'place_of_birth': 'Ghent', 'wikipedia_url': 'https://nl.wikipedia.org/wiki/Th%C3%A9o_Lef%C3%A8vre', 'start_mandate': '1961-04-25', 'end_mandate': '1965-07-28'}, {'id': 'Q250021', 'first_name': 'Paul', 'last_name': 'None', 'birth_date': '1919-05-22', 'death_date': '2001-01-09', 'place_of_birth': 'Forest', 'wikipedia_url': 'https://nl.wikipedia.org/wiki/Paul_Vanden_Boeynants', 'start_mandate': '1978-10-20', 'end_mandate': '1979-04-03'}, {'id': 'Q289570', 'first_name': 'Étienne', 'last_name': 'Gerlache', 'birth_date': '1785-12-26', 'death_date': '1871-02-10', 'place_of_birth': 'Château of Biourge', 'wikipedia_url': 'https://nl.wikipedia.org/wiki/Etienne_de_Gerlache', 'start_mandate': '1831-02-27', 'end_mandate': '1831-03-10'}, {'id': 'Q313809', 'first_name': 'Wilfried', 'last_name': 'Martens', 'birth_date': '1936-04-19', 'death_date': '2013-10-09', 'place_of_birth': 'Sleidinge', 'wikipedia_url': 'https://nl.wikipedia.org/wiki/Wilfried_Martens', 'start_mandate': '1981-12-17', 'end_mandate': '1992-03-07'}, {'id': 'Q349477', 'first_name': 'Mark', 'last_name': 'Eyskens', 'birth_date': '1933-04-29', 'death_date': None, 'place_of_birth': 'Leuven', 'wikipedia_url': 'https://nl.wikipedia.org/wiki/Mark_Eyskens', 'start_mandate': '1981-04-06', 'end_mandate': '1981-12-17'}, {'id': 'Q363942', 'first_name': 'Pierre', 'last_name': 'Harmel', 'birth_date': '1911-03-16', 'death_date': '2009-11-15', 'place_of_birth': 'Uccle', 'wikipedia_url': 'https://nl.wikipedia.org/wiki/Pierre_Harmel', 'start_mandate': '1965-07-28', 'end_mandate': '1966-03-19'}, {'id': 'Q442578', 'first_name': 'Hubert', 'last_name': 'Pierlot', 'birth_date': '1883-12-23', 'death_date': '1963-12-13', 'place_of_birth': 'Bertrix', 'wikipedia_url': 'https://nl.wikipedia.org/wiki/Hubert_Pierlot', 'start_mandate': '1939-02-22', 'end_mandate': '1945-02-12'}, {'id': 'Q446472', 'first_name': 'Jean-Baptiste', 'last_name': 'Nothomb', 'birth_date': '1805-07-03', 'death_date': '1881-09-16', 'place_of_birth': 'Messancy', 'wikipedia_url': 'https://nl.wikipedia.org/wiki/Jean-Baptiste_Nothomb', 'start_mandate': '1841-04-13', 'end_mandate': '1845-07-30'}, {'id': 'Q461745', 'first_name': 'Edmond', 'last_name': 'None', 'birth_date': '1915-04-18', 'death_date': '1997-06-15', 'place_of_birth': 'Lantremange', 'wikipedia_url': 'https://nl.wikipedia.org/wiki/Edmond_Leburton', 'start_mandate': '1973-01-26', 'end_mandate': '1974-04-25'}, {'id': 'Q461753', 'first_name': 'Jean', 'last_name': 'None', 'birth_date': '1900-04-10', 'death_date': '1977-10-11', 'place_of_birth': 'Frasnes-lez-Gosselies', 'wikipedia_url': 'https://nl.wikipedia.org/wiki/Jean_Duvieusart', 'start_mandate': '1950-06-08', 'end_mandate': '1950-08-16'}, {'id': 'Q468104', 'first_name': 'Joseph', 'last_name': 'Lebeau', 'birth_date': '1794-01-03', 'death_date': '1865-03-19', 'place_of_birth': 'Huy', 'wikipedia_url': 'https://nl.wikipedia.org/wiki/Joseph_Lebeau', 'start_mandate': '1840-04-18', 'end_mandate': '1841-04-13'}, {'id': 'Q468109', 'first_name': 'Charles', 'last_name': 'Rogier', 'birth_date': '1800-08-17', 'death_date': '1885-05-27', 'place_of_birth': 'Saint-Quentin', 'wikipedia_url': 'https://nl.wikipedia.org/wiki/Charles_Rogier', 'start_mandate': '1857-11-09', 'end_mandate': '1868-01-03'}, {'id': 'Q472257', 'first_name': 'Barthélemy', 'last_name': 'None', 'birth_date': '1794-02-26', 'death_date': '1874-08-24', 'place_of_birth': 'Kasteel van Schabroek', 'wikipedia_url': 'https://nl.wikipedia.org/wiki/Barth%C3%A9lemy_de_Theux_de_Meylandt', 'start_mandate': '1871-12-07', 'end_mandate': '1874-08-21'}, {'id': 'Q472276', 'first_name': 'Felix', 'last_name': 'None', 'birth_date': '1793-04-05', 'death_date': '1862-08-05', 'place_of_birth': 'Pittem', 'wikipedia_url': 'https://nl.wikipedia.org/wiki/Felix_de_M%C3%BBelenaere', 'start_mandate': '1831-07-24', 'end_mandate': '1832-10-20'}, {'id': 'Q476596', 'first_name': 'Alexander', 'last_name': 'De Croo', 'birth_date': '1975-11-03', 'death_date': None, 'place_of_birth': 'Vilvoorde', 'wikipedia_url': 'https://nl.wikipedia.org/wiki/Alexander_De_Croo', 'start_mandate': '2020-10-01', 'end_mandate': None}, {'id': 'Q527479', 'first_name': 'Henri', 'last_name': 'de Brouckère', 'birth_date': '1801-01-25', 'death_date': '1891-01-25', 'place_of_birth': 'Bruges', 'wikipedia_url': 'https://nl.wikipedia.org/wiki/Henri_de_Brouck%C3%A8re', 'start_mandate': '1852-10-31', 'end_mandate': '1855-03-30'}, {'id': 'Q533339', 'first_name': 'Albert', 'last_name': 'None', 'birth_date': '1790-05-26', 'death_date': '1873-05-05', 'place_of_birth': 'Tournai', 'wikipedia_url': 'https://nl.wikipedia.org/wiki/Albert_Goblet_d%27Alviella', 'start_mandate': '1832-10-20', 'end_mandate': '1834-08-04'}, {'id': 'Q546727', 'first_name': 'Sylvain', 'last_name': 'Weyer', 'birth_date': '1802-01-19', 'death_date': '1874-05-23', 'place_of_birth': 'Leuven', 'wikipedia_url': 'https://nl.wikipedia.org/wiki/Sylvain_Van_de_Weyer', 'start_mandate': '1845-07-30', 'end_mandate': '1846-03-31'}, {'id': 'Q569138', 'first_name': 'Jules', 'last_name': 'Burlet', 'birth_date': '1844-04-10', 'death_date': '1897-03-01', 'place_of_birth': 'Ixelles - Elsene', 'wikipedia_url': 'https://nl.wikipedia.org/wiki/Jules_de_Burlet', 'start_mandate': '1894-03-26', 'end_mandate': '1896-02-25'}, {'id': 'Q665955', 'first_name': 'Paul-Émile', 'last_name': 'None', 'birth_date': '1872-05-30', 'death_date': '1944-03-03', 'place_of_birth': 'Brussels metropolitan area', 'wikipedia_url': 'https://nl.wikipedia.org/wiki/Paul-Emile_Janson', 'start_mandate': '1937-11-24', 'end_mandate': '1938-05-15'}, {'id': 'Q678535', 'first_name': 'Jules', 'last_name': 'Malou', 'birth_date': '1810-10-19', 'death_date': '1886-07-11', 'place_of_birth': 'Ypres', 'wikipedia_url': 'https://nl.wikipedia.org/wiki/Jules_Malou', 'start_mandate': '1884-06-16', 'end_mandate': '1884-10-26'}, {'id': 'Q705103', 'first_name': 'Charles', 'last_name': 'Broqueville', 'birth_date': '1860-12-04', 'death_date': '1940-09-05', 'place_of_birth': 'Postel', 'wikipedia_url': 'https://nl.wikipedia.org/wiki/Charles_de_Broqueville', 'start_mandate': '1932-10-22', 'end_mandate': '1934-11-20'}, {'id': 'Q705111', 'first_name': 'Joseph', 'last_name': 'Pholien', 'birth_date': '1884-12-28', 'death_date': '1968-01-04', 'place_of_birth': 'Liège', 'wikipedia_url': 'https://nl.wikipedia.org/wiki/Joseph_Pholien', 'start_mandate': '1950-08-16', 'end_mandate': '1952-01-15'}, {'id': 'Q705128', 'first_name': 'Jean', 'last_name': 'Van Houtte', 'birth_date': '1907-03-17', 'death_date': '1991-05-23', 'place_of_birth': 'Ghent', 'wikipedia_url': 'https://nl.wikipedia.org/wiki/Jean_Van_Houtte', 'start_mandate': '1952-01-15', 'end_mandate': '1954-04-23'}, {'id': 'Q705791', 'first_name': 'Walthère', 'last_name': 'Frère', 'birth_date': '1812-04-22', 'death_date': '1896-01-02', 'place_of_birth': 'Liège', 'wikipedia_url': 'https://nl.wikipedia.org/wiki/Walth%C3%A8re_Fr%C3%A8re-Orban', 'start_mandate': '1878-06-19', 'end_mandate': '1884-06-16'}, {'id': 'Q719483', 'first_name': 'Gérard', 'last_name': 'Cooreman', 'birth_date': '1852-03-25', 'death_date': '1926-12-02', 'place_of_birth': 'Ghent', 'wikipedia_url': 'https://nl.wikipedia.org/wiki/Gerard_Cooreman', 'start_mandate': '1918-06-01', 'end_mandate': '1918-11-21'}, {'id': 'Q721772', 'first_name': 'Jules', 'last_name': 'Vandenpeereboom', 'birth_date': '1843-03-18', 'death_date': '1917-03-06', 'place_of_birth': 'Kortrijk', 'wikipedia_url': 'https://nl.wikipedia.org/wiki/Jules_Vandenpeereboom', 'start_mandate': '1899-01-24', 'end_mandate': '1899-08-05'}, {'id': 'Q721781', 'first_name': 'Paul', 'last_name': 'None', 'birth_date': '1843-05-13', 'death_date': '1913-09-09', 'place_of_birth': 'Ghent', 'wikipedia_url': 'https://nl.wikipedia.org/wiki/Paul_de_Smet_de_Naeyer', 'start_mandate': '1899-08-05', 'end_mandate': '1907-05-02'}, {'id': 'Q721798', 'first_name': 'Jules', 'last_name': 'Trooz', 'birth_date': '1857-02-21', 'death_date': '1907-12-31', 'place_of_birth': 'Leuven', 'wikipedia_url': 'https://nl.wikipedia.org/wiki/Jules_de_Trooz', 'start_mandate': '1907-05-02', 'end_mandate': '1907-12-31'}, {'id': 'Q725589', 'first_name': 'Jules', 'last_name': \"d'Anethan\", 'birth_date': '1803-04-23', 'death_date': '1888-10-08', 'place_of_birth': 'Brussels metropolitan area', 'wikipedia_url': 'https://nl.wikipedia.org/wiki/Jules_Joseph_d%27Anethan', 'start_mandate': '1870-07-02', 'end_mandate': '1871-12-07'}, {'id': 'Q950958', 'first_name': 'Charles', 'last_name': 'Michel', 'birth_date': '1975-12-21', 'death_date': None, 'place_of_birth': 'Namur', 'wikipedia_url': 'https://nl.wikipedia.org/wiki/Charles_Michel', 'start_mandate': '2014-10-11', 'end_mandate': '2019-10-27'}, {'id': 'Q18434995', 'first_name': 'Sophie', 'last_name': 'Wilmès', 'birth_date': '1975-01-15', 'death_date': None, 'place_of_birth': 'Ixelles - Elsene', 'wikipedia_url': 'https://nl.wikipedia.org/wiki/Sophie_Wilm%C3%A8s', 'start_mandate': '2019-10-27', 'end_mandate': '2020-10-01'}]\n"
          ]
        }
      ],
      "source": [
        "# Set the leaders_url variable (1 line)\n",
        "leaders_url = f\"{root_url}/leaders\"\n",
        "\n",
        "# Choose one country and store it in the country variable (1 line)\n",
        "country = countries[0]\n",
        "\n",
        "# Query the /leaders endpoint for the chosen country using the cookie (2 lines)\n",
        "response = requests.get(f\"{leaders_url}?country={country}\", cookies=cookies)\n",
        "leaders = response.json()\n",
        "\n",
        "# Display the country's name and the leaders variable (2 lines)\n",
        "print(country)\n",
        "print(leaders)\n"
      ]
    },
    {
      "cell_type": "markdown",
      "metadata": {
        "id": "1QyM7vWBAlY4"
      },
      "source": [
        "It looks like this endpoint requires additional information in order to return its result. Check the API [*documentation*](https://country-leaders.onrender.com/docs) in your web browser.\n",
        "\n",
        "Change the query to accept *parameters*. You should know where to find help by now."
      ]
    },
    {
      "cell_type": "code",
      "execution_count": 150,
      "metadata": {
        "id": "gIEFBhBeAkzf"
      },
      "outputs": [
        {
          "name": "stdout",
          "output_type": "stream",
          "text": [
            "[{'id': 'Q57553', 'first_name': 'Mohammed', 'last_name': 'None', 'birth_date': '1963-08-21', 'death_date': None, 'place_of_birth': 'Rabat', 'wikipedia_url': 'https://ar.wikipedia.org/wiki/%D9%85%D8%AD%D9%85%D8%AF_%D8%A7%D9%84%D8%B3%D8%A7%D8%AF%D8%B3_%D8%A8%D9%86_%D8%A7%D9%84%D8%AD%D8%B3%D9%86', 'start_mandate': '1999-07-23', 'end_mandate': None}, {'id': 'Q69103', 'first_name': 'Hassan', 'last_name': 'None', 'birth_date': '1929-07-09', 'death_date': '1999-07-20', 'place_of_birth': 'Rabat', 'wikipedia_url': 'https://ar.wikipedia.org/wiki/%D8%A7%D9%84%D8%AD%D8%B3%D9%86_%D8%A7%D9%84%D8%AB%D8%A7%D9%86%D9%8A_%D8%A8%D9%86_%D9%85%D8%AD%D9%85%D8%AF', 'start_mandate': '1961-02-26', 'end_mandate': '1999-07-23'}, {'id': 'Q193874', 'first_name': 'Mohammed', 'last_name': 'None', 'birth_date': '1909-08-10', 'death_date': '1961-02-26', 'place_of_birth': 'Fez', 'wikipedia_url': 'https://ar.wikipedia.org/wiki/%D9%85%D8%AD%D9%85%D8%AF_%D8%A7%D9%84%D8%AE%D8%A7%D9%85%D8%B3_%D8%A8%D9%86_%D9%8A%D9%88%D8%B3%D9%81', 'start_mandate': '1957-08-14', 'end_mandate': '1961-02-26'}, {'id': 'Q334782', 'first_name': 'Mohammed', 'last_name': 'None', 'birth_date': None, 'death_date': None, 'place_of_birth': 'None', 'wikipedia_url': 'https://ar.wikipedia.org/wiki/%D8%A7%D9%84%D9%82%D8%A7%D8%A6%D9%85_%D8%A8%D8%A3%D9%85%D8%B1_%D8%A7%D9%84%D9%84%D9%87_%D8%A7%D9%84%D8%B3%D8%B9%D8%AF%D9%8A', 'start_mandate': None, 'end_mandate': '1517-01-01'}]\n"
          ]
        }
      ],
      "source": [
        "# query the /leaders endpoint using cookies and parameters (take any country in countries)\n",
        "# assign the output to the leaders variable (1 line)\n",
        "leaders = requests.get(leaders_url, cookies=cookies, params={\"country\": countries[4]}).json()\n",
        "\n",
        "# display the leaders variable (1 line)\n",
        "print(leaders)\n"
      ]
    },
    {
      "attachments": {},
      "cell_type": "markdown",
      "metadata": {
        "id": "uW3k5uquCirA"
      },
      "source": [
        "### 1e. A sneak peak at the data (finally)\n",
        "\n",
        "Look inside a few examples. Notice the dictionary keys available for each entry. You have your first example of *structured data*. This data was sanitized for your benefit, meaning it is readily exploitable without modification.\n",
        "\n",
        "You will also notice there is a Wikipedia link for each entry. You will need to extract additional information there. This will be a case of *semi-structured* data.\n",
        "\n",
        "The /countries endpoint returns a `list` of several country codes.\n",
        "\n",
        "You need to loop through this list and query the /leaders endpoint for each one. Save each `json` result in a dictionary called `leaders_per_country`."
      ]
    },
    {
      "cell_type": "code",
      "execution_count": 151,
      "metadata": {
        "id": "H8EdK2S9rvPJ"
      },
      "outputs": [
        {
          "name": "stdout",
          "output_type": "stream",
          "text": [
            "be {'id': 'Q12978', 'first_name': 'Guy', 'last_name': 'Verhofstadt', 'birth_date': '1953-04-11', 'death_date': None, 'place_of_birth': 'Dendermonde', 'wikipedia_url': 'https://nl.wikipedia.org/wiki/Guy_Verhofstadt', 'start_mandate': '1999-07-12', 'end_mandate': '2008-03-20'}\n"
          ]
        }
      ],
      "source": [
        "# 4 lines\n",
        "# Initialize the leaders_per_country dictionary (1 line)\n",
        "leaders_per_country = {}\n",
        "\n",
        "# Loop through countries, query the /leaders endpoint with cookies and parameters, and store results (2 lines)\n",
        "for country in countries:\n",
        "    leaders_per_country[country] = requests.get(leaders_url, cookies=cookies, params={\"country\": country}).json()\n",
        "\n",
        "# Display one sample to check the structure (1 line)\n",
        "print(countries[0], leaders_per_country[countries[0]][0])\n"
      ]
    },
    {
      "cell_type": "code",
      "execution_count": 152,
      "metadata": {},
      "outputs": [
        {
          "name": "stdout",
          "output_type": "stream",
          "text": [
            "{'be': [{'id': 'Q12978', 'first_name': 'Guy', 'last_name': 'Verhofstadt', 'birth_date': '1953-04-11', 'death_date': None, 'place_of_birth': 'Dendermonde', 'wikipedia_url': 'https://nl.wikipedia.org/wiki/Guy_Verhofstadt', 'start_mandate': '1999-07-12', 'end_mandate': '2008-03-20'}, {'id': 'Q12981', 'first_name': 'Yves', 'last_name': 'Leterme', 'birth_date': '1960-10-06', 'death_date': None, 'place_of_birth': 'Wervik', 'wikipedia_url': 'https://nl.wikipedia.org/wiki/Yves_Leterme', 'start_mandate': '2009-11-25', 'end_mandate': '2011-12-06'}, {'id': 'Q12983', 'first_name': 'Herman', 'last_name': 'None', 'birth_date': '1947-10-31', 'death_date': None, 'place_of_birth': 'Etterbeek', 'wikipedia_url': 'https://nl.wikipedia.org/wiki/Herman_Van_Rompuy', 'start_mandate': '2008-12-30', 'end_mandate': '2009-11-25'}, {'id': 'Q14989', 'first_name': 'Léon', 'last_name': 'Delacroix', 'birth_date': '1867-12-27', 'death_date': '1929-10-15', 'place_of_birth': 'Saint-Josse-ten-Noode', 'wikipedia_url': 'https://nl.wikipedia.org/wiki/L%C3%A9on_Delacroix', 'start_mandate': '1918-11-21', 'end_mandate': '1920-11-20'}, {'id': 'Q14990', 'first_name': 'Henry', 'last_name': 'Carton', 'birth_date': '1869-01-31', 'death_date': '1951-05-06', 'place_of_birth': 'Brussels', 'wikipedia_url': 'https://nl.wikipedia.org/wiki/Henri_Carton_de_Wiart', 'start_mandate': '1920-11-20', 'end_mandate': '1921-12-16'}, {'id': 'Q14991', 'first_name': 'Georges', 'last_name': 'Theunis', 'birth_date': '1873-02-28', 'death_date': '1966-01-04', 'place_of_birth': 'Montegnée', 'wikipedia_url': 'https://nl.wikipedia.org/wiki/Georges_Theunis', 'start_mandate': '1934-11-20', 'end_mandate': '1935-03-25'}, {'id': 'Q14992', 'first_name': 'Aloïs', 'last_name': 'Van de Vyvere', 'birth_date': '1871-06-08', 'death_date': '1961-10-22', 'place_of_birth': 'Tielt', 'wikipedia_url': 'https://nl.wikipedia.org/wiki/Aloys_Van_de_Vyvere', 'start_mandate': '1925-05-13', 'end_mandate': '1925-06-17'}, {'id': 'Q14993', 'first_name': 'Prosper', 'last_name': 'Poullet', 'birth_date': '1868-03-05', 'death_date': '1937-12-03', 'place_of_birth': 'Leuven', 'wikipedia_url': 'https://nl.wikipedia.org/wiki/Prosper_Poullet', 'start_mandate': '1925-06-17', 'end_mandate': '1926-05-20'}, {'id': 'Q14994', 'first_name': 'Henri', 'last_name': 'Jaspar', 'birth_date': '1870-07-28', 'death_date': '1939-02-15', 'place_of_birth': 'Schaerbeek - Schaarbeek', 'wikipedia_url': 'https://nl.wikipedia.org/wiki/Henri_Jaspar', 'start_mandate': '1926-05-20', 'end_mandate': '1931-06-06'}, {'id': 'Q14995', 'first_name': 'Jules', 'last_name': 'None', 'birth_date': '1862-12-03', 'death_date': '1934-07-15', 'place_of_birth': 'Ixelles - Elsene', 'wikipedia_url': 'https://nl.wikipedia.org/wiki/Jules_Renkin', 'start_mandate': '1931-06-06', 'end_mandate': '1932-10-22'}, {'id': 'Q14996', 'first_name': 'Paul', 'last_name': 'Van Zeeland', 'birth_date': '1893-11-11', 'death_date': '1973-09-22', 'place_of_birth': 'Soignies', 'wikipedia_url': 'https://nl.wikipedia.org/wiki/Paul_van_Zeeland', 'start_mandate': '1935-03-25', 'end_mandate': '1937-11-24'}, {'id': 'Q14997', 'first_name': 'Achille', 'last_name': 'Van Acker', 'birth_date': '1898-04-08', 'death_date': '1975-07-10', 'place_of_birth': 'Bruges', 'wikipedia_url': 'https://nl.wikipedia.org/wiki/Achiel_Van_Acker', 'start_mandate': '1954-04-23', 'end_mandate': '1958-06-26'}, {'id': 'Q14998', 'first_name': 'Camille', 'last_name': 'Huysmans', 'birth_date': '1871-05-26', 'death_date': '1968-02-25', 'place_of_birth': 'Bilzen', 'wikipedia_url': 'https://nl.wikipedia.org/wiki/Camille_Huysmans', 'start_mandate': '1946-08-03', 'end_mandate': '1947-03-20'}, {'id': 'Q14999', 'first_name': 'Gaston', 'last_name': 'Eyskens', 'birth_date': '1905-04-01', 'death_date': '1988-01-03', 'place_of_birth': 'Lier', 'wikipedia_url': 'https://nl.wikipedia.org/wiki/Gaston_Eyskens', 'start_mandate': '1968-07-17', 'end_mandate': '1973-01-26'}, {'id': 'Q15002', 'first_name': 'Leo', 'last_name': 'Tindemans', 'birth_date': '1922-04-16', 'death_date': '2014-12-26', 'place_of_birth': 'Zwijndrecht', 'wikipedia_url': 'https://nl.wikipedia.org/wiki/Leo_Tindemans', 'start_mandate': '1974-04-25', 'end_mandate': '1978-10-20'}, {'id': 'Q15048', 'first_name': 'Elio', 'last_name': 'Di Rupo', 'birth_date': '1951-07-18', 'death_date': None, 'place_of_birth': 'Morlanwelz', 'wikipedia_url': 'https://nl.wikipedia.org/wiki/Elio_Di_Rupo', 'start_mandate': '2011-12-06', 'end_mandate': '2014-10-11'}, {'id': 'Q15056', 'first_name': 'Jean-Luc', 'last_name': 'Dehaene', 'birth_date': '1940-08-07', 'death_date': '2014-05-15', 'place_of_birth': 'Montpellier', 'wikipedia_url': 'https://nl.wikipedia.org/wiki/Jean-Luc_Dehaene', 'start_mandate': '1992-03-07', 'end_mandate': '1999-07-12'}, {'id': 'Q15956', 'first_name': 'Frans', 'last_name': 'Schollaert', 'birth_date': '1851-08-19', 'death_date': '1917-06-29', 'place_of_birth': 'Wilsele', 'wikipedia_url': 'https://nl.wikipedia.org/wiki/Frans_Schollaert', 'start_mandate': '1908-01-09', 'end_mandate': '1911-06-17'}, {'id': 'Q143202', 'first_name': 'Pieter', 'last_name': 'Decker', 'birth_date': '1812-01-25', 'death_date': '1891-01-04', 'place_of_birth': 'Zele', 'wikipedia_url': 'https://nl.wikipedia.org/wiki/Pieter_de_Decker', 'start_mandate': '1855-03-30', 'end_mandate': '1857-11-09'}, {'id': 'Q155691', 'first_name': 'Paul-Henri', 'last_name': 'Spaak', 'birth_date': '1899-01-25', 'death_date': '1972-07-31', 'place_of_birth': 'Schaerbeek - Schaarbeek', 'wikipedia_url': 'https://nl.wikipedia.org/wiki/Paul-Henri_Spaak', 'start_mandate': '1947-03-20', 'end_mandate': '1949-08-11'}, {'id': 'Q202049', 'first_name': 'Auguste', 'last_name': 'Beernaert', 'birth_date': '1829-07-26', 'death_date': '1912-10-06', 'place_of_birth': 'Ostend', 'wikipedia_url': 'https://nl.wikipedia.org/wiki/Auguste_Beernaert', 'start_mandate': '1884-10-26', 'end_mandate': '1894-03-26'}, {'id': 'Q221781', 'first_name': 'Théodore', 'last_name': 'Lefèvre', 'birth_date': '1914-01-17', 'death_date': '1973-09-18', 'place_of_birth': 'Ghent', 'wikipedia_url': 'https://nl.wikipedia.org/wiki/Th%C3%A9o_Lef%C3%A8vre', 'start_mandate': '1961-04-25', 'end_mandate': '1965-07-28'}, {'id': 'Q250021', 'first_name': 'Paul', 'last_name': 'None', 'birth_date': '1919-05-22', 'death_date': '2001-01-09', 'place_of_birth': 'Forest', 'wikipedia_url': 'https://nl.wikipedia.org/wiki/Paul_Vanden_Boeynants', 'start_mandate': '1978-10-20', 'end_mandate': '1979-04-03'}, {'id': 'Q289570', 'first_name': 'Étienne', 'last_name': 'Gerlache', 'birth_date': '1785-12-26', 'death_date': '1871-02-10', 'place_of_birth': 'Château of Biourge', 'wikipedia_url': 'https://nl.wikipedia.org/wiki/Etienne_de_Gerlache', 'start_mandate': '1831-02-27', 'end_mandate': '1831-03-10'}, {'id': 'Q313809', 'first_name': 'Wilfried', 'last_name': 'Martens', 'birth_date': '1936-04-19', 'death_date': '2013-10-09', 'place_of_birth': 'Sleidinge', 'wikipedia_url': 'https://nl.wikipedia.org/wiki/Wilfried_Martens', 'start_mandate': '1981-12-17', 'end_mandate': '1992-03-07'}, {'id': 'Q349477', 'first_name': 'Mark', 'last_name': 'Eyskens', 'birth_date': '1933-04-29', 'death_date': None, 'place_of_birth': 'Leuven', 'wikipedia_url': 'https://nl.wikipedia.org/wiki/Mark_Eyskens', 'start_mandate': '1981-04-06', 'end_mandate': '1981-12-17'}, {'id': 'Q363942', 'first_name': 'Pierre', 'last_name': 'Harmel', 'birth_date': '1911-03-16', 'death_date': '2009-11-15', 'place_of_birth': 'Uccle', 'wikipedia_url': 'https://nl.wikipedia.org/wiki/Pierre_Harmel', 'start_mandate': '1965-07-28', 'end_mandate': '1966-03-19'}, {'id': 'Q442578', 'first_name': 'Hubert', 'last_name': 'Pierlot', 'birth_date': '1883-12-23', 'death_date': '1963-12-13', 'place_of_birth': 'Bertrix', 'wikipedia_url': 'https://nl.wikipedia.org/wiki/Hubert_Pierlot', 'start_mandate': '1939-02-22', 'end_mandate': '1945-02-12'}, {'id': 'Q446472', 'first_name': 'Jean-Baptiste', 'last_name': 'Nothomb', 'birth_date': '1805-07-03', 'death_date': '1881-09-16', 'place_of_birth': 'Messancy', 'wikipedia_url': 'https://nl.wikipedia.org/wiki/Jean-Baptiste_Nothomb', 'start_mandate': '1841-04-13', 'end_mandate': '1845-07-30'}, {'id': 'Q461745', 'first_name': 'Edmond', 'last_name': 'None', 'birth_date': '1915-04-18', 'death_date': '1997-06-15', 'place_of_birth': 'Lantremange', 'wikipedia_url': 'https://nl.wikipedia.org/wiki/Edmond_Leburton', 'start_mandate': '1973-01-26', 'end_mandate': '1974-04-25'}, {'id': 'Q461753', 'first_name': 'Jean', 'last_name': 'None', 'birth_date': '1900-04-10', 'death_date': '1977-10-11', 'place_of_birth': 'Frasnes-lez-Gosselies', 'wikipedia_url': 'https://nl.wikipedia.org/wiki/Jean_Duvieusart', 'start_mandate': '1950-06-08', 'end_mandate': '1950-08-16'}, {'id': 'Q468104', 'first_name': 'Joseph', 'last_name': 'Lebeau', 'birth_date': '1794-01-03', 'death_date': '1865-03-19', 'place_of_birth': 'Huy', 'wikipedia_url': 'https://nl.wikipedia.org/wiki/Joseph_Lebeau', 'start_mandate': '1840-04-18', 'end_mandate': '1841-04-13'}, {'id': 'Q468109', 'first_name': 'Charles', 'last_name': 'Rogier', 'birth_date': '1800-08-17', 'death_date': '1885-05-27', 'place_of_birth': 'Saint-Quentin', 'wikipedia_url': 'https://nl.wikipedia.org/wiki/Charles_Rogier', 'start_mandate': '1857-11-09', 'end_mandate': '1868-01-03'}, {'id': 'Q472257', 'first_name': 'Barthélemy', 'last_name': 'None', 'birth_date': '1794-02-26', 'death_date': '1874-08-24', 'place_of_birth': 'Kasteel van Schabroek', 'wikipedia_url': 'https://nl.wikipedia.org/wiki/Barth%C3%A9lemy_de_Theux_de_Meylandt', 'start_mandate': '1871-12-07', 'end_mandate': '1874-08-21'}, {'id': 'Q472276', 'first_name': 'Felix', 'last_name': 'None', 'birth_date': '1793-04-05', 'death_date': '1862-08-05', 'place_of_birth': 'Pittem', 'wikipedia_url': 'https://nl.wikipedia.org/wiki/Felix_de_M%C3%BBelenaere', 'start_mandate': '1831-07-24', 'end_mandate': '1832-10-20'}, {'id': 'Q476596', 'first_name': 'Alexander', 'last_name': 'De Croo', 'birth_date': '1975-11-03', 'death_date': None, 'place_of_birth': 'Vilvoorde', 'wikipedia_url': 'https://nl.wikipedia.org/wiki/Alexander_De_Croo', 'start_mandate': '2020-10-01', 'end_mandate': None}, {'id': 'Q527479', 'first_name': 'Henri', 'last_name': 'de Brouckère', 'birth_date': '1801-01-25', 'death_date': '1891-01-25', 'place_of_birth': 'Bruges', 'wikipedia_url': 'https://nl.wikipedia.org/wiki/Henri_de_Brouck%C3%A8re', 'start_mandate': '1852-10-31', 'end_mandate': '1855-03-30'}, {'id': 'Q533339', 'first_name': 'Albert', 'last_name': 'None', 'birth_date': '1790-05-26', 'death_date': '1873-05-05', 'place_of_birth': 'Tournai', 'wikipedia_url': 'https://nl.wikipedia.org/wiki/Albert_Goblet_d%27Alviella', 'start_mandate': '1832-10-20', 'end_mandate': '1834-08-04'}, {'id': 'Q546727', 'first_name': 'Sylvain', 'last_name': 'Weyer', 'birth_date': '1802-01-19', 'death_date': '1874-05-23', 'place_of_birth': 'Leuven', 'wikipedia_url': 'https://nl.wikipedia.org/wiki/Sylvain_Van_de_Weyer', 'start_mandate': '1845-07-30', 'end_mandate': '1846-03-31'}, {'id': 'Q569138', 'first_name': 'Jules', 'last_name': 'Burlet', 'birth_date': '1844-04-10', 'death_date': '1897-03-01', 'place_of_birth': 'Ixelles - Elsene', 'wikipedia_url': 'https://nl.wikipedia.org/wiki/Jules_de_Burlet', 'start_mandate': '1894-03-26', 'end_mandate': '1896-02-25'}, {'id': 'Q665955', 'first_name': 'Paul-Émile', 'last_name': 'None', 'birth_date': '1872-05-30', 'death_date': '1944-03-03', 'place_of_birth': 'Brussels metropolitan area', 'wikipedia_url': 'https://nl.wikipedia.org/wiki/Paul-Emile_Janson', 'start_mandate': '1937-11-24', 'end_mandate': '1938-05-15'}, {'id': 'Q678535', 'first_name': 'Jules', 'last_name': 'Malou', 'birth_date': '1810-10-19', 'death_date': '1886-07-11', 'place_of_birth': 'Ypres', 'wikipedia_url': 'https://nl.wikipedia.org/wiki/Jules_Malou', 'start_mandate': '1884-06-16', 'end_mandate': '1884-10-26'}, {'id': 'Q705103', 'first_name': 'Charles', 'last_name': 'Broqueville', 'birth_date': '1860-12-04', 'death_date': '1940-09-05', 'place_of_birth': 'Postel', 'wikipedia_url': 'https://nl.wikipedia.org/wiki/Charles_de_Broqueville', 'start_mandate': '1932-10-22', 'end_mandate': '1934-11-20'}, {'id': 'Q705111', 'first_name': 'Joseph', 'last_name': 'Pholien', 'birth_date': '1884-12-28', 'death_date': '1968-01-04', 'place_of_birth': 'Liège', 'wikipedia_url': 'https://nl.wikipedia.org/wiki/Joseph_Pholien', 'start_mandate': '1950-08-16', 'end_mandate': '1952-01-15'}, {'id': 'Q705128', 'first_name': 'Jean', 'last_name': 'Van Houtte', 'birth_date': '1907-03-17', 'death_date': '1991-05-23', 'place_of_birth': 'Ghent', 'wikipedia_url': 'https://nl.wikipedia.org/wiki/Jean_Van_Houtte', 'start_mandate': '1952-01-15', 'end_mandate': '1954-04-23'}, {'id': 'Q705791', 'first_name': 'Walthère', 'last_name': 'Frère', 'birth_date': '1812-04-22', 'death_date': '1896-01-02', 'place_of_birth': 'Liège', 'wikipedia_url': 'https://nl.wikipedia.org/wiki/Walth%C3%A8re_Fr%C3%A8re-Orban', 'start_mandate': '1878-06-19', 'end_mandate': '1884-06-16'}, {'id': 'Q719483', 'first_name': 'Gérard', 'last_name': 'Cooreman', 'birth_date': '1852-03-25', 'death_date': '1926-12-02', 'place_of_birth': 'Ghent', 'wikipedia_url': 'https://nl.wikipedia.org/wiki/Gerard_Cooreman', 'start_mandate': '1918-06-01', 'end_mandate': '1918-11-21'}, {'id': 'Q721772', 'first_name': 'Jules', 'last_name': 'Vandenpeereboom', 'birth_date': '1843-03-18', 'death_date': '1917-03-06', 'place_of_birth': 'Kortrijk', 'wikipedia_url': 'https://nl.wikipedia.org/wiki/Jules_Vandenpeereboom', 'start_mandate': '1899-01-24', 'end_mandate': '1899-08-05'}, {'id': 'Q721781', 'first_name': 'Paul', 'last_name': 'None', 'birth_date': '1843-05-13', 'death_date': '1913-09-09', 'place_of_birth': 'Ghent', 'wikipedia_url': 'https://nl.wikipedia.org/wiki/Paul_de_Smet_de_Naeyer', 'start_mandate': '1899-08-05', 'end_mandate': '1907-05-02'}, {'id': 'Q721798', 'first_name': 'Jules', 'last_name': 'Trooz', 'birth_date': '1857-02-21', 'death_date': '1907-12-31', 'place_of_birth': 'Leuven', 'wikipedia_url': 'https://nl.wikipedia.org/wiki/Jules_de_Trooz', 'start_mandate': '1907-05-02', 'end_mandate': '1907-12-31'}, {'id': 'Q725589', 'first_name': 'Jules', 'last_name': \"d'Anethan\", 'birth_date': '1803-04-23', 'death_date': '1888-10-08', 'place_of_birth': 'Brussels metropolitan area', 'wikipedia_url': 'https://nl.wikipedia.org/wiki/Jules_Joseph_d%27Anethan', 'start_mandate': '1870-07-02', 'end_mandate': '1871-12-07'}, {'id': 'Q950958', 'first_name': 'Charles', 'last_name': 'Michel', 'birth_date': '1975-12-21', 'death_date': None, 'place_of_birth': 'Namur', 'wikipedia_url': 'https://nl.wikipedia.org/wiki/Charles_Michel', 'start_mandate': '2014-10-11', 'end_mandate': '2019-10-27'}, {'id': 'Q18434995', 'first_name': 'Sophie', 'last_name': 'Wilmès', 'birth_date': '1975-01-15', 'death_date': None, 'place_of_birth': 'Ixelles - Elsene', 'wikipedia_url': 'https://nl.wikipedia.org/wiki/Sophie_Wilm%C3%A8s', 'start_mandate': '2019-10-27', 'end_mandate': '2020-10-01'}], 'us': [{'id': 'Q23', 'first_name': 'George', 'last_name': 'Washington', 'birth_date': '1732-02-22', 'death_date': '1799-12-14', 'place_of_birth': 'Westmoreland County', 'wikipedia_url': 'https://en.wikipedia.org/wiki/George_Washington', 'start_mandate': '1789-04-30', 'end_mandate': '1797-03-04'}, {'id': 'Q76', 'first_name': 'Barack', 'last_name': 'Obama', 'birth_date': '1961-08-04', 'death_date': None, 'place_of_birth': 'Kapiolani Medical Center for Women and Children', 'wikipedia_url': 'https://en.wikipedia.org/wiki/Barack_Obama', 'start_mandate': '2009-01-20', 'end_mandate': '2017-01-20'}, {'id': 'Q91', 'first_name': 'Abraham', 'last_name': 'Lincoln', 'birth_date': '1809-02-12', 'death_date': '1865-04-15', 'place_of_birth': 'Sinking Spring Farm', 'wikipedia_url': 'https://en.wikipedia.org/wiki/Abraham_Lincoln', 'start_mandate': '1861-03-04', 'end_mandate': '1865-04-15'}, {'id': 'Q207', 'first_name': 'George', 'last_name': 'Bush', 'birth_date': '1946-07-06', 'death_date': None, 'place_of_birth': 'New Haven', 'wikipedia_url': 'https://en.wikipedia.org/wiki/George_W._Bush', 'start_mandate': '2001-01-20', 'end_mandate': '2009-01-20'}, {'id': 'Q1124', 'first_name': 'Bill', 'last_name': 'Clinton', 'birth_date': '1946-08-19', 'death_date': None, 'place_of_birth': 'Hope', 'wikipedia_url': 'https://en.wikipedia.org/wiki/Bill_Clinton', 'start_mandate': '1993-01-20', 'end_mandate': '2001-01-20'}, {'id': 'Q6279', 'first_name': 'Joe', 'last_name': 'Biden', 'birth_date': '1942-11-20', 'death_date': None, 'place_of_birth': \"St. Mary's Hospital\", 'wikipedia_url': 'https://en.wikipedia.org/wiki/Joe_Biden', 'start_mandate': '2021-01-20', 'end_mandate': None}, {'id': 'Q8007', 'first_name': 'Franklin', 'last_name': 'Roosevelt', 'birth_date': '1882-01-30', 'death_date': '1945-04-12', 'place_of_birth': 'Hyde Park', 'wikipedia_url': 'https://en.wikipedia.org/wiki/Franklin_D._Roosevelt', 'start_mandate': '1933-03-04', 'end_mandate': '1945-04-12'}, {'id': 'Q8612', 'first_name': 'Andrew', 'last_name': 'Johnson', 'birth_date': '1808-12-29', 'death_date': '1875-07-31', 'place_of_birth': 'Raleigh', 'wikipedia_url': 'https://en.wikipedia.org/wiki/Andrew_Johnson', 'start_mandate': '1865-04-15', 'end_mandate': '1869-03-04'}, {'id': 'Q9582', 'first_name': 'Gerald', 'last_name': 'Ford', 'birth_date': '1913-07-14', 'death_date': '2006-12-26', 'place_of_birth': 'Omaha', 'wikipedia_url': 'https://en.wikipedia.org/wiki/Gerald_Ford', 'start_mandate': '1974-08-09', 'end_mandate': '1977-01-20'}, {'id': 'Q9588', 'first_name': 'Richard', 'last_name': 'Nixon', 'birth_date': '1913-01-09', 'death_date': '1994-04-22', 'place_of_birth': 'Yorba Linda', 'wikipedia_url': 'https://en.wikipedia.org/wiki/Richard_Nixon', 'start_mandate': '1969-01-20', 'end_mandate': '1974-08-09'}, {'id': 'Q9640', 'first_name': 'Lyndon', 'last_name': 'Johnson', 'birth_date': '1908-08-27', 'death_date': '1973-01-22', 'place_of_birth': 'Stonewall', 'wikipedia_url': 'https://en.wikipedia.org/wiki/Lyndon_B._Johnson', 'start_mandate': '1963-11-22', 'end_mandate': '1969-01-20'}, {'id': 'Q9696', 'first_name': 'John', 'last_name': 'Kennedy', 'birth_date': '1917-05-29', 'death_date': '1963-11-22', 'place_of_birth': 'Brookline', 'wikipedia_url': 'https://en.wikipedia.org/wiki/John_F._Kennedy', 'start_mandate': '1961-01-20', 'end_mandate': '1963-11-22'}, {'id': 'Q9916', 'first_name': 'Dwight', 'last_name': 'Eisenhower', 'birth_date': '1890-10-14', 'death_date': '1969-03-28', 'place_of_birth': 'Denison', 'wikipedia_url': 'https://en.wikipedia.org/wiki/Dwight_D._Eisenhower', 'start_mandate': '1953-01-20', 'end_mandate': '1961-01-20'}, {'id': 'Q9960', 'first_name': 'Ronald', 'last_name': 'Reagan', 'birth_date': '1911-02-06', 'death_date': '2004-06-05', 'place_of_birth': 'Tampico', 'wikipedia_url': 'https://en.wikipedia.org/wiki/Ronald_Reagan', 'start_mandate': '1981-01-20', 'end_mandate': '1989-01-20'}, {'id': 'Q11613', 'first_name': 'Harry', 'last_name': 'Truman', 'birth_date': '1884-05-08', 'death_date': '1972-12-26', 'place_of_birth': 'Lamar', 'wikipedia_url': 'https://en.wikipedia.org/wiki/Harry_S._Truman', 'start_mandate': '1945-04-12', 'end_mandate': '1953-01-20'}, {'id': 'Q11806', 'first_name': 'John', 'last_name': 'Adams', 'birth_date': None, 'death_date': '1826-07-04', 'place_of_birth': 'Braintree', 'wikipedia_url': 'https://en.wikipedia.org/wiki/John_Adams', 'start_mandate': '1797-03-04', 'end_mandate': '1801-03-04'}, {'id': 'Q11812', 'first_name': 'Thomas', 'last_name': 'Jefferson', 'birth_date': None, 'death_date': '1826-07-04', 'place_of_birth': 'Shadwell', 'wikipedia_url': 'https://en.wikipedia.org/wiki/Thomas_Jefferson', 'start_mandate': '1801-03-04', 'end_mandate': '1809-03-04'}, {'id': 'Q11813', 'first_name': 'James', 'last_name': 'Madison', 'birth_date': '1751-03-16', 'death_date': '1836-06-28', 'place_of_birth': 'Port Conway', 'wikipedia_url': 'https://en.wikipedia.org/wiki/James_Madison', 'start_mandate': '1809-03-04', 'end_mandate': '1817-03-04'}, {'id': 'Q11815', 'first_name': 'James', 'last_name': 'Monroe', 'birth_date': '1758-04-28', 'death_date': '1831-07-04', 'place_of_birth': 'Monroe Hall', 'wikipedia_url': 'https://en.wikipedia.org/wiki/James_Monroe', 'start_mandate': '1817-03-04', 'end_mandate': '1825-03-04'}, {'id': 'Q11816', 'first_name': 'John', 'last_name': 'Adams', 'birth_date': '1767-07-11', 'death_date': '1848-02-23', 'place_of_birth': 'Braintree', 'wikipedia_url': 'https://en.wikipedia.org/wiki/John_Quincy_Adams', 'start_mandate': '1825-03-04', 'end_mandate': '1829-03-04'}, {'id': 'Q11817', 'first_name': 'Andrew', 'last_name': 'Jackson', 'birth_date': '1767-03-15', 'death_date': '1845-06-08', 'place_of_birth': 'Waxhaws', 'wikipedia_url': 'https://en.wikipedia.org/wiki/Andrew_Jackson', 'start_mandate': '1829-03-04', 'end_mandate': '1837-03-04'}, {'id': 'Q11820', 'first_name': 'Martin', 'last_name': 'Van Buren', 'birth_date': '1782-12-05', 'death_date': '1862-07-24', 'place_of_birth': 'Kinderhook', 'wikipedia_url': 'https://en.wikipedia.org/wiki/Martin_Van_Buren', 'start_mandate': '1837-03-04', 'end_mandate': '1841-03-04'}, {'id': 'Q11869', 'first_name': 'William', 'last_name': 'Harrison', 'birth_date': '1773-02-09', 'death_date': '1841-04-04', 'place_of_birth': 'Charles City County', 'wikipedia_url': 'https://en.wikipedia.org/wiki/William_Henry_Harrison', 'start_mandate': '1841-03-04', 'end_mandate': '1841-04-04'}, {'id': 'Q11881', 'first_name': 'John', 'last_name': 'Tyler', 'birth_date': '1790-03-29', 'death_date': '1862-01-18', 'place_of_birth': 'Charles City County', 'wikipedia_url': 'https://en.wikipedia.org/wiki/John_Tyler', 'start_mandate': '1841-04-04', 'end_mandate': '1845-03-04'}, {'id': 'Q11891', 'first_name': 'James', 'last_name': 'Polk', 'birth_date': '1795-11-02', 'death_date': '1849-06-15', 'place_of_birth': 'Pineville', 'wikipedia_url': 'https://en.wikipedia.org/wiki/James_K._Polk', 'start_mandate': '1845-03-04', 'end_mandate': '1849-03-04'}, {'id': 'Q11896', 'first_name': 'Zachary', 'last_name': 'Taylor', 'birth_date': '1784-11-24', 'death_date': '1850-07-09', 'place_of_birth': 'Barboursville', 'wikipedia_url': 'https://en.wikipedia.org/wiki/Zachary_Taylor', 'start_mandate': '1849-03-04', 'end_mandate': '1850-07-09'}, {'id': 'Q12306', 'first_name': 'Millard', 'last_name': 'Fillmore', 'birth_date': '1800-01-07', 'death_date': '1874-03-08', 'place_of_birth': 'Summerhill', 'wikipedia_url': 'https://en.wikipedia.org/wiki/Millard_Fillmore', 'start_mandate': '1850-07-09', 'end_mandate': '1853-03-04'}, {'id': 'Q12312', 'first_name': 'Franklin', 'last_name': 'Pierce', 'birth_date': '1804-11-23', 'death_date': '1869-10-08', 'place_of_birth': 'Hillsborough', 'wikipedia_url': 'https://en.wikipedia.org/wiki/Franklin_Pierce', 'start_mandate': '1853-03-04', 'end_mandate': '1857-03-04'}, {'id': 'Q12325', 'first_name': 'James', 'last_name': 'Buchanan', 'birth_date': '1791-04-23', 'death_date': '1868-06-01', 'place_of_birth': 'Stony Batter', 'wikipedia_url': 'https://en.wikipedia.org/wiki/James_Buchanan', 'start_mandate': '1857-03-04', 'end_mandate': '1861-03-04'}, {'id': 'Q22686', 'first_name': 'Donald', 'last_name': 'Trump', 'birth_date': '1946-06-14', 'death_date': None, 'place_of_birth': 'Jamaica Hospital Medical Center', 'wikipedia_url': 'https://en.wikipedia.org/wiki/Donald_Trump', 'start_mandate': '2017-01-20', 'end_mandate': '2021-01-20'}, {'id': 'Q23505', 'first_name': 'George', 'last_name': 'Bush', 'birth_date': '1924-06-12', 'death_date': '2018-11-30', 'place_of_birth': 'Milton', 'wikipedia_url': 'https://en.wikipedia.org/wiki/George_H._W._Bush', 'start_mandate': '1989-01-20', 'end_mandate': '1993-01-20'}, {'id': 'Q23685', 'first_name': 'Jimmy', 'last_name': 'Carter', 'birth_date': '1924-10-01', 'death_date': None, 'place_of_birth': 'Lillian G. Carter Nursing Center', 'wikipedia_url': 'https://en.wikipedia.org/wiki/Jimmy_Carter', 'start_mandate': '1977-01-20', 'end_mandate': '1981-01-20'}, {'id': 'Q33866', 'first_name': 'Theodore', 'last_name': 'Roosevelt', 'birth_date': '1858-10-27', 'death_date': '1919-01-06', 'place_of_birth': 'Manhattan', 'wikipedia_url': 'https://en.wikipedia.org/wiki/Theodore_Roosevelt', 'start_mandate': '1901-09-14', 'end_mandate': '1909-03-04'}, {'id': 'Q34296', 'first_name': 'Woodrow', 'last_name': 'Wilson', 'birth_date': '1856-12-28', 'death_date': '1924-02-03', 'place_of_birth': 'Staunton', 'wikipedia_url': 'https://en.wikipedia.org/wiki/Woodrow_Wilson', 'start_mandate': '1913-03-04', 'end_mandate': '1921-03-04'}, {'id': 'Q34597', 'first_name': 'James', 'last_name': 'Garfield', 'birth_date': '1831-11-19', 'death_date': '1881-09-19', 'place_of_birth': 'Moreland Hills', 'wikipedia_url': 'https://en.wikipedia.org/wiki/James_A._Garfield', 'start_mandate': '1881-03-04', 'end_mandate': '1881-09-19'}, {'id': 'Q34836', 'first_name': 'Ulysses', 'last_name': 'Grant', 'birth_date': '1822-04-27', 'death_date': '1885-07-23', 'place_of_birth': 'Point Pleasant', 'wikipedia_url': 'https://en.wikipedia.org/wiki/Ulysses_S._Grant', 'start_mandate': '1869-03-04', 'end_mandate': '1877-03-04'}, {'id': 'Q35041', 'first_name': 'William', 'last_name': 'McKinley', 'birth_date': '1843-01-29', 'death_date': '1901-09-14', 'place_of_birth': 'Niles', 'wikipedia_url': 'https://en.wikipedia.org/wiki/William_McKinley', 'start_mandate': '1897-03-04', 'end_mandate': '1901-09-14'}, {'id': 'Q35171', 'first_name': 'Stephen', 'last_name': 'Cleveland', 'birth_date': '1837-03-18', 'death_date': '1908-06-24', 'place_of_birth': 'Caldwell', 'wikipedia_url': 'https://en.wikipedia.org/wiki/Grover_Cleveland', 'start_mandate': '1893-03-04', 'end_mandate': '1897-03-04'}, {'id': 'Q35236', 'first_name': 'Herbert', 'last_name': 'Hoover', 'birth_date': '1874-08-10', 'death_date': '1964-10-20', 'place_of_birth': 'West Branch', 'wikipedia_url': 'https://en.wikipedia.org/wiki/Herbert_Hoover', 'start_mandate': '1929-03-04', 'end_mandate': '1933-03-04'}, {'id': 'Q35286', 'first_name': 'Warren', 'last_name': 'Harding', 'birth_date': '1865-11-02', 'death_date': '1923-08-02', 'place_of_birth': 'Blooming Grove', 'wikipedia_url': 'https://en.wikipedia.org/wiki/Warren_G._Harding', 'start_mandate': '1921-03-04', 'end_mandate': '1923-08-02'}, {'id': 'Q35498', 'first_name': 'Chester', 'last_name': 'Arthur', 'birth_date': '1829-10-05', 'death_date': '1886-11-18', 'place_of_birth': 'Fairfield', 'wikipedia_url': 'https://en.wikipedia.org/wiki/Chester_A._Arthur', 'start_mandate': '1881-09-19', 'end_mandate': '1885-03-04'}, {'id': 'Q35648', 'first_name': 'William', 'last_name': 'Taft', 'birth_date': '1857-09-15', 'death_date': '1930-03-08', 'place_of_birth': 'Cincinnati', 'wikipedia_url': 'https://en.wikipedia.org/wiki/William_Howard_Taft', 'start_mandate': '1909-03-04', 'end_mandate': '1913-03-04'}, {'id': 'Q35678', 'first_name': 'Benjamin', 'last_name': 'Harrison', 'birth_date': '1833-08-20', 'death_date': '1901-03-13', 'place_of_birth': 'North Bend', 'wikipedia_url': 'https://en.wikipedia.org/wiki/Benjamin_Harrison', 'start_mandate': '1889-03-04', 'end_mandate': '1893-03-04'}, {'id': 'Q35686', 'first_name': 'Rutherford', 'last_name': 'Hayes', 'birth_date': '1822-10-04', 'death_date': '1893-01-17', 'place_of_birth': 'Delaware', 'wikipedia_url': 'https://en.wikipedia.org/wiki/Rutherford_B._Hayes', 'start_mandate': '1877-03-04', 'end_mandate': '1881-03-04'}, {'id': 'Q36023', 'first_name': 'John', 'last_name': 'Coolidge', 'birth_date': '1872-07-04', 'death_date': '1933-01-05', 'place_of_birth': 'Plymouth Notch', 'wikipedia_url': 'https://en.wikipedia.org/wiki/Calvin_Coolidge', 'start_mandate': '1923-08-02', 'end_mandate': '1929-03-04'}], 'ru': [{'id': 'Q7747', 'first_name': 'Vladimir', 'last_name': 'Putin', 'birth_date': '1952-10-07', 'death_date': None, 'place_of_birth': 'Saint Petersburg', 'wikipedia_url': 'https://ru.wikipedia.org/wiki/%D0%9F%D1%83%D1%82%D0%B8%D0%BD,_%D0%92%D0%BB%D0%B0%D0%B4%D0%B8%D0%BC%D0%B8%D1%80_%D0%92%D0%BB%D0%B0%D0%B4%D0%B8%D0%BC%D0%B8%D1%80%D0%BE%D0%B2%D0%B8%D1%87', 'start_mandate': '2000-05-07', 'end_mandate': '2008-05-07'}, {'id': 'Q23530', 'first_name': 'Dmitry', 'last_name': 'Medvedev', 'birth_date': '1965-09-14', 'death_date': None, 'place_of_birth': 'Saint Petersburg', 'wikipedia_url': 'https://ru.wikipedia.org/wiki/%D0%9C%D0%B5%D0%B4%D0%B2%D0%B5%D0%B4%D0%B5%D0%B2,_%D0%94%D0%BC%D0%B8%D1%82%D1%80%D0%B8%D0%B9_%D0%90%D0%BD%D0%B0%D1%82%D0%BE%D0%BB%D1%8C%D0%B5%D0%B2%D0%B8%D1%87', 'start_mandate': '2008-05-07', 'end_mandate': '2012-05-07'}, {'id': 'Q34453', 'first_name': 'Boris', 'last_name': 'Yeltsin', 'birth_date': '1931-02-01', 'death_date': '2007-04-23', 'place_of_birth': 'Butka', 'wikipedia_url': 'https://ru.wikipedia.org/wiki/%D0%95%D0%BB%D1%8C%D1%86%D0%B8%D0%BD,_%D0%91%D0%BE%D1%80%D0%B8%D1%81_%D0%9D%D0%B8%D0%BA%D0%BE%D0%BB%D0%B0%D0%B5%D0%B2%D0%B8%D1%87', 'start_mandate': '1991-07-10', 'end_mandate': '1999-12-31'}], 'fr': [{'id': 'Q157', 'first_name': 'François', 'last_name': 'Hollande', 'birth_date': '1954-08-12', 'death_date': None, 'place_of_birth': 'Rouen', 'wikipedia_url': 'https://fr.wikipedia.org/wiki/Fran%C3%A7ois_Hollande', 'start_mandate': '2012-05-15', 'end_mandate': '2017-05-14'}, {'id': 'Q329', 'first_name': 'Nicolas', 'last_name': 'Sarkozy', 'birth_date': '1955-01-28', 'death_date': None, 'place_of_birth': 'Paris', 'wikipedia_url': 'https://fr.wikipedia.org/wiki/Nicolas_Sarkozy', 'start_mandate': '2007-05-16', 'end_mandate': '2012-05-15'}, {'id': 'Q2038', 'first_name': 'François', 'last_name': 'Mitterrand', 'birth_date': '1916-10-26', 'death_date': '1996-01-08', 'place_of_birth': 'Jarnac', 'wikipedia_url': 'https://fr.wikipedia.org/wiki/Fran%C3%A7ois_Mitterrand', 'start_mandate': '1981-05-21', 'end_mandate': '1995-05-17'}, {'id': 'Q2042', 'first_name': 'Charles', 'last_name': 'de Gaulle', 'birth_date': '1890-11-22', 'death_date': '1970-11-09', 'place_of_birth': 'Lille', 'wikipedia_url': 'https://fr.wikipedia.org/wiki/Charles_de_Gaulle', 'start_mandate': '1959-01-08', 'end_mandate': '1969-04-28'}, {'id': 'Q2105', 'first_name': 'Jacques', 'last_name': 'Chirac', 'birth_date': '1932-11-29', 'death_date': '2019-09-26', 'place_of_birth': '5th arrondissement of Paris', 'wikipedia_url': 'https://fr.wikipedia.org/wiki/Jacques_Chirac', 'start_mandate': '1995-05-17', 'end_mandate': '2007-05-16'}, {'id': 'Q2124', 'first_name': 'Valéry', 'last_name': \"Giscard d'Estaing\", 'birth_date': '1926-02-02', 'death_date': '2020-12-02', 'place_of_birth': 'Koblenz', 'wikipedia_url': 'https://fr.wikipedia.org/wiki/Val%C3%A9ry_Giscard_d%27Estaing', 'start_mandate': '1974-05-27', 'end_mandate': '1981-05-21'}, {'id': 'Q2185', 'first_name': 'Georges', 'last_name': 'Pompidou', 'birth_date': '1911-07-05', 'death_date': '1974-04-02', 'place_of_birth': 'Montboudif', 'wikipedia_url': 'https://fr.wikipedia.org/wiki/Georges_Pompidou', 'start_mandate': '1969-06-20', 'end_mandate': '1974-04-02'}, {'id': 'Q5738', 'first_name': 'Adolphe', 'last_name': 'Thiers', 'birth_date': '1797-04-15', 'death_date': '1877-09-03', 'place_of_birth': 'Marseille', 'wikipedia_url': 'https://fr.wikipedia.org/wiki/Adolphe_Thiers', 'start_mandate': '1871-08-31', 'end_mandate': '1873-05-24'}, {'id': 'Q7721', 'first_name': 'Napoléon', 'last_name': 'Bonaparte', 'birth_date': '1808-04-20', 'death_date': '1873-01-09', 'place_of_birth': 'Paris', 'wikipedia_url': 'https://fr.wikipedia.org/wiki/Napol%C3%A9on_III', 'start_mandate': '1848-12-20', 'end_mandate': '1852-12-02'}, {'id': 'Q12680', 'first_name': 'Paul', 'last_name': 'Doumer', 'birth_date': '1857-03-22', 'death_date': '1932-05-07', 'place_of_birth': 'Aurillac', 'wikipedia_url': 'https://fr.wikipedia.org/wiki/Paul_Doumer', 'start_mandate': '1931-06-13', 'end_mandate': '1932-05-07'}, {'id': 'Q12950', 'first_name': 'Alain', 'last_name': 'Poher', 'birth_date': '1909-04-17', 'death_date': '1996-12-09', 'place_of_birth': 'Ablon-sur-Seine', 'wikipedia_url': 'https://fr.wikipedia.org/wiki/Alain_Poher', 'start_mandate': '1969-04-28', 'end_mandate': '1969-06-20'}, {'id': 'Q158749', 'first_name': 'Albert', 'last_name': 'Lebrun', 'birth_date': '1871-08-29', 'death_date': '1950-03-06', 'place_of_birth': 'Mercy-le-Haut', 'wikipedia_url': 'https://fr.wikipedia.org/wiki/Albert_Lebrun', 'start_mandate': '1932-05-10', 'end_mandate': '1940-07-11'}, {'id': 'Q158768', 'first_name': 'René', 'last_name': 'Coty', 'birth_date': '1882-03-20', 'death_date': '1962-11-22', 'place_of_birth': 'Le Havre', 'wikipedia_url': 'https://fr.wikipedia.org/wiki/Ren%C3%A9_Coty', 'start_mandate': '1954-01-16', 'end_mandate': '1959-01-08'}, {'id': 'Q158772', 'first_name': 'Vincent', 'last_name': 'Auriol', 'birth_date': '1884-08-27', 'death_date': '1966-01-01', 'place_of_birth': 'Revel', 'wikipedia_url': 'https://fr.wikipedia.org/wiki/Vincent_Auriol', 'start_mandate': '1947-01-16', 'end_mandate': '1954-01-16'}, {'id': 'Q158838', 'first_name': 'Patrice', 'last_name': 'de Mac Mahon', 'birth_date': '1808-06-13', 'death_date': '1893-10-17', 'place_of_birth': 'Sully', 'wikipedia_url': 'https://fr.wikipedia.org/wiki/Patrice_de_Mac_Mahon', 'start_mandate': '1873-05-24', 'end_mandate': '1879-01-30'}, {'id': 'Q169502', 'first_name': 'Émile', 'last_name': 'Loubet', 'birth_date': '1838-12-31', 'death_date': '1929-12-20', 'place_of_birth': 'Marsanne', 'wikipedia_url': 'https://fr.wikipedia.org/wiki/%C3%89mile_Loubet', 'start_mandate': '1899-02-18', 'end_mandate': '1906-02-18'}, {'id': 'Q191974', 'first_name': 'Raymond', 'last_name': 'Poincaré', 'birth_date': '1860-08-20', 'death_date': '1934-10-15', 'place_of_birth': 'Bar-le-Duc', 'wikipedia_url': 'https://fr.wikipedia.org/wiki/Raymond_Poincar%C3%A9', 'start_mandate': '1913-02-18', 'end_mandate': '1920-02-18'}, {'id': 'Q215778', 'first_name': 'Marie', 'last_name': 'Carnot', 'birth_date': '1837-08-11', 'death_date': '1894-06-25', 'place_of_birth': 'Limoges', 'wikipedia_url': 'https://fr.wikipedia.org/wiki/Sadi_Carnot_(homme_d%27%C3%89tat)', 'start_mandate': '1887-12-03', 'end_mandate': '1894-06-25'}, {'id': 'Q274540', 'first_name': 'Alexandre', 'last_name': 'Millerand', 'birth_date': '1859-02-10', 'death_date': '1943-04-06', 'place_of_birth': 'Paris', 'wikipedia_url': 'https://fr.wikipedia.org/wiki/Alexandre_Millerand', 'start_mandate': '1920-09-23', 'end_mandate': '1924-06-11'}, {'id': 'Q296064', 'first_name': 'Gaston', 'last_name': 'Doumergue', 'birth_date': '1863-08-01', 'death_date': '1937-06-18', 'place_of_birth': 'Aigues-Vives', 'wikipedia_url': 'https://fr.wikipedia.org/wiki/Gaston_Doumergue', 'start_mandate': '1924-06-13', 'end_mandate': '1931-06-13'}, {'id': 'Q296076', 'first_name': 'Félix', 'last_name': 'Faure', 'birth_date': '1841-01-30', 'death_date': '1899-02-16', 'place_of_birth': 'Paris', 'wikipedia_url': 'https://fr.wikipedia.org/wiki/F%C3%A9lix_Faure', 'start_mandate': '1895-01-17', 'end_mandate': '1899-02-16'}, {'id': 'Q296083', 'first_name': 'Jules', 'last_name': 'Grévy', 'birth_date': '1807-08-15', 'death_date': '1891-09-09', 'place_of_birth': 'Mont-sous-Vaudrey', 'wikipedia_url': 'https://fr.wikipedia.org/wiki/Jules_Gr%C3%A9vy', 'start_mandate': '1879-01-30', 'end_mandate': '1887-12-02'}, {'id': 'Q296673', 'first_name': 'Clément', 'last_name': 'Fallières', 'birth_date': '1841-11-06', 'death_date': '1931-06-22', 'place_of_birth': 'Mézin', 'wikipedia_url': 'https://fr.wikipedia.org/wiki/Armand_Falli%C3%A8res', 'start_mandate': '1906-02-18', 'end_mandate': '1913-02-18'}, {'id': 'Q309995', 'first_name': 'Paul', 'last_name': 'Deschanel', 'birth_date': '1855-02-13', 'death_date': '1922-04-28', 'place_of_birth': 'Schaerbeek - Schaarbeek', 'wikipedia_url': 'https://fr.wikipedia.org/wiki/Paul_Deschanel', 'start_mandate': '1920-02-18', 'end_mandate': '1920-09-21'}, {'id': 'Q312026', 'first_name': 'Georges', 'last_name': 'Bidault', 'birth_date': '1899-10-05', 'death_date': '1983-01-27', 'place_of_birth': 'Moulins', 'wikipedia_url': 'https://fr.wikipedia.org/wiki/Georges_Bidault', 'start_mandate': '1946-06-24', 'end_mandate': '1946-10-14'}, {'id': 'Q315656', 'first_name': 'Jean', 'last_name': 'Casimir-Perier', 'birth_date': '1847-11-08', 'death_date': '1907-03-11', 'place_of_birth': 'Paris', 'wikipedia_url': 'https://fr.wikipedia.org/wiki/Jean_Casimir-Perier', 'start_mandate': '1894-06-27', 'end_mandate': '1895-01-16'}, {'id': 'Q356032', 'first_name': 'Charles', 'last_name': 'Dupuy', 'birth_date': '1851-11-05', 'death_date': '1923-07-23', 'place_of_birth': 'Le Puy-en-Velay', 'wikipedia_url': 'https://fr.wikipedia.org/wiki/Charles_Dupuy', 'start_mandate': '1894-06-25', 'end_mandate': '1894-06-27'}, {'id': 'Q379702', 'first_name': 'Louis', 'last_name': 'Cavaignac', 'birth_date': '1802-10-15', 'death_date': '1857-10-28', 'place_of_birth': 'Paris', 'wikipedia_url': 'https://fr.wikipedia.org/wiki/Eug%C3%A8ne_Cavaignac', 'start_mandate': '1848-06-28', 'end_mandate': '1848-12-20'}, {'id': 'Q441235', 'first_name': 'Louis', 'last_name': 'None', 'birth_date': '1815-03-12', 'death_date': '1896-10-07', 'place_of_birth': 'Le Palais', 'wikipedia_url': 'https://fr.wikipedia.org/wiki/Louis_Jules_Trochu', 'start_mandate': '1870-09-04', 'end_mandate': '1871-01-22'}, {'id': 'Q459212', 'first_name': 'Frédéric', 'last_name': 'None', 'birth_date': '1874-03-16', 'death_date': '1958-05-20', 'place_of_birth': 'Paris', 'wikipedia_url': 'https://fr.wikipedia.org/wiki/Fr%C3%A9d%C3%A9ric_Fran%C3%A7ois-Marsal', 'start_mandate': '1924-06-11', 'end_mandate': '1924-06-13'}, {'id': 'Q3052772', 'first_name': 'Emmanuel', 'last_name': 'Macron', 'birth_date': '1977-12-21', 'death_date': None, 'place_of_birth': 'Amiens', 'wikipedia_url': 'https://fr.wikipedia.org/wiki/Emmanuel_Macron', 'start_mandate': '2017-05-14', 'end_mandate': None}], 'ma': [{'id': 'Q57553', 'first_name': 'Mohammed', 'last_name': 'None', 'birth_date': '1963-08-21', 'death_date': None, 'place_of_birth': 'Rabat', 'wikipedia_url': 'https://ar.wikipedia.org/wiki/%D9%85%D8%AD%D9%85%D8%AF_%D8%A7%D9%84%D8%B3%D8%A7%D8%AF%D8%B3_%D8%A8%D9%86_%D8%A7%D9%84%D8%AD%D8%B3%D9%86', 'start_mandate': '1999-07-23', 'end_mandate': None}, {'id': 'Q69103', 'first_name': 'Hassan', 'last_name': 'None', 'birth_date': '1929-07-09', 'death_date': '1999-07-20', 'place_of_birth': 'Rabat', 'wikipedia_url': 'https://ar.wikipedia.org/wiki/%D8%A7%D9%84%D8%AD%D8%B3%D9%86_%D8%A7%D9%84%D8%AB%D8%A7%D9%86%D9%8A_%D8%A8%D9%86_%D9%85%D8%AD%D9%85%D8%AF', 'start_mandate': '1961-02-26', 'end_mandate': '1999-07-23'}, {'id': 'Q193874', 'first_name': 'Mohammed', 'last_name': 'None', 'birth_date': '1909-08-10', 'death_date': '1961-02-26', 'place_of_birth': 'Fez', 'wikipedia_url': 'https://ar.wikipedia.org/wiki/%D9%85%D8%AD%D9%85%D8%AF_%D8%A7%D9%84%D8%AE%D8%A7%D9%85%D8%B3_%D8%A8%D9%86_%D9%8A%D9%88%D8%B3%D9%81', 'start_mandate': '1957-08-14', 'end_mandate': '1961-02-26'}, {'id': 'Q334782', 'first_name': 'Mohammed', 'last_name': 'None', 'birth_date': None, 'death_date': None, 'place_of_birth': 'None', 'wikipedia_url': 'https://ar.wikipedia.org/wiki/%D8%A7%D9%84%D9%82%D8%A7%D8%A6%D9%85_%D8%A8%D8%A3%D9%85%D8%B1_%D8%A7%D9%84%D9%84%D9%87_%D8%A7%D9%84%D8%B3%D8%B9%D8%AF%D9%8A', 'start_mandate': None, 'end_mandate': '1517-01-01'}]}\n"
          ]
        }
      ],
      "source": [
        "# Create a dictionary of all leaders per country in one line (1 line)\n",
        "leaders_per_country = {country: requests.get(leaders_url, cookies=cookies, params={\"country\": country}).json() for country in countries}\n",
        "\n",
        "#Extra print \n",
        "print(leaders_per_country)"
      ]
    },
    {
      "cell_type": "markdown",
      "metadata": {
        "id": "WsA2j7s_RMgy"
      },
      "source": [
        "It is finally time to create a `get_leaders()` function for the above code. You will build on it later-on. This function takes no parameter. Inside it, you will need to:\n",
        "1. define the urls\n",
        "2. get the cookies\n",
        "2. get the countries\n",
        "3. loop over them and save their leaders in a dictionary\n",
        "4. return the dictionary"
      ]
    },
    {
      "cell_type": "code",
      "execution_count": 153,
      "metadata": {
        "id": "p6C7BgWQMxV2"
      },
      "outputs": [],
      "source": [
        "# < 15 lines\n",
        "# Define the get_leaders() function (11 lines)\n",
        "def get_leaders():\n",
        "    root_url = \"https://country-leaders.onrender.com\"\n",
        "    cookie_url = f\"{root_url}/cookie\"\n",
        "    countries_url = f\"{root_url}/countries\"\n",
        "    leaders_url = f\"{root_url}/leaders\"\n",
        "\n",
        "    cookies = requests.get(cookie_url).cookies\n",
        "    countries = requests.get(countries_url, cookies=cookies).json()\n",
        "\n",
        "    leaders_per_country = {}\n",
        "    for country in countries:\n",
        "        leaders_per_country[country] = requests.get(leaders_url, cookies=cookies, params={\"country\": country}).json()\n",
        "\n",
        "    return leaders_per_country\n"
      ]
    },
    {
      "cell_type": "markdown",
      "metadata": {
        "id": "I76-InoKuuV8"
      },
      "source": [
        "Test your function, save the result in the `leaders_per_country` dictionary and check its ouput."
      ]
    },
    {
      "cell_type": "code",
      "execution_count": 154,
      "metadata": {
        "id": "eXwd8o7Gu8yG"
      },
      "outputs": [
        {
          "name": "stdout",
          "output_type": "stream",
          "text": [
            "{'be': [{'id': 'Q12978', 'first_name': 'Guy', 'last_name': 'Verhofstadt', 'birth_date': '1953-04-11', 'death_date': None, 'place_of_birth': 'Dendermonde', 'wikipedia_url': 'https://nl.wikipedia.org/wiki/Guy_Verhofstadt', 'start_mandate': '1999-07-12', 'end_mandate': '2008-03-20'}, {'id': 'Q12981', 'first_name': 'Yves', 'last_name': 'Leterme', 'birth_date': '1960-10-06', 'death_date': None, 'place_of_birth': 'Wervik', 'wikipedia_url': 'https://nl.wikipedia.org/wiki/Yves_Leterme', 'start_mandate': '2009-11-25', 'end_mandate': '2011-12-06'}, {'id': 'Q12983', 'first_name': 'Herman', 'last_name': 'None', 'birth_date': '1947-10-31', 'death_date': None, 'place_of_birth': 'Etterbeek', 'wikipedia_url': 'https://nl.wikipedia.org/wiki/Herman_Van_Rompuy', 'start_mandate': '2008-12-30', 'end_mandate': '2009-11-25'}, {'id': 'Q14989', 'first_name': 'Léon', 'last_name': 'Delacroix', 'birth_date': '1867-12-27', 'death_date': '1929-10-15', 'place_of_birth': 'Saint-Josse-ten-Noode', 'wikipedia_url': 'https://nl.wikipedia.org/wiki/L%C3%A9on_Delacroix', 'start_mandate': '1918-11-21', 'end_mandate': '1920-11-20'}, {'id': 'Q14990', 'first_name': 'Henry', 'last_name': 'Carton', 'birth_date': '1869-01-31', 'death_date': '1951-05-06', 'place_of_birth': 'Brussels', 'wikipedia_url': 'https://nl.wikipedia.org/wiki/Henri_Carton_de_Wiart', 'start_mandate': '1920-11-20', 'end_mandate': '1921-12-16'}, {'id': 'Q14991', 'first_name': 'Georges', 'last_name': 'Theunis', 'birth_date': '1873-02-28', 'death_date': '1966-01-04', 'place_of_birth': 'Montegnée', 'wikipedia_url': 'https://nl.wikipedia.org/wiki/Georges_Theunis', 'start_mandate': '1934-11-20', 'end_mandate': '1935-03-25'}, {'id': 'Q14992', 'first_name': 'Aloïs', 'last_name': 'Van de Vyvere', 'birth_date': '1871-06-08', 'death_date': '1961-10-22', 'place_of_birth': 'Tielt', 'wikipedia_url': 'https://nl.wikipedia.org/wiki/Aloys_Van_de_Vyvere', 'start_mandate': '1925-05-13', 'end_mandate': '1925-06-17'}, {'id': 'Q14993', 'first_name': 'Prosper', 'last_name': 'Poullet', 'birth_date': '1868-03-05', 'death_date': '1937-12-03', 'place_of_birth': 'Leuven', 'wikipedia_url': 'https://nl.wikipedia.org/wiki/Prosper_Poullet', 'start_mandate': '1925-06-17', 'end_mandate': '1926-05-20'}, {'id': 'Q14994', 'first_name': 'Henri', 'last_name': 'Jaspar', 'birth_date': '1870-07-28', 'death_date': '1939-02-15', 'place_of_birth': 'Schaerbeek - Schaarbeek', 'wikipedia_url': 'https://nl.wikipedia.org/wiki/Henri_Jaspar', 'start_mandate': '1926-05-20', 'end_mandate': '1931-06-06'}, {'id': 'Q14995', 'first_name': 'Jules', 'last_name': 'None', 'birth_date': '1862-12-03', 'death_date': '1934-07-15', 'place_of_birth': 'Ixelles - Elsene', 'wikipedia_url': 'https://nl.wikipedia.org/wiki/Jules_Renkin', 'start_mandate': '1931-06-06', 'end_mandate': '1932-10-22'}, {'id': 'Q14996', 'first_name': 'Paul', 'last_name': 'Van Zeeland', 'birth_date': '1893-11-11', 'death_date': '1973-09-22', 'place_of_birth': 'Soignies', 'wikipedia_url': 'https://nl.wikipedia.org/wiki/Paul_van_Zeeland', 'start_mandate': '1935-03-25', 'end_mandate': '1937-11-24'}, {'id': 'Q14997', 'first_name': 'Achille', 'last_name': 'Van Acker', 'birth_date': '1898-04-08', 'death_date': '1975-07-10', 'place_of_birth': 'Bruges', 'wikipedia_url': 'https://nl.wikipedia.org/wiki/Achiel_Van_Acker', 'start_mandate': '1954-04-23', 'end_mandate': '1958-06-26'}, {'id': 'Q14998', 'first_name': 'Camille', 'last_name': 'Huysmans', 'birth_date': '1871-05-26', 'death_date': '1968-02-25', 'place_of_birth': 'Bilzen', 'wikipedia_url': 'https://nl.wikipedia.org/wiki/Camille_Huysmans', 'start_mandate': '1946-08-03', 'end_mandate': '1947-03-20'}, {'id': 'Q14999', 'first_name': 'Gaston', 'last_name': 'Eyskens', 'birth_date': '1905-04-01', 'death_date': '1988-01-03', 'place_of_birth': 'Lier', 'wikipedia_url': 'https://nl.wikipedia.org/wiki/Gaston_Eyskens', 'start_mandate': '1968-07-17', 'end_mandate': '1973-01-26'}, {'id': 'Q15002', 'first_name': 'Leo', 'last_name': 'Tindemans', 'birth_date': '1922-04-16', 'death_date': '2014-12-26', 'place_of_birth': 'Zwijndrecht', 'wikipedia_url': 'https://nl.wikipedia.org/wiki/Leo_Tindemans', 'start_mandate': '1974-04-25', 'end_mandate': '1978-10-20'}, {'id': 'Q15048', 'first_name': 'Elio', 'last_name': 'Di Rupo', 'birth_date': '1951-07-18', 'death_date': None, 'place_of_birth': 'Morlanwelz', 'wikipedia_url': 'https://nl.wikipedia.org/wiki/Elio_Di_Rupo', 'start_mandate': '2011-12-06', 'end_mandate': '2014-10-11'}, {'id': 'Q15056', 'first_name': 'Jean-Luc', 'last_name': 'Dehaene', 'birth_date': '1940-08-07', 'death_date': '2014-05-15', 'place_of_birth': 'Montpellier', 'wikipedia_url': 'https://nl.wikipedia.org/wiki/Jean-Luc_Dehaene', 'start_mandate': '1992-03-07', 'end_mandate': '1999-07-12'}, {'id': 'Q15956', 'first_name': 'Frans', 'last_name': 'Schollaert', 'birth_date': '1851-08-19', 'death_date': '1917-06-29', 'place_of_birth': 'Wilsele', 'wikipedia_url': 'https://nl.wikipedia.org/wiki/Frans_Schollaert', 'start_mandate': '1908-01-09', 'end_mandate': '1911-06-17'}, {'id': 'Q143202', 'first_name': 'Pieter', 'last_name': 'Decker', 'birth_date': '1812-01-25', 'death_date': '1891-01-04', 'place_of_birth': 'Zele', 'wikipedia_url': 'https://nl.wikipedia.org/wiki/Pieter_de_Decker', 'start_mandate': '1855-03-30', 'end_mandate': '1857-11-09'}, {'id': 'Q155691', 'first_name': 'Paul-Henri', 'last_name': 'Spaak', 'birth_date': '1899-01-25', 'death_date': '1972-07-31', 'place_of_birth': 'Schaerbeek - Schaarbeek', 'wikipedia_url': 'https://nl.wikipedia.org/wiki/Paul-Henri_Spaak', 'start_mandate': '1947-03-20', 'end_mandate': '1949-08-11'}, {'id': 'Q202049', 'first_name': 'Auguste', 'last_name': 'Beernaert', 'birth_date': '1829-07-26', 'death_date': '1912-10-06', 'place_of_birth': 'Ostend', 'wikipedia_url': 'https://nl.wikipedia.org/wiki/Auguste_Beernaert', 'start_mandate': '1884-10-26', 'end_mandate': '1894-03-26'}, {'id': 'Q221781', 'first_name': 'Théodore', 'last_name': 'Lefèvre', 'birth_date': '1914-01-17', 'death_date': '1973-09-18', 'place_of_birth': 'Ghent', 'wikipedia_url': 'https://nl.wikipedia.org/wiki/Th%C3%A9o_Lef%C3%A8vre', 'start_mandate': '1961-04-25', 'end_mandate': '1965-07-28'}, {'id': 'Q250021', 'first_name': 'Paul', 'last_name': 'None', 'birth_date': '1919-05-22', 'death_date': '2001-01-09', 'place_of_birth': 'Forest', 'wikipedia_url': 'https://nl.wikipedia.org/wiki/Paul_Vanden_Boeynants', 'start_mandate': '1978-10-20', 'end_mandate': '1979-04-03'}, {'id': 'Q289570', 'first_name': 'Étienne', 'last_name': 'Gerlache', 'birth_date': '1785-12-26', 'death_date': '1871-02-10', 'place_of_birth': 'Château of Biourge', 'wikipedia_url': 'https://nl.wikipedia.org/wiki/Etienne_de_Gerlache', 'start_mandate': '1831-02-27', 'end_mandate': '1831-03-10'}, {'id': 'Q313809', 'first_name': 'Wilfried', 'last_name': 'Martens', 'birth_date': '1936-04-19', 'death_date': '2013-10-09', 'place_of_birth': 'Sleidinge', 'wikipedia_url': 'https://nl.wikipedia.org/wiki/Wilfried_Martens', 'start_mandate': '1981-12-17', 'end_mandate': '1992-03-07'}, {'id': 'Q349477', 'first_name': 'Mark', 'last_name': 'Eyskens', 'birth_date': '1933-04-29', 'death_date': None, 'place_of_birth': 'Leuven', 'wikipedia_url': 'https://nl.wikipedia.org/wiki/Mark_Eyskens', 'start_mandate': '1981-04-06', 'end_mandate': '1981-12-17'}, {'id': 'Q363942', 'first_name': 'Pierre', 'last_name': 'Harmel', 'birth_date': '1911-03-16', 'death_date': '2009-11-15', 'place_of_birth': 'Uccle', 'wikipedia_url': 'https://nl.wikipedia.org/wiki/Pierre_Harmel', 'start_mandate': '1965-07-28', 'end_mandate': '1966-03-19'}, {'id': 'Q442578', 'first_name': 'Hubert', 'last_name': 'Pierlot', 'birth_date': '1883-12-23', 'death_date': '1963-12-13', 'place_of_birth': 'Bertrix', 'wikipedia_url': 'https://nl.wikipedia.org/wiki/Hubert_Pierlot', 'start_mandate': '1939-02-22', 'end_mandate': '1945-02-12'}, {'id': 'Q446472', 'first_name': 'Jean-Baptiste', 'last_name': 'Nothomb', 'birth_date': '1805-07-03', 'death_date': '1881-09-16', 'place_of_birth': 'Messancy', 'wikipedia_url': 'https://nl.wikipedia.org/wiki/Jean-Baptiste_Nothomb', 'start_mandate': '1841-04-13', 'end_mandate': '1845-07-30'}, {'id': 'Q461745', 'first_name': 'Edmond', 'last_name': 'None', 'birth_date': '1915-04-18', 'death_date': '1997-06-15', 'place_of_birth': 'Lantremange', 'wikipedia_url': 'https://nl.wikipedia.org/wiki/Edmond_Leburton', 'start_mandate': '1973-01-26', 'end_mandate': '1974-04-25'}, {'id': 'Q461753', 'first_name': 'Jean', 'last_name': 'None', 'birth_date': '1900-04-10', 'death_date': '1977-10-11', 'place_of_birth': 'Frasnes-lez-Gosselies', 'wikipedia_url': 'https://nl.wikipedia.org/wiki/Jean_Duvieusart', 'start_mandate': '1950-06-08', 'end_mandate': '1950-08-16'}, {'id': 'Q468104', 'first_name': 'Joseph', 'last_name': 'Lebeau', 'birth_date': '1794-01-03', 'death_date': '1865-03-19', 'place_of_birth': 'Huy', 'wikipedia_url': 'https://nl.wikipedia.org/wiki/Joseph_Lebeau', 'start_mandate': '1840-04-18', 'end_mandate': '1841-04-13'}, {'id': 'Q468109', 'first_name': 'Charles', 'last_name': 'Rogier', 'birth_date': '1800-08-17', 'death_date': '1885-05-27', 'place_of_birth': 'Saint-Quentin', 'wikipedia_url': 'https://nl.wikipedia.org/wiki/Charles_Rogier', 'start_mandate': '1857-11-09', 'end_mandate': '1868-01-03'}, {'id': 'Q472257', 'first_name': 'Barthélemy', 'last_name': 'None', 'birth_date': '1794-02-26', 'death_date': '1874-08-24', 'place_of_birth': 'Kasteel van Schabroek', 'wikipedia_url': 'https://nl.wikipedia.org/wiki/Barth%C3%A9lemy_de_Theux_de_Meylandt', 'start_mandate': '1871-12-07', 'end_mandate': '1874-08-21'}, {'id': 'Q472276', 'first_name': 'Felix', 'last_name': 'None', 'birth_date': '1793-04-05', 'death_date': '1862-08-05', 'place_of_birth': 'Pittem', 'wikipedia_url': 'https://nl.wikipedia.org/wiki/Felix_de_M%C3%BBelenaere', 'start_mandate': '1831-07-24', 'end_mandate': '1832-10-20'}, {'id': 'Q476596', 'first_name': 'Alexander', 'last_name': 'De Croo', 'birth_date': '1975-11-03', 'death_date': None, 'place_of_birth': 'Vilvoorde', 'wikipedia_url': 'https://nl.wikipedia.org/wiki/Alexander_De_Croo', 'start_mandate': '2020-10-01', 'end_mandate': None}, {'id': 'Q527479', 'first_name': 'Henri', 'last_name': 'de Brouckère', 'birth_date': '1801-01-25', 'death_date': '1891-01-25', 'place_of_birth': 'Bruges', 'wikipedia_url': 'https://nl.wikipedia.org/wiki/Henri_de_Brouck%C3%A8re', 'start_mandate': '1852-10-31', 'end_mandate': '1855-03-30'}, {'id': 'Q533339', 'first_name': 'Albert', 'last_name': 'None', 'birth_date': '1790-05-26', 'death_date': '1873-05-05', 'place_of_birth': 'Tournai', 'wikipedia_url': 'https://nl.wikipedia.org/wiki/Albert_Goblet_d%27Alviella', 'start_mandate': '1832-10-20', 'end_mandate': '1834-08-04'}, {'id': 'Q546727', 'first_name': 'Sylvain', 'last_name': 'Weyer', 'birth_date': '1802-01-19', 'death_date': '1874-05-23', 'place_of_birth': 'Leuven', 'wikipedia_url': 'https://nl.wikipedia.org/wiki/Sylvain_Van_de_Weyer', 'start_mandate': '1845-07-30', 'end_mandate': '1846-03-31'}, {'id': 'Q569138', 'first_name': 'Jules', 'last_name': 'Burlet', 'birth_date': '1844-04-10', 'death_date': '1897-03-01', 'place_of_birth': 'Ixelles - Elsene', 'wikipedia_url': 'https://nl.wikipedia.org/wiki/Jules_de_Burlet', 'start_mandate': '1894-03-26', 'end_mandate': '1896-02-25'}, {'id': 'Q665955', 'first_name': 'Paul-Émile', 'last_name': 'None', 'birth_date': '1872-05-30', 'death_date': '1944-03-03', 'place_of_birth': 'Brussels metropolitan area', 'wikipedia_url': 'https://nl.wikipedia.org/wiki/Paul-Emile_Janson', 'start_mandate': '1937-11-24', 'end_mandate': '1938-05-15'}, {'id': 'Q678535', 'first_name': 'Jules', 'last_name': 'Malou', 'birth_date': '1810-10-19', 'death_date': '1886-07-11', 'place_of_birth': 'Ypres', 'wikipedia_url': 'https://nl.wikipedia.org/wiki/Jules_Malou', 'start_mandate': '1884-06-16', 'end_mandate': '1884-10-26'}, {'id': 'Q705103', 'first_name': 'Charles', 'last_name': 'Broqueville', 'birth_date': '1860-12-04', 'death_date': '1940-09-05', 'place_of_birth': 'Postel', 'wikipedia_url': 'https://nl.wikipedia.org/wiki/Charles_de_Broqueville', 'start_mandate': '1932-10-22', 'end_mandate': '1934-11-20'}, {'id': 'Q705111', 'first_name': 'Joseph', 'last_name': 'Pholien', 'birth_date': '1884-12-28', 'death_date': '1968-01-04', 'place_of_birth': 'Liège', 'wikipedia_url': 'https://nl.wikipedia.org/wiki/Joseph_Pholien', 'start_mandate': '1950-08-16', 'end_mandate': '1952-01-15'}, {'id': 'Q705128', 'first_name': 'Jean', 'last_name': 'Van Houtte', 'birth_date': '1907-03-17', 'death_date': '1991-05-23', 'place_of_birth': 'Ghent', 'wikipedia_url': 'https://nl.wikipedia.org/wiki/Jean_Van_Houtte', 'start_mandate': '1952-01-15', 'end_mandate': '1954-04-23'}, {'id': 'Q705791', 'first_name': 'Walthère', 'last_name': 'Frère', 'birth_date': '1812-04-22', 'death_date': '1896-01-02', 'place_of_birth': 'Liège', 'wikipedia_url': 'https://nl.wikipedia.org/wiki/Walth%C3%A8re_Fr%C3%A8re-Orban', 'start_mandate': '1878-06-19', 'end_mandate': '1884-06-16'}, {'id': 'Q719483', 'first_name': 'Gérard', 'last_name': 'Cooreman', 'birth_date': '1852-03-25', 'death_date': '1926-12-02', 'place_of_birth': 'Ghent', 'wikipedia_url': 'https://nl.wikipedia.org/wiki/Gerard_Cooreman', 'start_mandate': '1918-06-01', 'end_mandate': '1918-11-21'}, {'id': 'Q721772', 'first_name': 'Jules', 'last_name': 'Vandenpeereboom', 'birth_date': '1843-03-18', 'death_date': '1917-03-06', 'place_of_birth': 'Kortrijk', 'wikipedia_url': 'https://nl.wikipedia.org/wiki/Jules_Vandenpeereboom', 'start_mandate': '1899-01-24', 'end_mandate': '1899-08-05'}, {'id': 'Q721781', 'first_name': 'Paul', 'last_name': 'None', 'birth_date': '1843-05-13', 'death_date': '1913-09-09', 'place_of_birth': 'Ghent', 'wikipedia_url': 'https://nl.wikipedia.org/wiki/Paul_de_Smet_de_Naeyer', 'start_mandate': '1899-08-05', 'end_mandate': '1907-05-02'}, {'id': 'Q721798', 'first_name': 'Jules', 'last_name': 'Trooz', 'birth_date': '1857-02-21', 'death_date': '1907-12-31', 'place_of_birth': 'Leuven', 'wikipedia_url': 'https://nl.wikipedia.org/wiki/Jules_de_Trooz', 'start_mandate': '1907-05-02', 'end_mandate': '1907-12-31'}, {'id': 'Q725589', 'first_name': 'Jules', 'last_name': \"d'Anethan\", 'birth_date': '1803-04-23', 'death_date': '1888-10-08', 'place_of_birth': 'Brussels metropolitan area', 'wikipedia_url': 'https://nl.wikipedia.org/wiki/Jules_Joseph_d%27Anethan', 'start_mandate': '1870-07-02', 'end_mandate': '1871-12-07'}, {'id': 'Q950958', 'first_name': 'Charles', 'last_name': 'Michel', 'birth_date': '1975-12-21', 'death_date': None, 'place_of_birth': 'Namur', 'wikipedia_url': 'https://nl.wikipedia.org/wiki/Charles_Michel', 'start_mandate': '2014-10-11', 'end_mandate': '2019-10-27'}, {'id': 'Q18434995', 'first_name': 'Sophie', 'last_name': 'Wilmès', 'birth_date': '1975-01-15', 'death_date': None, 'place_of_birth': 'Ixelles - Elsene', 'wikipedia_url': 'https://nl.wikipedia.org/wiki/Sophie_Wilm%C3%A8s', 'start_mandate': '2019-10-27', 'end_mandate': '2020-10-01'}], 'us': [{'id': 'Q23', 'first_name': 'George', 'last_name': 'Washington', 'birth_date': '1732-02-22', 'death_date': '1799-12-14', 'place_of_birth': 'Westmoreland County', 'wikipedia_url': 'https://en.wikipedia.org/wiki/George_Washington', 'start_mandate': '1789-04-30', 'end_mandate': '1797-03-04'}, {'id': 'Q76', 'first_name': 'Barack', 'last_name': 'Obama', 'birth_date': '1961-08-04', 'death_date': None, 'place_of_birth': 'Kapiolani Medical Center for Women and Children', 'wikipedia_url': 'https://en.wikipedia.org/wiki/Barack_Obama', 'start_mandate': '2009-01-20', 'end_mandate': '2017-01-20'}, {'id': 'Q91', 'first_name': 'Abraham', 'last_name': 'Lincoln', 'birth_date': '1809-02-12', 'death_date': '1865-04-15', 'place_of_birth': 'Sinking Spring Farm', 'wikipedia_url': 'https://en.wikipedia.org/wiki/Abraham_Lincoln', 'start_mandate': '1861-03-04', 'end_mandate': '1865-04-15'}, {'id': 'Q207', 'first_name': 'George', 'last_name': 'Bush', 'birth_date': '1946-07-06', 'death_date': None, 'place_of_birth': 'New Haven', 'wikipedia_url': 'https://en.wikipedia.org/wiki/George_W._Bush', 'start_mandate': '2001-01-20', 'end_mandate': '2009-01-20'}, {'id': 'Q1124', 'first_name': 'Bill', 'last_name': 'Clinton', 'birth_date': '1946-08-19', 'death_date': None, 'place_of_birth': 'Hope', 'wikipedia_url': 'https://en.wikipedia.org/wiki/Bill_Clinton', 'start_mandate': '1993-01-20', 'end_mandate': '2001-01-20'}, {'id': 'Q6279', 'first_name': 'Joe', 'last_name': 'Biden', 'birth_date': '1942-11-20', 'death_date': None, 'place_of_birth': \"St. Mary's Hospital\", 'wikipedia_url': 'https://en.wikipedia.org/wiki/Joe_Biden', 'start_mandate': '2021-01-20', 'end_mandate': None}, {'id': 'Q8007', 'first_name': 'Franklin', 'last_name': 'Roosevelt', 'birth_date': '1882-01-30', 'death_date': '1945-04-12', 'place_of_birth': 'Hyde Park', 'wikipedia_url': 'https://en.wikipedia.org/wiki/Franklin_D._Roosevelt', 'start_mandate': '1933-03-04', 'end_mandate': '1945-04-12'}, {'id': 'Q8612', 'first_name': 'Andrew', 'last_name': 'Johnson', 'birth_date': '1808-12-29', 'death_date': '1875-07-31', 'place_of_birth': 'Raleigh', 'wikipedia_url': 'https://en.wikipedia.org/wiki/Andrew_Johnson', 'start_mandate': '1865-04-15', 'end_mandate': '1869-03-04'}, {'id': 'Q9582', 'first_name': 'Gerald', 'last_name': 'Ford', 'birth_date': '1913-07-14', 'death_date': '2006-12-26', 'place_of_birth': 'Omaha', 'wikipedia_url': 'https://en.wikipedia.org/wiki/Gerald_Ford', 'start_mandate': '1974-08-09', 'end_mandate': '1977-01-20'}, {'id': 'Q9588', 'first_name': 'Richard', 'last_name': 'Nixon', 'birth_date': '1913-01-09', 'death_date': '1994-04-22', 'place_of_birth': 'Yorba Linda', 'wikipedia_url': 'https://en.wikipedia.org/wiki/Richard_Nixon', 'start_mandate': '1969-01-20', 'end_mandate': '1974-08-09'}, {'id': 'Q9640', 'first_name': 'Lyndon', 'last_name': 'Johnson', 'birth_date': '1908-08-27', 'death_date': '1973-01-22', 'place_of_birth': 'Stonewall', 'wikipedia_url': 'https://en.wikipedia.org/wiki/Lyndon_B._Johnson', 'start_mandate': '1963-11-22', 'end_mandate': '1969-01-20'}, {'id': 'Q9696', 'first_name': 'John', 'last_name': 'Kennedy', 'birth_date': '1917-05-29', 'death_date': '1963-11-22', 'place_of_birth': 'Brookline', 'wikipedia_url': 'https://en.wikipedia.org/wiki/John_F._Kennedy', 'start_mandate': '1961-01-20', 'end_mandate': '1963-11-22'}, {'id': 'Q9916', 'first_name': 'Dwight', 'last_name': 'Eisenhower', 'birth_date': '1890-10-14', 'death_date': '1969-03-28', 'place_of_birth': 'Denison', 'wikipedia_url': 'https://en.wikipedia.org/wiki/Dwight_D._Eisenhower', 'start_mandate': '1953-01-20', 'end_mandate': '1961-01-20'}, {'id': 'Q9960', 'first_name': 'Ronald', 'last_name': 'Reagan', 'birth_date': '1911-02-06', 'death_date': '2004-06-05', 'place_of_birth': 'Tampico', 'wikipedia_url': 'https://en.wikipedia.org/wiki/Ronald_Reagan', 'start_mandate': '1981-01-20', 'end_mandate': '1989-01-20'}, {'id': 'Q11613', 'first_name': 'Harry', 'last_name': 'Truman', 'birth_date': '1884-05-08', 'death_date': '1972-12-26', 'place_of_birth': 'Lamar', 'wikipedia_url': 'https://en.wikipedia.org/wiki/Harry_S._Truman', 'start_mandate': '1945-04-12', 'end_mandate': '1953-01-20'}, {'id': 'Q11806', 'first_name': 'John', 'last_name': 'Adams', 'birth_date': None, 'death_date': '1826-07-04', 'place_of_birth': 'Braintree', 'wikipedia_url': 'https://en.wikipedia.org/wiki/John_Adams', 'start_mandate': '1797-03-04', 'end_mandate': '1801-03-04'}, {'id': 'Q11812', 'first_name': 'Thomas', 'last_name': 'Jefferson', 'birth_date': None, 'death_date': '1826-07-04', 'place_of_birth': 'Shadwell', 'wikipedia_url': 'https://en.wikipedia.org/wiki/Thomas_Jefferson', 'start_mandate': '1801-03-04', 'end_mandate': '1809-03-04'}, {'id': 'Q11813', 'first_name': 'James', 'last_name': 'Madison', 'birth_date': '1751-03-16', 'death_date': '1836-06-28', 'place_of_birth': 'Port Conway', 'wikipedia_url': 'https://en.wikipedia.org/wiki/James_Madison', 'start_mandate': '1809-03-04', 'end_mandate': '1817-03-04'}, {'id': 'Q11815', 'first_name': 'James', 'last_name': 'Monroe', 'birth_date': '1758-04-28', 'death_date': '1831-07-04', 'place_of_birth': 'Monroe Hall', 'wikipedia_url': 'https://en.wikipedia.org/wiki/James_Monroe', 'start_mandate': '1817-03-04', 'end_mandate': '1825-03-04'}, {'id': 'Q11816', 'first_name': 'John', 'last_name': 'Adams', 'birth_date': '1767-07-11', 'death_date': '1848-02-23', 'place_of_birth': 'Braintree', 'wikipedia_url': 'https://en.wikipedia.org/wiki/John_Quincy_Adams', 'start_mandate': '1825-03-04', 'end_mandate': '1829-03-04'}, {'id': 'Q11817', 'first_name': 'Andrew', 'last_name': 'Jackson', 'birth_date': '1767-03-15', 'death_date': '1845-06-08', 'place_of_birth': 'Waxhaws', 'wikipedia_url': 'https://en.wikipedia.org/wiki/Andrew_Jackson', 'start_mandate': '1829-03-04', 'end_mandate': '1837-03-04'}, {'id': 'Q11820', 'first_name': 'Martin', 'last_name': 'Van Buren', 'birth_date': '1782-12-05', 'death_date': '1862-07-24', 'place_of_birth': 'Kinderhook', 'wikipedia_url': 'https://en.wikipedia.org/wiki/Martin_Van_Buren', 'start_mandate': '1837-03-04', 'end_mandate': '1841-03-04'}, {'id': 'Q11869', 'first_name': 'William', 'last_name': 'Harrison', 'birth_date': '1773-02-09', 'death_date': '1841-04-04', 'place_of_birth': 'Charles City County', 'wikipedia_url': 'https://en.wikipedia.org/wiki/William_Henry_Harrison', 'start_mandate': '1841-03-04', 'end_mandate': '1841-04-04'}, {'id': 'Q11881', 'first_name': 'John', 'last_name': 'Tyler', 'birth_date': '1790-03-29', 'death_date': '1862-01-18', 'place_of_birth': 'Charles City County', 'wikipedia_url': 'https://en.wikipedia.org/wiki/John_Tyler', 'start_mandate': '1841-04-04', 'end_mandate': '1845-03-04'}, {'id': 'Q11891', 'first_name': 'James', 'last_name': 'Polk', 'birth_date': '1795-11-02', 'death_date': '1849-06-15', 'place_of_birth': 'Pineville', 'wikipedia_url': 'https://en.wikipedia.org/wiki/James_K._Polk', 'start_mandate': '1845-03-04', 'end_mandate': '1849-03-04'}, {'id': 'Q11896', 'first_name': 'Zachary', 'last_name': 'Taylor', 'birth_date': '1784-11-24', 'death_date': '1850-07-09', 'place_of_birth': 'Barboursville', 'wikipedia_url': 'https://en.wikipedia.org/wiki/Zachary_Taylor', 'start_mandate': '1849-03-04', 'end_mandate': '1850-07-09'}, {'id': 'Q12306', 'first_name': 'Millard', 'last_name': 'Fillmore', 'birth_date': '1800-01-07', 'death_date': '1874-03-08', 'place_of_birth': 'Summerhill', 'wikipedia_url': 'https://en.wikipedia.org/wiki/Millard_Fillmore', 'start_mandate': '1850-07-09', 'end_mandate': '1853-03-04'}, {'id': 'Q12312', 'first_name': 'Franklin', 'last_name': 'Pierce', 'birth_date': '1804-11-23', 'death_date': '1869-10-08', 'place_of_birth': 'Hillsborough', 'wikipedia_url': 'https://en.wikipedia.org/wiki/Franklin_Pierce', 'start_mandate': '1853-03-04', 'end_mandate': '1857-03-04'}, {'id': 'Q12325', 'first_name': 'James', 'last_name': 'Buchanan', 'birth_date': '1791-04-23', 'death_date': '1868-06-01', 'place_of_birth': 'Stony Batter', 'wikipedia_url': 'https://en.wikipedia.org/wiki/James_Buchanan', 'start_mandate': '1857-03-04', 'end_mandate': '1861-03-04'}, {'id': 'Q22686', 'first_name': 'Donald', 'last_name': 'Trump', 'birth_date': '1946-06-14', 'death_date': None, 'place_of_birth': 'Jamaica Hospital Medical Center', 'wikipedia_url': 'https://en.wikipedia.org/wiki/Donald_Trump', 'start_mandate': '2017-01-20', 'end_mandate': '2021-01-20'}, {'id': 'Q23505', 'first_name': 'George', 'last_name': 'Bush', 'birth_date': '1924-06-12', 'death_date': '2018-11-30', 'place_of_birth': 'Milton', 'wikipedia_url': 'https://en.wikipedia.org/wiki/George_H._W._Bush', 'start_mandate': '1989-01-20', 'end_mandate': '1993-01-20'}, {'id': 'Q23685', 'first_name': 'Jimmy', 'last_name': 'Carter', 'birth_date': '1924-10-01', 'death_date': None, 'place_of_birth': 'Lillian G. Carter Nursing Center', 'wikipedia_url': 'https://en.wikipedia.org/wiki/Jimmy_Carter', 'start_mandate': '1977-01-20', 'end_mandate': '1981-01-20'}, {'id': 'Q33866', 'first_name': 'Theodore', 'last_name': 'Roosevelt', 'birth_date': '1858-10-27', 'death_date': '1919-01-06', 'place_of_birth': 'Manhattan', 'wikipedia_url': 'https://en.wikipedia.org/wiki/Theodore_Roosevelt', 'start_mandate': '1901-09-14', 'end_mandate': '1909-03-04'}, {'id': 'Q34296', 'first_name': 'Woodrow', 'last_name': 'Wilson', 'birth_date': '1856-12-28', 'death_date': '1924-02-03', 'place_of_birth': 'Staunton', 'wikipedia_url': 'https://en.wikipedia.org/wiki/Woodrow_Wilson', 'start_mandate': '1913-03-04', 'end_mandate': '1921-03-04'}, {'id': 'Q34597', 'first_name': 'James', 'last_name': 'Garfield', 'birth_date': '1831-11-19', 'death_date': '1881-09-19', 'place_of_birth': 'Moreland Hills', 'wikipedia_url': 'https://en.wikipedia.org/wiki/James_A._Garfield', 'start_mandate': '1881-03-04', 'end_mandate': '1881-09-19'}, {'id': 'Q34836', 'first_name': 'Ulysses', 'last_name': 'Grant', 'birth_date': '1822-04-27', 'death_date': '1885-07-23', 'place_of_birth': 'Point Pleasant', 'wikipedia_url': 'https://en.wikipedia.org/wiki/Ulysses_S._Grant', 'start_mandate': '1869-03-04', 'end_mandate': '1877-03-04'}, {'id': 'Q35041', 'first_name': 'William', 'last_name': 'McKinley', 'birth_date': '1843-01-29', 'death_date': '1901-09-14', 'place_of_birth': 'Niles', 'wikipedia_url': 'https://en.wikipedia.org/wiki/William_McKinley', 'start_mandate': '1897-03-04', 'end_mandate': '1901-09-14'}, {'id': 'Q35171', 'first_name': 'Stephen', 'last_name': 'Cleveland', 'birth_date': '1837-03-18', 'death_date': '1908-06-24', 'place_of_birth': 'Caldwell', 'wikipedia_url': 'https://en.wikipedia.org/wiki/Grover_Cleveland', 'start_mandate': '1893-03-04', 'end_mandate': '1897-03-04'}, {'id': 'Q35236', 'first_name': 'Herbert', 'last_name': 'Hoover', 'birth_date': '1874-08-10', 'death_date': '1964-10-20', 'place_of_birth': 'West Branch', 'wikipedia_url': 'https://en.wikipedia.org/wiki/Herbert_Hoover', 'start_mandate': '1929-03-04', 'end_mandate': '1933-03-04'}, {'id': 'Q35286', 'first_name': 'Warren', 'last_name': 'Harding', 'birth_date': '1865-11-02', 'death_date': '1923-08-02', 'place_of_birth': 'Blooming Grove', 'wikipedia_url': 'https://en.wikipedia.org/wiki/Warren_G._Harding', 'start_mandate': '1921-03-04', 'end_mandate': '1923-08-02'}, {'id': 'Q35498', 'first_name': 'Chester', 'last_name': 'Arthur', 'birth_date': '1829-10-05', 'death_date': '1886-11-18', 'place_of_birth': 'Fairfield', 'wikipedia_url': 'https://en.wikipedia.org/wiki/Chester_A._Arthur', 'start_mandate': '1881-09-19', 'end_mandate': '1885-03-04'}, {'id': 'Q35648', 'first_name': 'William', 'last_name': 'Taft', 'birth_date': '1857-09-15', 'death_date': '1930-03-08', 'place_of_birth': 'Cincinnati', 'wikipedia_url': 'https://en.wikipedia.org/wiki/William_Howard_Taft', 'start_mandate': '1909-03-04', 'end_mandate': '1913-03-04'}, {'id': 'Q35678', 'first_name': 'Benjamin', 'last_name': 'Harrison', 'birth_date': '1833-08-20', 'death_date': '1901-03-13', 'place_of_birth': 'North Bend', 'wikipedia_url': 'https://en.wikipedia.org/wiki/Benjamin_Harrison', 'start_mandate': '1889-03-04', 'end_mandate': '1893-03-04'}, {'id': 'Q35686', 'first_name': 'Rutherford', 'last_name': 'Hayes', 'birth_date': '1822-10-04', 'death_date': '1893-01-17', 'place_of_birth': 'Delaware', 'wikipedia_url': 'https://en.wikipedia.org/wiki/Rutherford_B._Hayes', 'start_mandate': '1877-03-04', 'end_mandate': '1881-03-04'}, {'id': 'Q36023', 'first_name': 'John', 'last_name': 'Coolidge', 'birth_date': '1872-07-04', 'death_date': '1933-01-05', 'place_of_birth': 'Plymouth Notch', 'wikipedia_url': 'https://en.wikipedia.org/wiki/Calvin_Coolidge', 'start_mandate': '1923-08-02', 'end_mandate': '1929-03-04'}], 'ru': [{'id': 'Q7747', 'first_name': 'Vladimir', 'last_name': 'Putin', 'birth_date': '1952-10-07', 'death_date': None, 'place_of_birth': 'Saint Petersburg', 'wikipedia_url': 'https://ru.wikipedia.org/wiki/%D0%9F%D1%83%D1%82%D0%B8%D0%BD,_%D0%92%D0%BB%D0%B0%D0%B4%D0%B8%D0%BC%D0%B8%D1%80_%D0%92%D0%BB%D0%B0%D0%B4%D0%B8%D0%BC%D0%B8%D1%80%D0%BE%D0%B2%D0%B8%D1%87', 'start_mandate': '2000-05-07', 'end_mandate': '2008-05-07'}, {'id': 'Q23530', 'first_name': 'Dmitry', 'last_name': 'Medvedev', 'birth_date': '1965-09-14', 'death_date': None, 'place_of_birth': 'Saint Petersburg', 'wikipedia_url': 'https://ru.wikipedia.org/wiki/%D0%9C%D0%B5%D0%B4%D0%B2%D0%B5%D0%B4%D0%B5%D0%B2,_%D0%94%D0%BC%D0%B8%D1%82%D1%80%D0%B8%D0%B9_%D0%90%D0%BD%D0%B0%D1%82%D0%BE%D0%BB%D1%8C%D0%B5%D0%B2%D0%B8%D1%87', 'start_mandate': '2008-05-07', 'end_mandate': '2012-05-07'}, {'id': 'Q34453', 'first_name': 'Boris', 'last_name': 'Yeltsin', 'birth_date': '1931-02-01', 'death_date': '2007-04-23', 'place_of_birth': 'Butka', 'wikipedia_url': 'https://ru.wikipedia.org/wiki/%D0%95%D0%BB%D1%8C%D1%86%D0%B8%D0%BD,_%D0%91%D0%BE%D1%80%D0%B8%D1%81_%D0%9D%D0%B8%D0%BA%D0%BE%D0%BB%D0%B0%D0%B5%D0%B2%D0%B8%D1%87', 'start_mandate': '1991-07-10', 'end_mandate': '1999-12-31'}], 'fr': [{'id': 'Q157', 'first_name': 'François', 'last_name': 'Hollande', 'birth_date': '1954-08-12', 'death_date': None, 'place_of_birth': 'Rouen', 'wikipedia_url': 'https://fr.wikipedia.org/wiki/Fran%C3%A7ois_Hollande', 'start_mandate': '2012-05-15', 'end_mandate': '2017-05-14'}, {'id': 'Q329', 'first_name': 'Nicolas', 'last_name': 'Sarkozy', 'birth_date': '1955-01-28', 'death_date': None, 'place_of_birth': 'Paris', 'wikipedia_url': 'https://fr.wikipedia.org/wiki/Nicolas_Sarkozy', 'start_mandate': '2007-05-16', 'end_mandate': '2012-05-15'}, {'id': 'Q2038', 'first_name': 'François', 'last_name': 'Mitterrand', 'birth_date': '1916-10-26', 'death_date': '1996-01-08', 'place_of_birth': 'Jarnac', 'wikipedia_url': 'https://fr.wikipedia.org/wiki/Fran%C3%A7ois_Mitterrand', 'start_mandate': '1981-05-21', 'end_mandate': '1995-05-17'}, {'id': 'Q2042', 'first_name': 'Charles', 'last_name': 'de Gaulle', 'birth_date': '1890-11-22', 'death_date': '1970-11-09', 'place_of_birth': 'Lille', 'wikipedia_url': 'https://fr.wikipedia.org/wiki/Charles_de_Gaulle', 'start_mandate': '1959-01-08', 'end_mandate': '1969-04-28'}, {'id': 'Q2105', 'first_name': 'Jacques', 'last_name': 'Chirac', 'birth_date': '1932-11-29', 'death_date': '2019-09-26', 'place_of_birth': '5th arrondissement of Paris', 'wikipedia_url': 'https://fr.wikipedia.org/wiki/Jacques_Chirac', 'start_mandate': '1995-05-17', 'end_mandate': '2007-05-16'}, {'id': 'Q2124', 'first_name': 'Valéry', 'last_name': \"Giscard d'Estaing\", 'birth_date': '1926-02-02', 'death_date': '2020-12-02', 'place_of_birth': 'Koblenz', 'wikipedia_url': 'https://fr.wikipedia.org/wiki/Val%C3%A9ry_Giscard_d%27Estaing', 'start_mandate': '1974-05-27', 'end_mandate': '1981-05-21'}, {'id': 'Q2185', 'first_name': 'Georges', 'last_name': 'Pompidou', 'birth_date': '1911-07-05', 'death_date': '1974-04-02', 'place_of_birth': 'Montboudif', 'wikipedia_url': 'https://fr.wikipedia.org/wiki/Georges_Pompidou', 'start_mandate': '1969-06-20', 'end_mandate': '1974-04-02'}, {'id': 'Q5738', 'first_name': 'Adolphe', 'last_name': 'Thiers', 'birth_date': '1797-04-15', 'death_date': '1877-09-03', 'place_of_birth': 'Marseille', 'wikipedia_url': 'https://fr.wikipedia.org/wiki/Adolphe_Thiers', 'start_mandate': '1871-08-31', 'end_mandate': '1873-05-24'}, {'id': 'Q7721', 'first_name': 'Napoléon', 'last_name': 'Bonaparte', 'birth_date': '1808-04-20', 'death_date': '1873-01-09', 'place_of_birth': 'Paris', 'wikipedia_url': 'https://fr.wikipedia.org/wiki/Napol%C3%A9on_III', 'start_mandate': '1848-12-20', 'end_mandate': '1852-12-02'}, {'id': 'Q12680', 'first_name': 'Paul', 'last_name': 'Doumer', 'birth_date': '1857-03-22', 'death_date': '1932-05-07', 'place_of_birth': 'Aurillac', 'wikipedia_url': 'https://fr.wikipedia.org/wiki/Paul_Doumer', 'start_mandate': '1931-06-13', 'end_mandate': '1932-05-07'}, {'id': 'Q12950', 'first_name': 'Alain', 'last_name': 'Poher', 'birth_date': '1909-04-17', 'death_date': '1996-12-09', 'place_of_birth': 'Ablon-sur-Seine', 'wikipedia_url': 'https://fr.wikipedia.org/wiki/Alain_Poher', 'start_mandate': '1969-04-28', 'end_mandate': '1969-06-20'}, {'id': 'Q158749', 'first_name': 'Albert', 'last_name': 'Lebrun', 'birth_date': '1871-08-29', 'death_date': '1950-03-06', 'place_of_birth': 'Mercy-le-Haut', 'wikipedia_url': 'https://fr.wikipedia.org/wiki/Albert_Lebrun', 'start_mandate': '1932-05-10', 'end_mandate': '1940-07-11'}, {'id': 'Q158768', 'first_name': 'René', 'last_name': 'Coty', 'birth_date': '1882-03-20', 'death_date': '1962-11-22', 'place_of_birth': 'Le Havre', 'wikipedia_url': 'https://fr.wikipedia.org/wiki/Ren%C3%A9_Coty', 'start_mandate': '1954-01-16', 'end_mandate': '1959-01-08'}, {'id': 'Q158772', 'first_name': 'Vincent', 'last_name': 'Auriol', 'birth_date': '1884-08-27', 'death_date': '1966-01-01', 'place_of_birth': 'Revel', 'wikipedia_url': 'https://fr.wikipedia.org/wiki/Vincent_Auriol', 'start_mandate': '1947-01-16', 'end_mandate': '1954-01-16'}, {'id': 'Q158838', 'first_name': 'Patrice', 'last_name': 'de Mac Mahon', 'birth_date': '1808-06-13', 'death_date': '1893-10-17', 'place_of_birth': 'Sully', 'wikipedia_url': 'https://fr.wikipedia.org/wiki/Patrice_de_Mac_Mahon', 'start_mandate': '1873-05-24', 'end_mandate': '1879-01-30'}, {'id': 'Q169502', 'first_name': 'Émile', 'last_name': 'Loubet', 'birth_date': '1838-12-31', 'death_date': '1929-12-20', 'place_of_birth': 'Marsanne', 'wikipedia_url': 'https://fr.wikipedia.org/wiki/%C3%89mile_Loubet', 'start_mandate': '1899-02-18', 'end_mandate': '1906-02-18'}, {'id': 'Q191974', 'first_name': 'Raymond', 'last_name': 'Poincaré', 'birth_date': '1860-08-20', 'death_date': '1934-10-15', 'place_of_birth': 'Bar-le-Duc', 'wikipedia_url': 'https://fr.wikipedia.org/wiki/Raymond_Poincar%C3%A9', 'start_mandate': '1913-02-18', 'end_mandate': '1920-02-18'}, {'id': 'Q215778', 'first_name': 'Marie', 'last_name': 'Carnot', 'birth_date': '1837-08-11', 'death_date': '1894-06-25', 'place_of_birth': 'Limoges', 'wikipedia_url': 'https://fr.wikipedia.org/wiki/Sadi_Carnot_(homme_d%27%C3%89tat)', 'start_mandate': '1887-12-03', 'end_mandate': '1894-06-25'}, {'id': 'Q274540', 'first_name': 'Alexandre', 'last_name': 'Millerand', 'birth_date': '1859-02-10', 'death_date': '1943-04-06', 'place_of_birth': 'Paris', 'wikipedia_url': 'https://fr.wikipedia.org/wiki/Alexandre_Millerand', 'start_mandate': '1920-09-23', 'end_mandate': '1924-06-11'}, {'id': 'Q296064', 'first_name': 'Gaston', 'last_name': 'Doumergue', 'birth_date': '1863-08-01', 'death_date': '1937-06-18', 'place_of_birth': 'Aigues-Vives', 'wikipedia_url': 'https://fr.wikipedia.org/wiki/Gaston_Doumergue', 'start_mandate': '1924-06-13', 'end_mandate': '1931-06-13'}, {'id': 'Q296076', 'first_name': 'Félix', 'last_name': 'Faure', 'birth_date': '1841-01-30', 'death_date': '1899-02-16', 'place_of_birth': 'Paris', 'wikipedia_url': 'https://fr.wikipedia.org/wiki/F%C3%A9lix_Faure', 'start_mandate': '1895-01-17', 'end_mandate': '1899-02-16'}, {'id': 'Q296083', 'first_name': 'Jules', 'last_name': 'Grévy', 'birth_date': '1807-08-15', 'death_date': '1891-09-09', 'place_of_birth': 'Mont-sous-Vaudrey', 'wikipedia_url': 'https://fr.wikipedia.org/wiki/Jules_Gr%C3%A9vy', 'start_mandate': '1879-01-30', 'end_mandate': '1887-12-02'}, {'id': 'Q296673', 'first_name': 'Clément', 'last_name': 'Fallières', 'birth_date': '1841-11-06', 'death_date': '1931-06-22', 'place_of_birth': 'Mézin', 'wikipedia_url': 'https://fr.wikipedia.org/wiki/Armand_Falli%C3%A8res', 'start_mandate': '1906-02-18', 'end_mandate': '1913-02-18'}, {'id': 'Q309995', 'first_name': 'Paul', 'last_name': 'Deschanel', 'birth_date': '1855-02-13', 'death_date': '1922-04-28', 'place_of_birth': 'Schaerbeek - Schaarbeek', 'wikipedia_url': 'https://fr.wikipedia.org/wiki/Paul_Deschanel', 'start_mandate': '1920-02-18', 'end_mandate': '1920-09-21'}, {'id': 'Q312026', 'first_name': 'Georges', 'last_name': 'Bidault', 'birth_date': '1899-10-05', 'death_date': '1983-01-27', 'place_of_birth': 'Moulins', 'wikipedia_url': 'https://fr.wikipedia.org/wiki/Georges_Bidault', 'start_mandate': '1946-06-24', 'end_mandate': '1946-10-14'}, {'id': 'Q315656', 'first_name': 'Jean', 'last_name': 'Casimir-Perier', 'birth_date': '1847-11-08', 'death_date': '1907-03-11', 'place_of_birth': 'Paris', 'wikipedia_url': 'https://fr.wikipedia.org/wiki/Jean_Casimir-Perier', 'start_mandate': '1894-06-27', 'end_mandate': '1895-01-16'}, {'id': 'Q356032', 'first_name': 'Charles', 'last_name': 'Dupuy', 'birth_date': '1851-11-05', 'death_date': '1923-07-23', 'place_of_birth': 'Le Puy-en-Velay', 'wikipedia_url': 'https://fr.wikipedia.org/wiki/Charles_Dupuy', 'start_mandate': '1894-06-25', 'end_mandate': '1894-06-27'}, {'id': 'Q379702', 'first_name': 'Louis', 'last_name': 'Cavaignac', 'birth_date': '1802-10-15', 'death_date': '1857-10-28', 'place_of_birth': 'Paris', 'wikipedia_url': 'https://fr.wikipedia.org/wiki/Eug%C3%A8ne_Cavaignac', 'start_mandate': '1848-06-28', 'end_mandate': '1848-12-20'}, {'id': 'Q441235', 'first_name': 'Louis', 'last_name': 'None', 'birth_date': '1815-03-12', 'death_date': '1896-10-07', 'place_of_birth': 'Le Palais', 'wikipedia_url': 'https://fr.wikipedia.org/wiki/Louis_Jules_Trochu', 'start_mandate': '1870-09-04', 'end_mandate': '1871-01-22'}, {'id': 'Q459212', 'first_name': 'Frédéric', 'last_name': 'None', 'birth_date': '1874-03-16', 'death_date': '1958-05-20', 'place_of_birth': 'Paris', 'wikipedia_url': 'https://fr.wikipedia.org/wiki/Fr%C3%A9d%C3%A9ric_Fran%C3%A7ois-Marsal', 'start_mandate': '1924-06-11', 'end_mandate': '1924-06-13'}, {'id': 'Q3052772', 'first_name': 'Emmanuel', 'last_name': 'Macron', 'birth_date': '1977-12-21', 'death_date': None, 'place_of_birth': 'Amiens', 'wikipedia_url': 'https://fr.wikipedia.org/wiki/Emmanuel_Macron', 'start_mandate': '2017-05-14', 'end_mandate': None}], 'ma': [{'id': 'Q57553', 'first_name': 'Mohammed', 'last_name': 'None', 'birth_date': '1963-08-21', 'death_date': None, 'place_of_birth': 'Rabat', 'wikipedia_url': 'https://ar.wikipedia.org/wiki/%D9%85%D8%AD%D9%85%D8%AF_%D8%A7%D9%84%D8%B3%D8%A7%D8%AF%D8%B3_%D8%A8%D9%86_%D8%A7%D9%84%D8%AD%D8%B3%D9%86', 'start_mandate': '1999-07-23', 'end_mandate': None}, {'id': 'Q69103', 'first_name': 'Hassan', 'last_name': 'None', 'birth_date': '1929-07-09', 'death_date': '1999-07-20', 'place_of_birth': 'Rabat', 'wikipedia_url': 'https://ar.wikipedia.org/wiki/%D8%A7%D9%84%D8%AD%D8%B3%D9%86_%D8%A7%D9%84%D8%AB%D8%A7%D9%86%D9%8A_%D8%A8%D9%86_%D9%85%D8%AD%D9%85%D8%AF', 'start_mandate': '1961-02-26', 'end_mandate': '1999-07-23'}, {'id': 'Q193874', 'first_name': 'Mohammed', 'last_name': 'None', 'birth_date': '1909-08-10', 'death_date': '1961-02-26', 'place_of_birth': 'Fez', 'wikipedia_url': 'https://ar.wikipedia.org/wiki/%D9%85%D8%AD%D9%85%D8%AF_%D8%A7%D9%84%D8%AE%D8%A7%D9%85%D8%B3_%D8%A8%D9%86_%D9%8A%D9%88%D8%B3%D9%81', 'start_mandate': '1957-08-14', 'end_mandate': '1961-02-26'}, {'id': 'Q334782', 'first_name': 'Mohammed', 'last_name': 'None', 'birth_date': None, 'death_date': None, 'place_of_birth': 'None', 'wikipedia_url': 'https://ar.wikipedia.org/wiki/%D8%A7%D9%84%D9%82%D8%A7%D8%A6%D9%85_%D8%A8%D8%A3%D9%85%D8%B1_%D8%A7%D9%84%D9%84%D9%87_%D8%A7%D9%84%D8%B3%D8%B9%D8%AF%D9%8A', 'start_mandate': None, 'end_mandate': '1517-01-01'}]}\n"
          ]
        }
      ],
      "source": [
        "# 2 lines\n",
        "# Test the function and store the result (1 line)\n",
        "leaders_per_country = get_leaders()\n",
        "\n",
        "# Display the keys (countries) and the number of leaders for a quick check (1 line)\n",
        "print(leaders_per_country)\n"
      ]
    },
    {
      "cell_type": "markdown",
      "metadata": {
        "id": "D1Fc1mHySn9g"
      },
      "source": [
        "## 2. Extracting data from Wikipedia\n",
        "\n",
        "Query one of the leaders' Wikipedia urls and display its `text` (not JSON)."
      ]
    },
    {
      "cell_type": "code",
      "execution_count": 66,
      "metadata": {
        "id": "cEKKqyTHr3fD"
      },
      "outputs": [
        {
          "name": "stdout",
          "output_type": "stream",
          "text": [
            "<!DOCTYPE html>\n",
            "<html class=\"client-nojs vector-feature-language-in-header-enabled vector-feature-language-in-main-page-header-disabled vector-feature-page-tools-pinned-disabled vector-feature-toc-pinned-clientpref-1 vector-feature-main-menu-pinned-disabled vector-feature-limited-width-clientpref-1 vector-feature-limited-width-content-enabled vector-feature-custom-font-size-clientpref-1 vector-feature-appearance-pinned-clientpref-1 vector-feature-night-mode-enabled skin-theme-clientpref-day vector-sticky-header-enabled vector-toc-available\" lang=\"en\" dir=\"ltr\">\n",
            "<head>\n",
            "<meta charset=\"UTF-8\">\n",
            "<title>George Washington - Wikipedia</title>\n",
            "<script>(function(){var className=\"client-js vector-feature-language-in-header-enabled vector-feature-language-in-main-page-header-disabled vector-feature-page-tools-pinned-disabled vector-feature-toc-pinned-clientpref-1 vector-feature-main-menu-pinned-disabled vector-feature-limited-width-clientpref-1 vector-feature-limited-width-content-enabled vector-f\n"
          ]
        }
      ],
      "source": [
        "# 3 lines\n",
        "\n",
        "\"\"\" # Select one leader's Wikipedia URL and assign it to the wiki_url variable (1 line)\n",
        "wiki_url = leaders_per_country[countries[0]][0][\"wikipedia_url\"]\n",
        "\n",
        "# Query the Wikipedia page and store the response (1 line)\n",
        "response = requests.get(wiki_url)\n",
        "\n",
        "# Display the text content of the page (1 line)\n",
        "print(response.text)\n",
        " \"\"\"\n",
        "\n",
        "# Select one leader's Wikipedia URL and assign it to the wiki_url variable (1 line)\n",
        "wiki_url = leaders_per_country[\"us\"][0][\"wikipedia_url\"]\n",
        "\n",
        "# Query the Wikipedia page with a proper User-Agent header (1 line)\n",
        "response = requests.get(wiki_url, headers={\"User-Agent\": \"Mozilla/5.0 (Wikipedia Scraper Project - Educational Use)\"})\n",
        "\n",
        "# Display the text content of the page (1 line)\n",
        "print(response.text[:1000])  # Display first 1000 chars to avoid flooding the notebook\n",
        "\n",
        "\n"
      ]
    },
    {
      "attachments": {},
      "cell_type": "markdown",
      "metadata": {
        "id": "ZlsqjiTYr8sK"
      },
      "source": [
        "Ouch! You get the raw HTML code of the webpage. If you try to deal with it without tools, you will be there all night. Instead, use the [beautiful soup 4](https://www.crummy.com/software/BeautifulSoup/bs4/doc/) *external* library. You will find more info about it [here](../../2.python/2.python_advanced/05.Scraping/1.beautifulsoup_basic.ipynb) and [here](../../2.python/2.python_advanced/05.Scraping/2.beautifulsoup_advanced.ipynb)\n",
        "\n",
        "Using the Quickstart section, start by importing the library and loading the output of your `get_text()` function.\n",
        "\n",
        "Use the `prettify()` function and print it to take a look. You will start the actual parsing in the next step."
      ]
    },
    {
      "cell_type": "code",
      "execution_count": 102,
      "metadata": {
        "id": "h79ahwJvr7p-"
      },
      "outputs": [
        {
          "name": "stdout",
          "output_type": "stream",
          "text": [
            "<!DOCTYPE html>\n",
            "<html class=\"client-nojs vector-feature-language-in-header-enabled vector-feature-language-in-main-page-header-disabled vector-feature-page-tools-pinned-disabled vector-feature-toc-pinned-clientpref-1 vector-feature-main-menu-pinned-disabled vector-feature-limited-width-clientpref-1 vector-feature-limited-width-content-enabled vector-feature-custom-font-size-clientpref-1 vector-feature-appearance-pinned-clientpref-1 vector-feature-night-mode-enabled skin-theme-clientpref-day vector-sticky-header-enabled vector-toc-available\" dir=\"rtl\" lang=\"ar\">\n",
            " <head>\n",
            "  <meta charset=\"utf-8\"/>\n",
            "  <title>\n",
            "   الحسن الثاني بن محمد - ويكيبيديا\n",
            "  </title>\n",
            "  <script>\n",
            "   (function(){var className=\"client-js vector-feature-language-in-header-enabled vector-feature-language-in-main-page-header-disabled vector-feature-page-tools-pinned-disabled vector-feature-toc-pinned-clientpref-1 vector-feature-main-menu-pinned-disabled vector-feature-limited-width-clientpref-1 vector-feature-limited-width-co\n"
          ]
        }
      ],
      "source": [
        "# 3 lines\n",
        "\n",
        "# Import the BeautifulSoup class from bs4 (1 line)\n",
        "from bs4 import BeautifulSoup\n",
        "\n",
        "# Load the HTML content using BeautifulSoup (1 line)\n",
        "soup = BeautifulSoup(response.text, \"html.parser\")\n",
        "\n",
        "# Use prettify() to visualize the structure (1 line)\n",
        "print(soup.prettify()[:1000])  # Limit output to 1000 chars for readability\n",
        "\n"
      ]
    },
    {
      "cell_type": "markdown",
      "metadata": {
        "id": "aQsLjaig7_dY"
      },
      "source": [
        "That looks better but you need to extract the right part of the webpage: the text of the first paragraph.\n",
        "\n",
        "It is a bit tricky because Wikipedia pages slightly differ in structure from one language to the next. We cannot simply get the text for the first HTML paragraph.\n",
        "\n",
        "You will start by getting all the HTML paragraphs from the HTML source and saving them in the `paragraphs` variable.\n",
        "\n",
        "Use the documentation or google the appropriate keywords."
      ]
    },
    {
      "cell_type": "code",
      "execution_count": 101,
      "metadata": {
        "id": "Vs8HeBx19oyC"
      },
      "outputs": [
        {
          "name": "stdout",
          "output_type": "stream",
          "text": [
            "Found 150 paragraphs\n",
            "[<p><b>الحَسَن الثاني بِنْ مُحمد بِنْ يوسف العَلوي</b> (9 يوليو 1929 – 23 يوليو 1999)<sup class=\"reference\" id=\"cite_ref-archive.org2_13-0\"><a href=\"#cite_note-archive.org2-13\"><span class=\"cite-bracket\">[</span>13<span class=\"cite-bracket\">]</span></a></sup> هو ثاني ملوك <a href=\"/wiki/%D8%A7%D9%84%D9%85%D8%BA%D8%B1%D8%A8\" title=\"المغرب\">المملكة المغربية</a> بعد الإستقلال، والملك الثاني والعشرون للمغرب من <a href=\"/wiki/%D8%B3%D9%84%D8%A7%D9%84%D8%A9_%D8%A7%D9%84%D8%B9%D9%84%D9%88%D9%8A%D9%8A%D9%86_%D8%A7%D9%84%D9%81%D9%8A%D9%84%D8%A7%D9%84%D9%8A%D9%8A%D9%86_%D8%A7%D9%84%D8%AD%D8%A7%D9%83%D9%85%D8%A9\" title=\"سلالة العلويين الفيلاليين الحاكمة\">سلالة العلويين الفيلاليين</a>، تولى حكم المملكة المغربية خلفًا لوالده الملك <a href=\"/wiki/%D9%85%D8%AD%D9%85%D8%AF_%D8%A7%D9%84%D8%AE%D8%A7%D9%85%D8%B3_%D8%A8%D9%86_%D9%8A%D9%88%D8%B3%D9%81\" title=\"محمد الخامس بن يوسف\">محمد الخامس</a> في 26 فبراير 1961 وحتى وفاته في 23 يوليو 1999. ينتمي الملك الحسن الثاني إلى السلالة العلوية التي تعود في نسبها إلى <a href=\"/wiki/%D8%A7%D9%84%D8%AD%D8%B3%D9%86_%D8%A8%D9%86_%D8%B9%D9%84%D9%8A\" title=\"الحسن بن علي\">الحسن بن علي بن أبي طالب</a>، وتحكم المغرب منذ عام 1666 ميلادية ويلقب الحاكم منهم بأمير المؤمنين.\n",
            "</p>, <p>ولد في <a href=\"/wiki/%D8%A7%D9%84%D8%B1%D8%A8%D8%A7%D8%B7\" title=\"الرباط\">الرباط</a> وهو أكبر الأبناء الذكور للملك <a href=\"/wiki/%D9%85%D8%AD%D9%85%D8%AF_%D8%A7%D9%84%D8%AE%D8%A7%D9%85%D8%B3_%D8%A8%D9%86_%D9%8A%D9%88%D8%B3%D9%81\" title=\"محمد الخامس بن يوسف\">محمد الخامس</a> من زوجته الثانية <a href=\"/wiki/%D8%B9%D8%A8%D9%84%D8%A9_%D8%A8%D9%86%D8%AA_%D8%A7%D9%84%D8%B7%D8%A7%D9%87%D8%B1\" title=\"عبلة بنت الطاهر\">عبلة بنت الطاهر</a>، تلقَّى تعليمه المبكر في <a href=\"/wiki/%D8%A7%D9%84%D9%85%D8%AF%D8%B1%D8%B3%D8%A9_%D8%A7%D9%84%D9%85%D9%88%D9%84%D9%88%D9%8A%D8%A9\" title=\"المدرسة المولوية\">المدرسة المولوية</a>، ثم التحق بعد ذلك بالكلية الملكية بالرباط، حصل في عام 1947 على شهادة البكالوريا بامتياز، وحصل في عام 1952 على درجة الماجستير في القانون العام من <a href=\"/wiki/%D8%AC%D8%A7%D9%85%D8%B9%D8%A9_%D8%A8%D9%88%D8%B1%D8%AF%D9%88\" title=\"جامعة بوردو\">جامعة بوردو</a>، خدم في وقت لاحق في <a href=\"/wiki/%D8%A7%D9%84%D8%A8%D8%AD%D8%B1%D9%8A%D8%A9_%D8%A7%D9%84%D9%81%D8%B1%D9%86%D8%B3%D9%8A%D8%A9\" title=\"البحرية الفرنسية\">البحرية الفرنسية</a>.\n",
            "</p>, <p>برز نشاطه السياسي ونضاله من أجل الاستقلال في عمر مبكر، وعُرف بحنكته ودهائه السياسي منذ ريعان شبابه، كان يشعر باستياءٍ شديد بسبب الحماية الفرنسية والإسبانية ويتطلع إلى الاستقلال التام وتوحيد التراب المغربي، رافق والده محمد الخامس في منفاه في <a href=\"/wiki/%D9%83%D9%88%D8%B1%D8%B3%D9%8A%D9%83%D8%A7\" title=\"كورسيكا\">كورسيكا</a> ثم إلى <a href=\"/wiki/%D9%85%D8%AF%D8%BA%D8%B4%D9%82%D8%B1\" title=\"مدغشقر\">مدغشقر</a> عندما خلعته سلطات الانتداب الفرنسية عن العرش، عمل الأمير الحسن في المنفى كحلقة وصل بين والده وبين الشعب المغربي في الداخل والخارج، كما كان الأمير الحسن يحرر المراسلات ويترجم الرسائل لوالده في المنفى إلى أن عاد برفقة <a href=\"/wiki/%D9%85%D8%AD%D9%85%D8%AF_%D8%A7%D9%84%D8%AE%D8%A7%D9%85%D8%B3_%D8%A8%D9%86_%D9%8A%D9%88%D8%B3%D9%81\" title=\"محمد الخامس بن يوسف\">والده</a> إلى المغرب وشارك معه في المفاوضات من أجل الاستقلال.\n",
            "</p>]\n"
          ]
        }
      ],
      "source": [
        "# 2 lines\n",
        "# Extract all HTML paragraphs and store them in the paragraphs variable (1 line)\n",
        "paragraphs = soup.find_all(\"p\")\n",
        "\n",
        "# Display how many paragraphs were found (1 line)\n",
        "print(f\"Found {len(paragraphs)} paragraphs\")\n",
        "\n",
        "# Show the first few paragraphs to inspect (1 line)\n",
        "print(paragraphs[:3])\n"
      ]
    },
    {
      "cell_type": "markdown",
      "metadata": {
        "id": "3tlaL3aM9zoo"
      },
      "source": [
        "If you try different urls, you might find that the paragraph you want may be at a different index each time.\n",
        "\n",
        "That is where you need to be clever and ask yourself what would be a reliable way to identify the right index ie. which string matches only the first paragraph whatever the language...\n",
        "\n",
        "Spend a good 30 minutes on the problem and brainstorm with your fellow learners. If you come out empty handed, ask your coach.\n",
        "\n",
        "1. Loop over the HTML paragraphs\n",
        "2. When you have identified the correct one:\n",
        "   * Store the [text](https://www.crummy.com/software/BeautifulSoup/bs4/doc/#output) inside the `first_paragraph` variable\n",
        "   * Exit the loop"
      ]
    },
    {
      "cell_type": "code",
      "execution_count": 100,
      "metadata": {
        "id": "0DduDXaQALau"
      },
      "outputs": [
        {
          "name": "stdout",
          "output_type": "stream",
          "text": [
            "الحَسَن الثاني بِنْ مُحمد بِنْ يوسف العَلوي(9 يوليو 1929 – 23 يوليو 1999)[13]هو ثاني ملوكالمملكة المغربيةبعد الإستقلال، والملك الثاني والعشرون للمغرب منسلالة العلويين الفيلاليين، تولى حكم المملكة المغربية خلفًا لوالده الملكمحمد الخامسفي 26 فبراير 1961 وحتى وفاته في 23 يوليو 1999. ينتمي الملك الحسن الثاني إلى السلالة العلوية التي تعود في نسبها إلىالحسن بن علي بن أبي طالب، وتحكم المغرب منذ عام 1666 ميلادية ويلقب الحاكم منهم بأمير المؤمنين.\n"
          ]
        }
      ],
      "source": [
        "# 1) Loop over the HTML paragraphs\n",
        "paragraphs = soup.find_all(\"p\")\n",
        "\n",
        "first_paragraph = None\n",
        "for p in paragraphs:\n",
        "    text = p.get_text(strip=True)\n",
        "    # Heuristic: skip empty or very short paragraphs (nav/meta/fillers)\n",
        "    if len(text) > 60:\n",
        "        # 2) Identified the correct one\n",
        "        first_paragraph = text\n",
        "        #    * Store in first_paragraph\n",
        "        #    * Exit the loop\n",
        "        break\n",
        "\n",
        "# Optional: sanity check\n",
        "if first_paragraph is None:\n",
        "    print(\"No meaningful paragraph found.\")\n",
        "else:\n",
        "    print(first_paragraph)\n"
      ]
    },
    {
      "cell_type": "markdown",
      "metadata": {
        "id": "KFe-1LlIHBGm"
      },
      "source": [
        "At this stage, you can create a function to maintain consistency in your code. We will give you its *skeleton*, you will copy the code you wrote and make it work inside a function.\n",
        "\n",
        "Don't forget to test your function."
      ]
    },
    {
      "cell_type": "code",
      "execution_count": 110,
      "metadata": {
        "id": "wQORoweDHARO"
      },
      "outputs": [],
      "source": [
        "def get_first_paragraph(url):\n",
        "    \"\"\"Fetch a Wikipedia page and return the first meaningful intro paragraph.\"\"\"\n",
        "    import requests\n",
        "    from bs4 import BeautifulSoup\n",
        "\n",
        "    response = requests.get(url, headers={'User-Agent': 'Mozilla/5.0'})\n",
        "    soup = BeautifulSoup(response.text, \"html.parser\")\n",
        "\n",
        "    first_paragraph = None\n",
        "    for p in soup.find_all(\"p\"):\n",
        "        text = p.get_text(\" \", strip=True)  # 👈 add a space between tags\n",
        "        if len(text) > 60:\n",
        "            first_paragraph = text\n",
        "            break\n",
        "\n",
        "    return first_paragraph\n"
      ]
    },
    {
      "cell_type": "code",
      "execution_count": 111,
      "metadata": {},
      "outputs": [
        {
          "name": "stdout",
          "output_type": "stream",
          "text": [
            "George Washington (February 22, 1732 [ O.S. February 11, 1731] [ a ] – December 14 , 1799) was a Founding Father and the first president of the United States , serving from 1789 to 1797. As commander of the Continental Army , Washington led Patriot forces to victory in the American Revolutionary War against the British Empire . He is commonly known as the Father of the Nation for his role in bringing about American independence .\n"
          ]
        }
      ],
      "source": [
        "# Test: 3 lines\n",
        "test_url = leaders_per_country[\"us\"][0][\"wikipedia_url\"]\n",
        "print(get_first_paragraph(test_url))\n"
      ]
    },
    {
      "cell_type": "markdown",
      "metadata": {
        "id": "UtoM4dgsBVoD"
      },
      "source": [
        "### 2a. Regular expressions to the rescue\n",
        "\n",
        "Now that you have extracted the content of the first paragraph, the only thing that remains to finish your Wikipedia scraper is to sanitize the output.\n",
        "\n",
        "Indeed some Wikipedia references, HTML code, phonetic pronunciation etc. may linger. You might find *regular expressions* handy to get rid of them and obtain pristine text. You will find some useful documentation about regular expressions [here](../../2.python/2.python_advanced/03.Regex/regex.ipynb)\n",
        "\n",
        "Once you have one of your regex working online, try it in the cell below. \n",
        "\n",
        "Hints: \n",
        "* Check the `sub()` method documentation.\n",
        "* Make sure to test urls in different languages. Some may look good but other do not."
      ]
    },
    {
      "cell_type": "code",
      "execution_count": 116,
      "metadata": {},
      "outputs": [
        {
          "name": "stdout",
          "output_type": "stream",
          "text": [
            "محمد الخامس بن يوسف بن الحسن بن محمد بن عبد الرحمن بن هشام بن محمد بن عبد الله بن إسماعيل بن الشريف بن علي العلوي وُلد ( 1327 هـ / 10 أغسطس 1909م بالقصر السلطاني بفاس ) [ 1 ] وتوفي ( 1381 هـ / 26 فبراير 1961م بالرباط ) خَلَف والده السلطان مولاي يوسف الذي توفي بُكرة يوم الخميس 22 جمادى الأولى سنة 1346 هـ موافق 17 نوفمبر سنة 1927م [ 2 ] فبويع ابنه سيدي محمد سلطانا للمغرب في اليوم الموالي بعد صلاة الجمعة 23 جمادى الأولى سنة 1346 هـ موافق 18 نوفمبر سنة 1927م في القصر السلطاني بفاس [ 3 ] ولم يزل سلطان المغرب إلى سنة 1957م ، قضى منها المنفى بين ( 1953 - 1955 )، ثم اتخذ لقب الملك سنة 1957م ولم يزل ملكا إلى وفاته سنة 1961م ، ساند السلطان محمد الخامس نضالات الحركة الوطنية المغربية المطالبة بتحقيق الاستقلال ، الشيء الذي دفعه إلى الاصطدام بسلطات الحماية . وكانت النتيجة قيام سلطات الحماية بنفيه إلى مدغشقر . وعلى إثر ذلك اندلعت مظاهرات مطالبة بعودته إلى وطنه. وأمام اشتداد حدة المظاهرات، قبلت السلطات الفرنسية بإرجاع السلطان إلى عرشه يوم 16 نوفمبر 1955 . وبعد بضعة شهور تم إعلان استقلال المغرب . كان الملك محمد الخامس يكنى: أبا عبد الله. [ 1 ] [ 4 ] [ 5 ]\n"
          ]
        }
      ],
      "source": [
        "test_url = leaders_per_country[\"ma\"][2][\"wikipedia_url\"]\n",
        "print(get_first_paragraph(test_url))"
      ]
    },
    {
      "cell_type": "code",
      "execution_count": 117,
      "metadata": {
        "id": "7DHEAb6oBUxd"
      },
      "outputs": [
        {
          "name": "stdout",
          "output_type": "stream",
          "text": [
            "محمد الخامس بن يوسف بن الحسن بن محمد بن عبد الرحمن بن هشام بن محمد بن عبد الله بن إسماعيل بن الشريف بن علي العلوي وُلد ( 1327 هـ / 10 أغسطس 1909م بالقصر السلطاني بفاس )  وتوفي ( 1381 هـ / 26 فبراير 1961م بالرباط ) خَلَف والده السلطان مولاي يوسف الذي توفي بُكرة يوم الخميس 22 جمادى الأولى سنة 1346 هـ موافق 17 نوفمبر سنة 1927م  فبويع ابنه سيدي محمد سلطانا للمغرب في اليوم الموالي بعد صلاة الجمعة 23 جمادى الأولى سنة 1346 هـ موافق 18 نوفمبر سنة 1927م في القصر السلطاني بفاس  ولم يزل سلطان المغرب إلى سنة 1957م ، قضى منها المنفى بين ( 1953 - 1955 )، ثم اتخذ لقب الملك سنة 1957م ولم يزل ملكا إلى وفاته سنة 1961م ، ساند السلطان محمد الخامس نضالات الحركة الوطنية المغربية المطالبة بتحقيق الاستقلال ، الشيء الذي دفعه إلى الاصطدام بسلطات الحماية . وكانت النتيجة قيام سلطات الحماية بنفيه إلى مدغشقر . وعلى إثر ذلك اندلعت مظاهرات مطالبة بعودته إلى وطنه. وأمام اشتداد حدة المظاهرات، قبلت السلطات الفرنسية بإرجاع السلطان إلى عرشه يوم 16 نوفمبر 1955 . وبعد بضعة شهور تم إعلان استقلال المغرب . كان الملك محمد الخامس يكنى: أبا عبد الله.\n"
          ]
        }
      ],
      "source": [
        "# 3 lines\n",
        "\n",
        "# import the regex module (1 line)\n",
        "import re\n",
        "\n",
        "# clean the paragraph by removing reference markers and brackets (1 line)\n",
        "clean_paragraph = re.sub(r'\\[[^\\]]*\\]', '', get_first_paragraph(test_url))\n",
        "\n",
        "# display the cleaned text (1 line)\n",
        "print(clean_paragraph.strip())\n"
      ]
    },
    {
      "cell_type": "markdown",
      "metadata": {
        "id": "QekqWs-4E0bK"
      },
      "source": [
        "Overwrite the `get_first_paragraph()` function by applying your regex to the first paragraph before returning it."
      ]
    },
    {
      "cell_type": "code",
      "execution_count": 119,
      "metadata": {
        "id": "voT-jzd7FMOc"
      },
      "outputs": [],
      "source": [
        "# 10 lines\n",
        "import requests\n",
        "from bs4 import BeautifulSoup\n",
        "import re\n",
        "\n",
        "def get_first_paragraph(url):\n",
        "    \"\"\"Fetch a Wikipedia page, extract and clean the first meaningful intro paragraph.\"\"\"\n",
        "    \n",
        "    # query the Wikipedia URL\n",
        "    response = requests.get(url, headers={'User-Agent': 'Mozilla/5.0'})\n",
        "    \n",
        "    # parse the HTML using BeautifulSoup\n",
        "    soup = BeautifulSoup(response.text, \"html.parser\")\n",
        "    \n",
        "    # initialize variable\n",
        "    first_paragraph = None\n",
        "    \n",
        "    # loop over HTML paragraphs\n",
        "    for p in soup.find_all(\"p\"):\n",
        "        text = p.get_text(\" \", strip=True)\n",
        "        if len(text) > 60:\n",
        "            first_paragraph = text\n",
        "            break\n",
        "\n",
        "    if not first_paragraph:\n",
        "        return None\n",
        "\n",
        "    # --- Apply regex cleaning before returning ---\n",
        "    # remove reference markers like [1], [a], etc.\n",
        "    cleaned = re.sub(r'\\[[^\\]]*\\]', '', first_paragraph)\n",
        "    # remove phonetic pronunciations like /ˈwɒʃɪŋtən/\n",
        "    cleaned = re.sub(r'/[^/]+/', '', cleaned)\n",
        "    # collapse extra spaces\n",
        "    cleaned = re.sub(r'\\s{2,}', ' ', cleaned).strip()\n",
        "    \n",
        "    return cleaned\n"
      ]
    },
    {
      "cell_type": "code",
      "execution_count": 121,
      "metadata": {},
      "outputs": [
        {
          "name": "stdout",
          "output_type": "stream",
          "text": [
            "Abraham Lincoln (February 12, 1809 – April 15, 1865) was the 16th president of the United States , serving from 1861 until his assassination in 1865. He led the United States through the American Civil War , defeating the Confederate States and playing a major role in the abolition of slavery .\n"
          ]
        }
      ],
      "source": [
        "test_url = leaders_per_country[\"us\"][2][\"wikipedia_url\"]\n",
        "print(get_first_paragraph(test_url))"
      ]
    },
    {
      "cell_type": "markdown",
      "metadata": {
        "id": "VY7bM7Z1Nr0K"
      },
      "source": [
        "## 3. Putting it all together\n",
        "\n",
        "Let's go back to your `get_leaders()` function and update it with an *inner* loop over each leader. You will query the url provided and extract the first paragraph using the `get_first_paragraph()` function you just finished. You will then update that `leader`'s dictionary and move on to the next one.\n",
        "\n",
        "Notice, the rest of the code should not change since you modify the leader's data one by one."
      ]
    },
    {
      "cell_type": "code",
      "execution_count": 131,
      "metadata": {},
      "outputs": [],
      "source": [
        "# < 20 lines\n",
        "\n",
        "def get_leaders():\n",
        "    \"\"\"Retrieve leaders for all countries and enrich them with Wikipedia intro paragraphs.\"\"\"\n",
        "    import requests\n",
        "\n",
        "    root_url = \"https://country-leaders.onrender.com\"\n",
        "    cookie_url = f\"{root_url}/cookie\"\n",
        "    countries_url = f\"{root_url}/countries\"\n",
        "    leaders_url = f\"{root_url}/leaders\"\n",
        "\n",
        "    # Get cookie (1 line)\n",
        "    cookies = requests.get(cookie_url).cookies\n",
        "\n",
        "    # Get countries (1 line)\n",
        "    countries = requests.get(countries_url, cookies=cookies).json()\n",
        "\n",
        "    # Initialize container (1 line)\n",
        "    leaders_per_country = {}\n",
        "\n",
        "    # Loop through each country (3 lines)\n",
        "    for country in countries:\n",
        "        leaders = requests.get(leaders_url, cookies=cookies, params={\"country\": country}).json()\n",
        "\n",
        "        # Inner loop: scrape first paragraph for each leader (4 lines)\n",
        "        for leader in leaders:\n",
        "            wiki_url = leader.get(\"wikipedia_url\")\n",
        "            leader[\"first_paragraph\"] = get_first_paragraph(wiki_url) if wiki_url else None\n",
        "\n",
        "        # Save to main dictionary (1 line)\n",
        "        leaders_per_country[country] = leaders\n",
        "\n",
        "    # Return results (1 line)\n",
        "    return leaders_per_country\n"
      ]
    },
    {
      "cell_type": "code",
      "execution_count": 132,
      "metadata": {
        "id": "RICG4T3DPZ1b"
      },
      "outputs": [
        {
          "ename": "KeyboardInterrupt",
          "evalue": "",
          "output_type": "error",
          "traceback": [
            "\u001b[1;31m---------------------------------------------------------------------------\u001b[0m",
            "\u001b[1;31mKeyboardInterrupt\u001b[0m                         Traceback (most recent call last)",
            "Cell \u001b[1;32mIn[132], line 2\u001b[0m\n\u001b[0;32m      1\u001b[0m \u001b[38;5;66;03m# Check the output of your function (2 lines)\u001b[39;00m\n\u001b[1;32m----> 2\u001b[0m leaders_per_country \u001b[38;5;241m=\u001b[39m \u001b[43mget_leaders\u001b[49m\u001b[43m(\u001b[49m\u001b[43m)\u001b[49m\n\u001b[0;32m      3\u001b[0m \u001b[38;5;28mprint\u001b[39m(leaders_per_country[\u001b[38;5;124m\"\u001b[39m\u001b[38;5;124mus\u001b[39m\u001b[38;5;124m\"\u001b[39m][\u001b[38;5;241m0\u001b[39m])\n",
            "Cell \u001b[1;32mIn[131], line 28\u001b[0m, in \u001b[0;36mget_leaders\u001b[1;34m()\u001b[0m\n\u001b[0;32m     26\u001b[0m \u001b[38;5;28;01mfor\u001b[39;00m leader \u001b[38;5;129;01min\u001b[39;00m leaders:\n\u001b[0;32m     27\u001b[0m     wiki_url \u001b[38;5;241m=\u001b[39m leader\u001b[38;5;241m.\u001b[39mget(\u001b[38;5;124m\"\u001b[39m\u001b[38;5;124mwikipedia_url\u001b[39m\u001b[38;5;124m\"\u001b[39m)\n\u001b[1;32m---> 28\u001b[0m     leader[\u001b[38;5;124m\"\u001b[39m\u001b[38;5;124mfirst_paragraph\u001b[39m\u001b[38;5;124m\"\u001b[39m] \u001b[38;5;241m=\u001b[39m \u001b[43mget_first_paragraph\u001b[49m\u001b[43m(\u001b[49m\u001b[43mwiki_url\u001b[49m\u001b[43m)\u001b[49m \u001b[38;5;28;01mif\u001b[39;00m wiki_url \u001b[38;5;28;01melse\u001b[39;00m \u001b[38;5;28;01mNone\u001b[39;00m\n\u001b[0;32m     30\u001b[0m \u001b[38;5;66;03m# Save to main dictionary (1 line)\u001b[39;00m\n\u001b[0;32m     31\u001b[0m leaders_per_country[country] \u001b[38;5;241m=\u001b[39m leaders\n",
            "Cell \u001b[1;32mIn[127], line 9\u001b[0m, in \u001b[0;36mget_first_paragraph\u001b[1;34m(url, session)\u001b[0m\n\u001b[0;32m      6\u001b[0m session \u001b[38;5;241m=\u001b[39m session \u001b[38;5;129;01mor\u001b[39;00m requests\u001b[38;5;241m.\u001b[39mSession()\n\u001b[0;32m      8\u001b[0m \u001b[38;5;66;03m# query the Wikipedia URL (using session)\u001b[39;00m\n\u001b[1;32m----> 9\u001b[0m response \u001b[38;5;241m=\u001b[39m \u001b[43msession\u001b[49m\u001b[38;5;241;43m.\u001b[39;49m\u001b[43mget\u001b[49m\u001b[43m(\u001b[49m\u001b[43murl\u001b[49m\u001b[43m,\u001b[49m\u001b[43m \u001b[49m\u001b[43mheaders\u001b[49m\u001b[38;5;241;43m=\u001b[39;49m\u001b[43m{\u001b[49m\u001b[38;5;124;43m'\u001b[39;49m\u001b[38;5;124;43mUser-Agent\u001b[39;49m\u001b[38;5;124;43m'\u001b[39;49m\u001b[43m:\u001b[49m\u001b[43m \u001b[49m\u001b[38;5;124;43m'\u001b[39;49m\u001b[38;5;124;43mMozilla/5.0\u001b[39;49m\u001b[38;5;124;43m'\u001b[39;49m\u001b[43m}\u001b[49m\u001b[43m)\u001b[49m\n\u001b[0;32m     11\u001b[0m \u001b[38;5;66;03m# parse HTML\u001b[39;00m\n\u001b[0;32m     12\u001b[0m soup \u001b[38;5;241m=\u001b[39m BeautifulSoup(response\u001b[38;5;241m.\u001b[39mtext, \u001b[38;5;124m\"\u001b[39m\u001b[38;5;124mhtml.parser\u001b[39m\u001b[38;5;124m\"\u001b[39m)\n",
            "File \u001b[1;32mc:\\Users\\Chaib\\AppData\\Local\\Programs\\Python\\Python312\\Lib\\site-packages\\requests\\sessions.py:602\u001b[0m, in \u001b[0;36mSession.get\u001b[1;34m(self, url, **kwargs)\u001b[0m\n\u001b[0;32m    594\u001b[0m \u001b[38;5;250m\u001b[39m\u001b[38;5;124mr\u001b[39m\u001b[38;5;124;03m\"\"\"Sends a GET request. Returns :class:`Response` object.\u001b[39;00m\n\u001b[0;32m    595\u001b[0m \n\u001b[0;32m    596\u001b[0m \u001b[38;5;124;03m:param url: URL for the new :class:`Request` object.\u001b[39;00m\n\u001b[0;32m    597\u001b[0m \u001b[38;5;124;03m:param \\*\\*kwargs: Optional arguments that ``request`` takes.\u001b[39;00m\n\u001b[0;32m    598\u001b[0m \u001b[38;5;124;03m:rtype: requests.Response\u001b[39;00m\n\u001b[0;32m    599\u001b[0m \u001b[38;5;124;03m\"\"\"\u001b[39;00m\n\u001b[0;32m    601\u001b[0m kwargs\u001b[38;5;241m.\u001b[39msetdefault(\u001b[38;5;124m\"\u001b[39m\u001b[38;5;124mallow_redirects\u001b[39m\u001b[38;5;124m\"\u001b[39m, \u001b[38;5;28;01mTrue\u001b[39;00m)\n\u001b[1;32m--> 602\u001b[0m \u001b[38;5;28;01mreturn\u001b[39;00m \u001b[38;5;28;43mself\u001b[39;49m\u001b[38;5;241;43m.\u001b[39;49m\u001b[43mrequest\u001b[49m\u001b[43m(\u001b[49m\u001b[38;5;124;43m\"\u001b[39;49m\u001b[38;5;124;43mGET\u001b[39;49m\u001b[38;5;124;43m\"\u001b[39;49m\u001b[43m,\u001b[49m\u001b[43m \u001b[49m\u001b[43murl\u001b[49m\u001b[43m,\u001b[49m\u001b[43m \u001b[49m\u001b[38;5;241;43m*\u001b[39;49m\u001b[38;5;241;43m*\u001b[39;49m\u001b[43mkwargs\u001b[49m\u001b[43m)\u001b[49m\n",
            "File \u001b[1;32mc:\\Users\\Chaib\\AppData\\Local\\Programs\\Python\\Python312\\Lib\\site-packages\\requests\\sessions.py:589\u001b[0m, in \u001b[0;36mSession.request\u001b[1;34m(self, method, url, params, data, headers, cookies, files, auth, timeout, allow_redirects, proxies, hooks, stream, verify, cert, json)\u001b[0m\n\u001b[0;32m    584\u001b[0m send_kwargs \u001b[38;5;241m=\u001b[39m {\n\u001b[0;32m    585\u001b[0m     \u001b[38;5;124m\"\u001b[39m\u001b[38;5;124mtimeout\u001b[39m\u001b[38;5;124m\"\u001b[39m: timeout,\n\u001b[0;32m    586\u001b[0m     \u001b[38;5;124m\"\u001b[39m\u001b[38;5;124mallow_redirects\u001b[39m\u001b[38;5;124m\"\u001b[39m: allow_redirects,\n\u001b[0;32m    587\u001b[0m }\n\u001b[0;32m    588\u001b[0m send_kwargs\u001b[38;5;241m.\u001b[39mupdate(settings)\n\u001b[1;32m--> 589\u001b[0m resp \u001b[38;5;241m=\u001b[39m \u001b[38;5;28;43mself\u001b[39;49m\u001b[38;5;241;43m.\u001b[39;49m\u001b[43msend\u001b[49m\u001b[43m(\u001b[49m\u001b[43mprep\u001b[49m\u001b[43m,\u001b[49m\u001b[43m \u001b[49m\u001b[38;5;241;43m*\u001b[39;49m\u001b[38;5;241;43m*\u001b[39;49m\u001b[43msend_kwargs\u001b[49m\u001b[43m)\u001b[49m\n\u001b[0;32m    591\u001b[0m \u001b[38;5;28;01mreturn\u001b[39;00m resp\n",
            "File \u001b[1;32mc:\\Users\\Chaib\\AppData\\Local\\Programs\\Python\\Python312\\Lib\\site-packages\\requests\\sessions.py:703\u001b[0m, in \u001b[0;36mSession.send\u001b[1;34m(self, request, **kwargs)\u001b[0m\n\u001b[0;32m    700\u001b[0m start \u001b[38;5;241m=\u001b[39m preferred_clock()\n\u001b[0;32m    702\u001b[0m \u001b[38;5;66;03m# Send the request\u001b[39;00m\n\u001b[1;32m--> 703\u001b[0m r \u001b[38;5;241m=\u001b[39m \u001b[43madapter\u001b[49m\u001b[38;5;241;43m.\u001b[39;49m\u001b[43msend\u001b[49m\u001b[43m(\u001b[49m\u001b[43mrequest\u001b[49m\u001b[43m,\u001b[49m\u001b[43m \u001b[49m\u001b[38;5;241;43m*\u001b[39;49m\u001b[38;5;241;43m*\u001b[39;49m\u001b[43mkwargs\u001b[49m\u001b[43m)\u001b[49m\n\u001b[0;32m    705\u001b[0m \u001b[38;5;66;03m# Total elapsed time of the request (approximately)\u001b[39;00m\n\u001b[0;32m    706\u001b[0m elapsed \u001b[38;5;241m=\u001b[39m preferred_clock() \u001b[38;5;241m-\u001b[39m start\n",
            "File \u001b[1;32mc:\\Users\\Chaib\\AppData\\Local\\Programs\\Python\\Python312\\Lib\\site-packages\\requests\\adapters.py:486\u001b[0m, in \u001b[0;36mHTTPAdapter.send\u001b[1;34m(self, request, stream, timeout, verify, cert, proxies)\u001b[0m\n\u001b[0;32m    483\u001b[0m     timeout \u001b[38;5;241m=\u001b[39m TimeoutSauce(connect\u001b[38;5;241m=\u001b[39mtimeout, read\u001b[38;5;241m=\u001b[39mtimeout)\n\u001b[0;32m    485\u001b[0m \u001b[38;5;28;01mtry\u001b[39;00m:\n\u001b[1;32m--> 486\u001b[0m     resp \u001b[38;5;241m=\u001b[39m \u001b[43mconn\u001b[49m\u001b[38;5;241;43m.\u001b[39;49m\u001b[43murlopen\u001b[49m\u001b[43m(\u001b[49m\n\u001b[0;32m    487\u001b[0m \u001b[43m        \u001b[49m\u001b[43mmethod\u001b[49m\u001b[38;5;241;43m=\u001b[39;49m\u001b[43mrequest\u001b[49m\u001b[38;5;241;43m.\u001b[39;49m\u001b[43mmethod\u001b[49m\u001b[43m,\u001b[49m\n\u001b[0;32m    488\u001b[0m \u001b[43m        \u001b[49m\u001b[43murl\u001b[49m\u001b[38;5;241;43m=\u001b[39;49m\u001b[43murl\u001b[49m\u001b[43m,\u001b[49m\n\u001b[0;32m    489\u001b[0m \u001b[43m        \u001b[49m\u001b[43mbody\u001b[49m\u001b[38;5;241;43m=\u001b[39;49m\u001b[43mrequest\u001b[49m\u001b[38;5;241;43m.\u001b[39;49m\u001b[43mbody\u001b[49m\u001b[43m,\u001b[49m\n\u001b[0;32m    490\u001b[0m \u001b[43m        \u001b[49m\u001b[43mheaders\u001b[49m\u001b[38;5;241;43m=\u001b[39;49m\u001b[43mrequest\u001b[49m\u001b[38;5;241;43m.\u001b[39;49m\u001b[43mheaders\u001b[49m\u001b[43m,\u001b[49m\n\u001b[0;32m    491\u001b[0m \u001b[43m        \u001b[49m\u001b[43mredirect\u001b[49m\u001b[38;5;241;43m=\u001b[39;49m\u001b[38;5;28;43;01mFalse\u001b[39;49;00m\u001b[43m,\u001b[49m\n\u001b[0;32m    492\u001b[0m \u001b[43m        \u001b[49m\u001b[43massert_same_host\u001b[49m\u001b[38;5;241;43m=\u001b[39;49m\u001b[38;5;28;43;01mFalse\u001b[39;49;00m\u001b[43m,\u001b[49m\n\u001b[0;32m    493\u001b[0m \u001b[43m        \u001b[49m\u001b[43mpreload_content\u001b[49m\u001b[38;5;241;43m=\u001b[39;49m\u001b[38;5;28;43;01mFalse\u001b[39;49;00m\u001b[43m,\u001b[49m\n\u001b[0;32m    494\u001b[0m \u001b[43m        \u001b[49m\u001b[43mdecode_content\u001b[49m\u001b[38;5;241;43m=\u001b[39;49m\u001b[38;5;28;43;01mFalse\u001b[39;49;00m\u001b[43m,\u001b[49m\n\u001b[0;32m    495\u001b[0m \u001b[43m        \u001b[49m\u001b[43mretries\u001b[49m\u001b[38;5;241;43m=\u001b[39;49m\u001b[38;5;28;43mself\u001b[39;49m\u001b[38;5;241;43m.\u001b[39;49m\u001b[43mmax_retries\u001b[49m\u001b[43m,\u001b[49m\n\u001b[0;32m    496\u001b[0m \u001b[43m        \u001b[49m\u001b[43mtimeout\u001b[49m\u001b[38;5;241;43m=\u001b[39;49m\u001b[43mtimeout\u001b[49m\u001b[43m,\u001b[49m\n\u001b[0;32m    497\u001b[0m \u001b[43m        \u001b[49m\u001b[43mchunked\u001b[49m\u001b[38;5;241;43m=\u001b[39;49m\u001b[43mchunked\u001b[49m\u001b[43m,\u001b[49m\n\u001b[0;32m    498\u001b[0m \u001b[43m    \u001b[49m\u001b[43m)\u001b[49m\n\u001b[0;32m    500\u001b[0m \u001b[38;5;28;01mexcept\u001b[39;00m (ProtocolError, \u001b[38;5;167;01mOSError\u001b[39;00m) \u001b[38;5;28;01mas\u001b[39;00m err:\n\u001b[0;32m    501\u001b[0m     \u001b[38;5;28;01mraise\u001b[39;00m \u001b[38;5;167;01mConnectionError\u001b[39;00m(err, request\u001b[38;5;241m=\u001b[39mrequest)\n",
            "File \u001b[1;32mc:\\Users\\Chaib\\AppData\\Local\\Programs\\Python\\Python312\\Lib\\site-packages\\urllib3\\connectionpool.py:790\u001b[0m, in \u001b[0;36mHTTPConnectionPool.urlopen\u001b[1;34m(self, method, url, body, headers, retries, redirect, assert_same_host, timeout, pool_timeout, release_conn, chunked, body_pos, preload_content, decode_content, **response_kw)\u001b[0m\n\u001b[0;32m    787\u001b[0m response_conn \u001b[38;5;241m=\u001b[39m conn \u001b[38;5;28;01mif\u001b[39;00m \u001b[38;5;129;01mnot\u001b[39;00m release_conn \u001b[38;5;28;01melse\u001b[39;00m \u001b[38;5;28;01mNone\u001b[39;00m\n\u001b[0;32m    789\u001b[0m \u001b[38;5;66;03m# Make the request on the HTTPConnection object\u001b[39;00m\n\u001b[1;32m--> 790\u001b[0m response \u001b[38;5;241m=\u001b[39m \u001b[38;5;28;43mself\u001b[39;49m\u001b[38;5;241;43m.\u001b[39;49m\u001b[43m_make_request\u001b[49m\u001b[43m(\u001b[49m\n\u001b[0;32m    791\u001b[0m \u001b[43m    \u001b[49m\u001b[43mconn\u001b[49m\u001b[43m,\u001b[49m\n\u001b[0;32m    792\u001b[0m \u001b[43m    \u001b[49m\u001b[43mmethod\u001b[49m\u001b[43m,\u001b[49m\n\u001b[0;32m    793\u001b[0m \u001b[43m    \u001b[49m\u001b[43murl\u001b[49m\u001b[43m,\u001b[49m\n\u001b[0;32m    794\u001b[0m \u001b[43m    \u001b[49m\u001b[43mtimeout\u001b[49m\u001b[38;5;241;43m=\u001b[39;49m\u001b[43mtimeout_obj\u001b[49m\u001b[43m,\u001b[49m\n\u001b[0;32m    795\u001b[0m \u001b[43m    \u001b[49m\u001b[43mbody\u001b[49m\u001b[38;5;241;43m=\u001b[39;49m\u001b[43mbody\u001b[49m\u001b[43m,\u001b[49m\n\u001b[0;32m    796\u001b[0m \u001b[43m    \u001b[49m\u001b[43mheaders\u001b[49m\u001b[38;5;241;43m=\u001b[39;49m\u001b[43mheaders\u001b[49m\u001b[43m,\u001b[49m\n\u001b[0;32m    797\u001b[0m \u001b[43m    \u001b[49m\u001b[43mchunked\u001b[49m\u001b[38;5;241;43m=\u001b[39;49m\u001b[43mchunked\u001b[49m\u001b[43m,\u001b[49m\n\u001b[0;32m    798\u001b[0m \u001b[43m    \u001b[49m\u001b[43mretries\u001b[49m\u001b[38;5;241;43m=\u001b[39;49m\u001b[43mretries\u001b[49m\u001b[43m,\u001b[49m\n\u001b[0;32m    799\u001b[0m \u001b[43m    \u001b[49m\u001b[43mresponse_conn\u001b[49m\u001b[38;5;241;43m=\u001b[39;49m\u001b[43mresponse_conn\u001b[49m\u001b[43m,\u001b[49m\n\u001b[0;32m    800\u001b[0m \u001b[43m    \u001b[49m\u001b[43mpreload_content\u001b[49m\u001b[38;5;241;43m=\u001b[39;49m\u001b[43mpreload_content\u001b[49m\u001b[43m,\u001b[49m\n\u001b[0;32m    801\u001b[0m \u001b[43m    \u001b[49m\u001b[43mdecode_content\u001b[49m\u001b[38;5;241;43m=\u001b[39;49m\u001b[43mdecode_content\u001b[49m\u001b[43m,\u001b[49m\n\u001b[0;32m    802\u001b[0m \u001b[43m    \u001b[49m\u001b[38;5;241;43m*\u001b[39;49m\u001b[38;5;241;43m*\u001b[39;49m\u001b[43mresponse_kw\u001b[49m\u001b[43m,\u001b[49m\n\u001b[0;32m    803\u001b[0m \u001b[43m\u001b[49m\u001b[43m)\u001b[49m\n\u001b[0;32m    805\u001b[0m \u001b[38;5;66;03m# Everything went great!\u001b[39;00m\n\u001b[0;32m    806\u001b[0m clean_exit \u001b[38;5;241m=\u001b[39m \u001b[38;5;28;01mTrue\u001b[39;00m\n",
            "File \u001b[1;32mc:\\Users\\Chaib\\AppData\\Local\\Programs\\Python\\Python312\\Lib\\site-packages\\urllib3\\connectionpool.py:467\u001b[0m, in \u001b[0;36mHTTPConnectionPool._make_request\u001b[1;34m(self, conn, method, url, body, headers, retries, timeout, chunked, response_conn, preload_content, decode_content, enforce_content_length)\u001b[0m\n\u001b[0;32m    464\u001b[0m \u001b[38;5;28;01mtry\u001b[39;00m:\n\u001b[0;32m    465\u001b[0m     \u001b[38;5;66;03m# Trigger any extra validation we need to do.\u001b[39;00m\n\u001b[0;32m    466\u001b[0m     \u001b[38;5;28;01mtry\u001b[39;00m:\n\u001b[1;32m--> 467\u001b[0m         \u001b[38;5;28;43mself\u001b[39;49m\u001b[38;5;241;43m.\u001b[39;49m\u001b[43m_validate_conn\u001b[49m\u001b[43m(\u001b[49m\u001b[43mconn\u001b[49m\u001b[43m)\u001b[49m\n\u001b[0;32m    468\u001b[0m     \u001b[38;5;28;01mexcept\u001b[39;00m (SocketTimeout, BaseSSLError) \u001b[38;5;28;01mas\u001b[39;00m e:\n\u001b[0;32m    469\u001b[0m         \u001b[38;5;28mself\u001b[39m\u001b[38;5;241m.\u001b[39m_raise_timeout(err\u001b[38;5;241m=\u001b[39me, url\u001b[38;5;241m=\u001b[39murl, timeout_value\u001b[38;5;241m=\u001b[39mconn\u001b[38;5;241m.\u001b[39mtimeout)\n",
            "File \u001b[1;32mc:\\Users\\Chaib\\AppData\\Local\\Programs\\Python\\Python312\\Lib\\site-packages\\urllib3\\connectionpool.py:1096\u001b[0m, in \u001b[0;36mHTTPSConnectionPool._validate_conn\u001b[1;34m(self, conn)\u001b[0m\n\u001b[0;32m   1094\u001b[0m \u001b[38;5;66;03m# Force connect early to allow us to validate the connection.\u001b[39;00m\n\u001b[0;32m   1095\u001b[0m \u001b[38;5;28;01mif\u001b[39;00m conn\u001b[38;5;241m.\u001b[39mis_closed:\n\u001b[1;32m-> 1096\u001b[0m     \u001b[43mconn\u001b[49m\u001b[38;5;241;43m.\u001b[39;49m\u001b[43mconnect\u001b[49m\u001b[43m(\u001b[49m\u001b[43m)\u001b[49m\n\u001b[0;32m   1098\u001b[0m \u001b[38;5;28;01mif\u001b[39;00m \u001b[38;5;129;01mnot\u001b[39;00m conn\u001b[38;5;241m.\u001b[39mis_verified:\n\u001b[0;32m   1099\u001b[0m     warnings\u001b[38;5;241m.\u001b[39mwarn(\n\u001b[0;32m   1100\u001b[0m         (\n\u001b[0;32m   1101\u001b[0m             \u001b[38;5;124mf\u001b[39m\u001b[38;5;124m\"\u001b[39m\u001b[38;5;124mUnverified HTTPS request is being made to host \u001b[39m\u001b[38;5;124m'\u001b[39m\u001b[38;5;132;01m{\u001b[39;00mconn\u001b[38;5;241m.\u001b[39mhost\u001b[38;5;132;01m}\u001b[39;00m\u001b[38;5;124m'\u001b[39m\u001b[38;5;124m. \u001b[39m\u001b[38;5;124m\"\u001b[39m\n\u001b[1;32m   (...)\u001b[0m\n\u001b[0;32m   1106\u001b[0m         InsecureRequestWarning,\n\u001b[0;32m   1107\u001b[0m     )\n",
            "File \u001b[1;32mc:\\Users\\Chaib\\AppData\\Local\\Programs\\Python\\Python312\\Lib\\site-packages\\urllib3\\connection.py:642\u001b[0m, in \u001b[0;36mHTTPSConnection.connect\u001b[1;34m(self)\u001b[0m\n\u001b[0;32m    633\u001b[0m \u001b[38;5;28;01mif\u001b[39;00m is_time_off:\n\u001b[0;32m    634\u001b[0m     warnings\u001b[38;5;241m.\u001b[39mwarn(\n\u001b[0;32m    635\u001b[0m         (\n\u001b[0;32m    636\u001b[0m             \u001b[38;5;124mf\u001b[39m\u001b[38;5;124m\"\u001b[39m\u001b[38;5;124mSystem time is way off (before \u001b[39m\u001b[38;5;132;01m{\u001b[39;00mRECENT_DATE\u001b[38;5;132;01m}\u001b[39;00m\u001b[38;5;124m). This will probably \u001b[39m\u001b[38;5;124m\"\u001b[39m\n\u001b[1;32m   (...)\u001b[0m\n\u001b[0;32m    639\u001b[0m         SystemTimeWarning,\n\u001b[0;32m    640\u001b[0m     )\n\u001b[1;32m--> 642\u001b[0m sock_and_verified \u001b[38;5;241m=\u001b[39m \u001b[43m_ssl_wrap_socket_and_match_hostname\u001b[49m\u001b[43m(\u001b[49m\n\u001b[0;32m    643\u001b[0m \u001b[43m    \u001b[49m\u001b[43msock\u001b[49m\u001b[38;5;241;43m=\u001b[39;49m\u001b[43msock\u001b[49m\u001b[43m,\u001b[49m\n\u001b[0;32m    644\u001b[0m \u001b[43m    \u001b[49m\u001b[43mcert_reqs\u001b[49m\u001b[38;5;241;43m=\u001b[39;49m\u001b[38;5;28;43mself\u001b[39;49m\u001b[38;5;241;43m.\u001b[39;49m\u001b[43mcert_reqs\u001b[49m\u001b[43m,\u001b[49m\n\u001b[0;32m    645\u001b[0m \u001b[43m    \u001b[49m\u001b[43mssl_version\u001b[49m\u001b[38;5;241;43m=\u001b[39;49m\u001b[38;5;28;43mself\u001b[39;49m\u001b[38;5;241;43m.\u001b[39;49m\u001b[43mssl_version\u001b[49m\u001b[43m,\u001b[49m\n\u001b[0;32m    646\u001b[0m \u001b[43m    \u001b[49m\u001b[43mssl_minimum_version\u001b[49m\u001b[38;5;241;43m=\u001b[39;49m\u001b[38;5;28;43mself\u001b[39;49m\u001b[38;5;241;43m.\u001b[39;49m\u001b[43mssl_minimum_version\u001b[49m\u001b[43m,\u001b[49m\n\u001b[0;32m    647\u001b[0m \u001b[43m    \u001b[49m\u001b[43mssl_maximum_version\u001b[49m\u001b[38;5;241;43m=\u001b[39;49m\u001b[38;5;28;43mself\u001b[39;49m\u001b[38;5;241;43m.\u001b[39;49m\u001b[43mssl_maximum_version\u001b[49m\u001b[43m,\u001b[49m\n\u001b[0;32m    648\u001b[0m \u001b[43m    \u001b[49m\u001b[43mca_certs\u001b[49m\u001b[38;5;241;43m=\u001b[39;49m\u001b[38;5;28;43mself\u001b[39;49m\u001b[38;5;241;43m.\u001b[39;49m\u001b[43mca_certs\u001b[49m\u001b[43m,\u001b[49m\n\u001b[0;32m    649\u001b[0m \u001b[43m    \u001b[49m\u001b[43mca_cert_dir\u001b[49m\u001b[38;5;241;43m=\u001b[39;49m\u001b[38;5;28;43mself\u001b[39;49m\u001b[38;5;241;43m.\u001b[39;49m\u001b[43mca_cert_dir\u001b[49m\u001b[43m,\u001b[49m\n\u001b[0;32m    650\u001b[0m \u001b[43m    \u001b[49m\u001b[43mca_cert_data\u001b[49m\u001b[38;5;241;43m=\u001b[39;49m\u001b[38;5;28;43mself\u001b[39;49m\u001b[38;5;241;43m.\u001b[39;49m\u001b[43mca_cert_data\u001b[49m\u001b[43m,\u001b[49m\n\u001b[0;32m    651\u001b[0m \u001b[43m    \u001b[49m\u001b[43mcert_file\u001b[49m\u001b[38;5;241;43m=\u001b[39;49m\u001b[38;5;28;43mself\u001b[39;49m\u001b[38;5;241;43m.\u001b[39;49m\u001b[43mcert_file\u001b[49m\u001b[43m,\u001b[49m\n\u001b[0;32m    652\u001b[0m \u001b[43m    \u001b[49m\u001b[43mkey_file\u001b[49m\u001b[38;5;241;43m=\u001b[39;49m\u001b[38;5;28;43mself\u001b[39;49m\u001b[38;5;241;43m.\u001b[39;49m\u001b[43mkey_file\u001b[49m\u001b[43m,\u001b[49m\n\u001b[0;32m    653\u001b[0m \u001b[43m    \u001b[49m\u001b[43mkey_password\u001b[49m\u001b[38;5;241;43m=\u001b[39;49m\u001b[38;5;28;43mself\u001b[39;49m\u001b[38;5;241;43m.\u001b[39;49m\u001b[43mkey_password\u001b[49m\u001b[43m,\u001b[49m\n\u001b[0;32m    654\u001b[0m \u001b[43m    \u001b[49m\u001b[43mserver_hostname\u001b[49m\u001b[38;5;241;43m=\u001b[39;49m\u001b[43mserver_hostname\u001b[49m\u001b[43m,\u001b[49m\n\u001b[0;32m    655\u001b[0m \u001b[43m    \u001b[49m\u001b[43mssl_context\u001b[49m\u001b[38;5;241;43m=\u001b[39;49m\u001b[38;5;28;43mself\u001b[39;49m\u001b[38;5;241;43m.\u001b[39;49m\u001b[43mssl_context\u001b[49m\u001b[43m,\u001b[49m\n\u001b[0;32m    656\u001b[0m \u001b[43m    \u001b[49m\u001b[43mtls_in_tls\u001b[49m\u001b[38;5;241;43m=\u001b[39;49m\u001b[43mtls_in_tls\u001b[49m\u001b[43m,\u001b[49m\n\u001b[0;32m    657\u001b[0m \u001b[43m    \u001b[49m\u001b[43massert_hostname\u001b[49m\u001b[38;5;241;43m=\u001b[39;49m\u001b[38;5;28;43mself\u001b[39;49m\u001b[38;5;241;43m.\u001b[39;49m\u001b[43massert_hostname\u001b[49m\u001b[43m,\u001b[49m\n\u001b[0;32m    658\u001b[0m \u001b[43m    \u001b[49m\u001b[43massert_fingerprint\u001b[49m\u001b[38;5;241;43m=\u001b[39;49m\u001b[38;5;28;43mself\u001b[39;49m\u001b[38;5;241;43m.\u001b[39;49m\u001b[43massert_fingerprint\u001b[49m\u001b[43m,\u001b[49m\n\u001b[0;32m    659\u001b[0m \u001b[43m\u001b[49m\u001b[43m)\u001b[49m\n\u001b[0;32m    660\u001b[0m \u001b[38;5;28mself\u001b[39m\u001b[38;5;241m.\u001b[39msock \u001b[38;5;241m=\u001b[39m sock_and_verified\u001b[38;5;241m.\u001b[39msocket\n\u001b[0;32m    661\u001b[0m \u001b[38;5;28mself\u001b[39m\u001b[38;5;241m.\u001b[39mis_verified \u001b[38;5;241m=\u001b[39m sock_and_verified\u001b[38;5;241m.\u001b[39mis_verified\n",
            "File \u001b[1;32mc:\\Users\\Chaib\\AppData\\Local\\Programs\\Python\\Python312\\Lib\\site-packages\\urllib3\\connection.py:782\u001b[0m, in \u001b[0;36m_ssl_wrap_socket_and_match_hostname\u001b[1;34m(sock, cert_reqs, ssl_version, ssl_minimum_version, ssl_maximum_version, cert_file, key_file, key_password, ca_certs, ca_cert_dir, ca_cert_data, assert_hostname, assert_fingerprint, server_hostname, ssl_context, tls_in_tls)\u001b[0m\n\u001b[0;32m    779\u001b[0m     \u001b[38;5;28;01mif\u001b[39;00m is_ipaddress(normalized):\n\u001b[0;32m    780\u001b[0m         server_hostname \u001b[38;5;241m=\u001b[39m normalized\n\u001b[1;32m--> 782\u001b[0m ssl_sock \u001b[38;5;241m=\u001b[39m \u001b[43mssl_wrap_socket\u001b[49m\u001b[43m(\u001b[49m\n\u001b[0;32m    783\u001b[0m \u001b[43m    \u001b[49m\u001b[43msock\u001b[49m\u001b[38;5;241;43m=\u001b[39;49m\u001b[43msock\u001b[49m\u001b[43m,\u001b[49m\n\u001b[0;32m    784\u001b[0m \u001b[43m    \u001b[49m\u001b[43mkeyfile\u001b[49m\u001b[38;5;241;43m=\u001b[39;49m\u001b[43mkey_file\u001b[49m\u001b[43m,\u001b[49m\n\u001b[0;32m    785\u001b[0m \u001b[43m    \u001b[49m\u001b[43mcertfile\u001b[49m\u001b[38;5;241;43m=\u001b[39;49m\u001b[43mcert_file\u001b[49m\u001b[43m,\u001b[49m\n\u001b[0;32m    786\u001b[0m \u001b[43m    \u001b[49m\u001b[43mkey_password\u001b[49m\u001b[38;5;241;43m=\u001b[39;49m\u001b[43mkey_password\u001b[49m\u001b[43m,\u001b[49m\n\u001b[0;32m    787\u001b[0m \u001b[43m    \u001b[49m\u001b[43mca_certs\u001b[49m\u001b[38;5;241;43m=\u001b[39;49m\u001b[43mca_certs\u001b[49m\u001b[43m,\u001b[49m\n\u001b[0;32m    788\u001b[0m \u001b[43m    \u001b[49m\u001b[43mca_cert_dir\u001b[49m\u001b[38;5;241;43m=\u001b[39;49m\u001b[43mca_cert_dir\u001b[49m\u001b[43m,\u001b[49m\n\u001b[0;32m    789\u001b[0m \u001b[43m    \u001b[49m\u001b[43mca_cert_data\u001b[49m\u001b[38;5;241;43m=\u001b[39;49m\u001b[43mca_cert_data\u001b[49m\u001b[43m,\u001b[49m\n\u001b[0;32m    790\u001b[0m \u001b[43m    \u001b[49m\u001b[43mserver_hostname\u001b[49m\u001b[38;5;241;43m=\u001b[39;49m\u001b[43mserver_hostname\u001b[49m\u001b[43m,\u001b[49m\n\u001b[0;32m    791\u001b[0m \u001b[43m    \u001b[49m\u001b[43mssl_context\u001b[49m\u001b[38;5;241;43m=\u001b[39;49m\u001b[43mcontext\u001b[49m\u001b[43m,\u001b[49m\n\u001b[0;32m    792\u001b[0m \u001b[43m    \u001b[49m\u001b[43mtls_in_tls\u001b[49m\u001b[38;5;241;43m=\u001b[39;49m\u001b[43mtls_in_tls\u001b[49m\u001b[43m,\u001b[49m\n\u001b[0;32m    793\u001b[0m \u001b[43m\u001b[49m\u001b[43m)\u001b[49m\n\u001b[0;32m    795\u001b[0m \u001b[38;5;28;01mtry\u001b[39;00m:\n\u001b[0;32m    796\u001b[0m     \u001b[38;5;28;01mif\u001b[39;00m assert_fingerprint:\n",
            "File \u001b[1;32mc:\\Users\\Chaib\\AppData\\Local\\Programs\\Python\\Python312\\Lib\\site-packages\\urllib3\\util\\ssl_.py:445\u001b[0m, in \u001b[0;36mssl_wrap_socket\u001b[1;34m(sock, keyfile, certfile, cert_reqs, ca_certs, server_hostname, ssl_version, ciphers, ssl_context, ca_cert_dir, key_password, ca_cert_data, tls_in_tls)\u001b[0m\n\u001b[0;32m    443\u001b[0m \u001b[38;5;28;01mif\u001b[39;00m ca_certs \u001b[38;5;129;01mor\u001b[39;00m ca_cert_dir \u001b[38;5;129;01mor\u001b[39;00m ca_cert_data:\n\u001b[0;32m    444\u001b[0m     \u001b[38;5;28;01mtry\u001b[39;00m:\n\u001b[1;32m--> 445\u001b[0m         \u001b[43mcontext\u001b[49m\u001b[38;5;241;43m.\u001b[39;49m\u001b[43mload_verify_locations\u001b[49m\u001b[43m(\u001b[49m\u001b[43mca_certs\u001b[49m\u001b[43m,\u001b[49m\u001b[43m \u001b[49m\u001b[43mca_cert_dir\u001b[49m\u001b[43m,\u001b[49m\u001b[43m \u001b[49m\u001b[43mca_cert_data\u001b[49m\u001b[43m)\u001b[49m\n\u001b[0;32m    446\u001b[0m     \u001b[38;5;28;01mexcept\u001b[39;00m \u001b[38;5;167;01mOSError\u001b[39;00m \u001b[38;5;28;01mas\u001b[39;00m e:\n\u001b[0;32m    447\u001b[0m         \u001b[38;5;28;01mraise\u001b[39;00m SSLError(e) \u001b[38;5;28;01mfrom\u001b[39;00m \u001b[38;5;21;01me\u001b[39;00m\n",
            "\u001b[1;31mKeyboardInterrupt\u001b[0m: "
          ]
        }
      ],
      "source": [
        "# Check the output of your function (2 lines)\n",
        "leaders_per_country = get_leaders()\n",
        "print(leaders_per_country[\"us\"][0])\n",
        "\n"
      ]
    },
    {
      "attachments": {},
      "cell_type": "markdown",
      "metadata": {
        "id": "8sCKxGrnJCxv"
      },
      "source": [
        "Does the function crash in the middle of the loop? Chances are the cookies have expired while looping over the leaders.\n",
        "\n",
        "Modify your function with an *exception* or check if the `status_code` is a cookie error. In either case, get new cookies and query the api again.\n",
        "\n",
        "If your code did not crash,"
      ]
    },
    {
      "cell_type": "code",
      "execution_count": null,
      "metadata": {
        "id": "rgPd2dxgJiW1"
      },
      "outputs": [],
      "source": [
        "# < 25 lines\n",
        "\n",
        "def get_leaders():\n",
        "    \"\"\"Retrieve leaders for all countries and enrich them with Wikipedia intro paragraphs.\"\"\"\n",
        "    import requests\n",
        "    import time\n",
        "\n",
        "    root_url = \"https://country-leaders.onrender.com\"\n",
        "    cookie_url = f\"{root_url}/cookie\"\n",
        "    countries_url = f\"{root_url}/countries\"\n",
        "    leaders_url = f\"{root_url}/leaders\"\n",
        "\n",
        "    # Function to get a fresh cookie\n",
        "    def get_cookie():\n",
        "        return requests.get(cookie_url).cookies\n",
        "\n",
        "    # Initialize cookies and data container\n",
        "    cookies = get_cookie()\n",
        "    leaders_per_country = {}\n",
        "\n",
        "    try:\n",
        "        # Get list of countries\n",
        "        countries = requests.get(countries_url, cookies=cookies).json()\n",
        "\n",
        "        for country in countries:\n",
        "            try:\n",
        "                # Query leaders API\n",
        "                resp = requests.get(leaders_url, cookies=cookies, params={\"country\": country})\n",
        "\n",
        "                # Detect expired cookie or API error\n",
        "                if resp.status_code != 200 or \"cookie\" in resp.text.lower():\n",
        "                    print(f\"Cookie expired while fetching {country}. Refreshing...\")\n",
        "                    cookies = get_cookie()\n",
        "                    resp = requests.get(leaders_url, cookies=cookies, params={\"country\": country})\n",
        "\n",
        "                leaders = resp.json()\n",
        "\n",
        "                # Skip invalid responses\n",
        "                if not isinstance(leaders, list):\n",
        "                    print(f\"Skipping {country}: invalid API response\")\n",
        "                    continue\n",
        "\n",
        "                # Loop over each leader to enrich with Wikipedia intro\n",
        "                for leader in leaders:\n",
        "                    wiki_url = leader.get(\"wikipedia_url\")\n",
        "                    leader[\"first_paragraph\"] = get_first_paragraph(wiki_url) if wiki_url else None\n",
        "                    time.sleep(0.5)  # polite delay to avoid request throttling\n",
        "\n",
        "                # Store the country's data\n",
        "                leaders_per_country[country] = leaders\n",
        "\n",
        "            except Exception as e:\n",
        "                print(f\"Error processing {country}: {e}\")\n",
        "                continue\n",
        "\n",
        "    except Exception as e:\n",
        "        print(f\"General error: {e}\")\n",
        "\n",
        "    return leaders_per_country\n"
      ]
    },
    {
      "cell_type": "markdown",
      "metadata": {
        "id": "3JvV-kPsKLl0"
      },
      "source": [
        "Check the output of your function again."
      ]
    },
    {
      "cell_type": "code",
      "execution_count": null,
      "metadata": {
        "id": "mPXT-cxgKQof"
      },
      "outputs": [
        {
          "name": "stdout",
          "output_type": "stream",
          "text": [
            "🔁 Cookie expired while fetching us. Refreshing...\n",
            "🔁 Cookie expired while fetching ru. Refreshing...\n",
            "🔁 Cookie expired while fetching ma. Refreshing...\n",
            "{'id': 'Q23', 'first_name': 'George', 'last_name': 'Washington', 'birth_date': '1732-02-22', 'death_date': '1799-12-14', 'place_of_birth': 'Westmoreland County', 'wikipedia_url': 'https://en.wikipedia.org/wiki/George_Washington', 'start_mandate': '1789-04-30', 'end_mandate': '1797-03-04', 'first_paragraph': 'George Washington (February 22, 1732 – December 14 , 1799) was a Founding Father and the first president of the United States , serving from 1789 to 1797. As commander of the Continental Army , Washington led Patriot forces to victory in the American Revolutionary War against the British Empire . He is commonly known as the Father of the Nation for his role in bringing about American independence .'}\n"
          ]
        }
      ],
      "source": [
        "# Check the output of your function (2 lines)\n",
        "leaders_per_country = get_leaders()\n",
        "print(leaders_per_country[\"us\"][0])"
      ]
    },
    {
      "cell_type": "markdown",
      "metadata": {
        "id": "Y9lgxh_NMSO3"
      },
      "source": [
        "Well done! It took a while however... Let's speed things up. The main *bottleneck* is the loop. We call on the Wikipedia website many times.\n",
        "\n",
        "You will use the same *session* to call all the wikipedia pages. Check the *Advanced Usage* section of the Requests module's documentation.\n",
        "\n",
        "Start by modifying the `get_first_paragraph()` function to accept a session parameter and adjust the `get()` method call."
      ]
    },
    {
      "cell_type": "code",
      "execution_count": null,
      "metadata": {
        "id": "XTEVLIJ-V7z1"
      },
      "outputs": [],
      "source": [
        "# < 20 lines\n",
        "def get_first_paragraph(url, session=None):\n",
        "    \"\"\"Fetch and clean the first paragraph of a Wikipedia page using a shared session.\"\"\"\n",
        "    \n",
        "    # use provided session or create a temporary one\n",
        "    session = session or requests.Session()\n",
        "    \n",
        "    # query the Wikipedia URL (using session)\n",
        "    response = session.get(url, headers={'User-Agent': 'Mozilla/5.0'})\n",
        "    \n",
        "    # parse HTML\n",
        "    soup = BeautifulSoup(response.text, \"html.parser\")\n",
        "    \n",
        "    # extract the first meaningful paragraph\n",
        "    first_paragraph = None\n",
        "    for p in soup.find_all(\"p\"):\n",
        "        text = p.get_text(\" \", strip=True)\n",
        "        if len(text) > 60:\n",
        "            first_paragraph = text\n",
        "            break\n",
        "    \n",
        "    if not first_paragraph:\n",
        "        return None\n",
        "\n",
        "    # clean the text with regex\n",
        "    cleaned = re.sub(r'\\[[^\\]]*\\]', '', first_paragraph)   # remove [1], [a], etc.\n",
        "    cleaned = re.sub(r'/[^/]+/', '', cleaned)              # remove phonetic /ˈ.../\n",
        "    cleaned = re.sub(r'\\s{2,}', ' ', cleaned).strip()      # collapse spaces\n",
        "\n",
        "    return cleaned\n"
      ]
    },
    {
      "cell_type": "code",
      "execution_count": 162,
      "metadata": {},
      "outputs": [
        {
          "name": "stdout",
          "output_type": "stream",
          "text": [
            "George Washington (February 22, 1732 – December 14 , 1799) was a Founding Father and the first president of the United States , serving from 1789 to 1797. As commander of the Continental Army , Washington led Patriot forces to victory in the American Revolutionary War against the British Empire . He is commonly known as the Father of the Nation for his role in bringing about American independence .\n"
          ]
        }
      ],
      "source": [
        "with requests.Session() as s:\n",
        "    test_url = \"https://en.wikipedia.org/wiki/George_Washington\"\n",
        "    print(get_first_paragraph(test_url, s))\n"
      ]
    },
    {
      "cell_type": "markdown",
      "metadata": {
        "id": "3gcgHMkeWK5-"
      },
      "source": [
        "Modify your `get_leaders()` function to make use of a single session for all the Wikipedia calls.\n",
        "1. create a `Session` object outside of the loop over countries.\n",
        "2. pass it to the `get_first_paragraph()` function as an argument."
      ]
    },
    {
      "cell_type": "code",
      "execution_count": 163,
      "metadata": {
        "id": "Kt6JtKDpOAIe"
      },
      "outputs": [],
      "source": [
        "import requests\n",
        "\n",
        "def get_leaders():\n",
        "    root_url = \"https://country-leaders.onrender.com\"\n",
        "    cookie_url = f\"{root_url}/cookie\"\n",
        "    countries_url = f\"{root_url}/countries\"\n",
        "    leaders_url = f\"{root_url}/leaders\"\n",
        "\n",
        "    # Existing API calls (unchanged)\n",
        "    cookies = requests.get(cookie_url).cookies\n",
        "    countries = requests.get(countries_url, cookies=cookies).json()\n",
        "\n",
        "    leaders_per_country = {}\n",
        "    for country in countries:\n",
        "        leaders_per_country[country] = requests.get(\n",
        "            leaders_url, cookies=cookies, params={\"country\": country}\n",
        "        ).json()\n",
        "\n",
        "    # Create a single session for ALL Wikipedia calls and return it\n",
        "    wiki_session = requests.Session()\n",
        "    return leaders_per_country, wiki_session\n"
      ]
    },
    {
      "cell_type": "code",
      "execution_count": 166,
      "metadata": {},
      "outputs": [
        {
          "name": "stdout",
          "output_type": "stream",
          "text": [
            "Leader name: George Washington\n",
            "Wikipedia URL: https://en.wikipedia.org/wiki/George_Washington\n",
            "\n",
            "Extracted first paragraph:\n",
            "\n",
            "George Washington (February 22, 1732 – December 14 , 1799) was a Founding Father and the first president of the United States , serving from 1789 to 1797. As commander of the Continental Army , Washington led Patriot forces to victory in the American Revolutionary War against the British Empire . He is commonly known as the Father of the Nation for his role in bringing about American independence .\n"
          ]
        }
      ],
      "source": [
        "# Call get_leaders() — this now returns both the leaders data and the wiki session\n",
        "leaders_per_country, wiki_session = get_leaders()\n",
        "\n",
        "# Select the first Moroccan leader for example (country code \"ma\")\n",
        "leader = leaders_per_country[\"us\"][0]\n",
        "url = leader.get(\"wikipedia_url\")\n",
        "\n",
        "# Get the first paragraph using the same session\n",
        "leader[\"first_paragraph\"] = get_first_paragraph(url, session=wiki_session) if url else None\n",
        "\n",
        "# Print the results\n",
        "print(f\"Leader name: {leader['first_name']} {leader['last_name']}\")\n",
        "print(f\"Wikipedia URL: {url}\")\n",
        "print(\"\\nExtracted first paragraph:\\n\")\n",
        "print(leader[\"first_paragraph\"])\n"
      ]
    },
    {
      "attachments": {},
      "cell_type": "markdown",
      "metadata": {
        "id": "LtLTvw3wPqe0"
      },
      "source": [
        "## 4. Saving your hard work\n",
        "\n",
        "The final step is to save the ``leaders_per_country`` dictionary in the `leaders.json` file using the [json](https://docs.python.org/3/library/json.html) module. Check out the `with` statement."
      ]
    },
    {
      "cell_type": "code",
      "execution_count": 26,
      "metadata": {
        "id": "pTNGKKrOjNDk"
      },
      "outputs": [],
      "source": [
        "# 3 lines\n"
      ]
    },
    {
      "attachments": {},
      "cell_type": "markdown",
      "metadata": {
        "id": "v7uf_kfGCWmM"
      },
      "source": [
        "Make sure the file can be read back. Write the code to read the file. And check the variables are the same."
      ]
    },
    {
      "cell_type": "code",
      "execution_count": 27,
      "metadata": {
        "id": "4VwNjBYyjPzs"
      },
      "outputs": [],
      "source": [
        "# 3 lines\n"
      ]
    },
    {
      "cell_type": "markdown",
      "metadata": {
        "id": "1fW_U7gXktyv"
      },
      "source": [
        "Make a function `save(leaders_per_country)` to call this code easily."
      ]
    },
    {
      "cell_type": "code",
      "execution_count": 28,
      "metadata": {
        "id": "EfknpnTljqUd"
      },
      "outputs": [],
      "source": [
        "# 3 lines\n"
      ]
    },
    {
      "cell_type": "code",
      "execution_count": 29,
      "metadata": {
        "id": "lWQ6bbn31cix"
      },
      "outputs": [],
      "source": [
        "# Call the function (1 line)\n"
      ]
    },
    {
      "cell_type": "markdown",
      "metadata": {
        "id": "W5W6nPihlQo9"
      },
      "source": [
        "## 5. Tidy things up in a stand-alone python script\n",
        "\n",
        "Congratulations! You now have a working scraper! However, your code is scattered throughout this notebook along side the tutorials. Hardly production ready...\n",
        "\n",
        "Copy and paste what you need in a separate `leaders_scraper.py` file.\n",
        "Make sure it works by calling `python3 leaders_scraper.py`"
      ]
    },
    {
      "cell_type": "markdown",
      "metadata": {
        "id": "D0cvv193mlxY"
      },
      "source": [
        "## (Optional) To go further\n",
        "\n",
        "If you want to practice scraping, you can read this section and tackle the exercises.\n",
        "\n",
        "1. Restructure your code by using OOP (see ReadMe).\n",
        "2. You have noticed the API returns very partial results for country leaders. Many are missing. Overwrite the `get_leaders()` function to get its list from Wikipedia and extract their *personal details* from the frame on the side.\n",
        "\n",
        "Good luck!"
      ]
    }
  ],
  "metadata": {
    "colab": {
      "collapsed_sections": [],
      "provenance": [],
      "toc_visible": true
    },
    "kernelspec": {
      "display_name": "Python 3",
      "language": "python",
      "name": "python3"
    },
    "language_info": {
      "codemirror_mode": {
        "name": "ipython",
        "version": 3
      },
      "file_extension": ".py",
      "mimetype": "text/x-python",
      "name": "python",
      "nbconvert_exporter": "python",
      "pygments_lexer": "ipython3",
      "version": "3.12.4"
    }
  },
  "nbformat": 4,
  "nbformat_minor": 0
}
